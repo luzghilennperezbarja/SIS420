{
  "cells": [
    {
      "cell_type": "code",
      "execution_count": 1,
      "metadata": {
        "id": "8KjAIfPny0m9"
      },
      "outputs": [],
      "source": [
        "# se utiliza para el manejo de rutas y directorios.\n",
        "import os\n",
        "\n",
        "# Calculo cientifico y vectorial para python\n",
        "import numpy as np\n",
        "\n",
        "# Librerias para graficar\n",
        "from matplotlib import pyplot\n",
        "\n",
        "# Modulo de optimización de scipy\n",
        "from scipy import optimize\n",
        "\n",
        "# le dice a matplotlib que incruste gráficos en el cuaderno\n",
        "%matplotlib inline"
      ]
    },
    {
      "cell_type": "code",
      "execution_count": 2,
      "metadata": {
        "id": "YPJW6-UJy4s2"
      },
      "outputs": [],
      "source": [
        "import pandas as pd\n",
        "from sklearn.preprocessing import LabelEncoder\n",
        "from datetime import datetime\n",
        "from sklearn.model_selection import train_test_split"
      ]
    },
    {
      "cell_type": "code",
      "execution_count": 3,
      "metadata": {
        "id": "Qflp7AR6y58c"
      },
      "outputs": [],
      "source": [
        "#Carga de dataset\n",
        "data = pd.read_csv('Bank_registries.csv', header=0, sep=',')"
      ]
    },
    {
      "cell_type": "code",
      "execution_count": 4,
      "metadata": {
        "colab": {
          "base_uri": "https://localhost:8080/"
        },
        "id": "rFeytR3UzcyK",
        "outputId": "24df5cfb-9c91-4fe9-f22c-97434646dd82"
      },
      "outputs": [
        {
          "output_type": "stream",
          "name": "stdout",
          "text": [
            "      RowNumber  CustomerId    Surname  CreditScore Geography  Gender  Age  \\\n",
            "0             1    15634602   Hargrave          619    France  Female   42   \n",
            "1             2    15647311       Hill          608     Spain  Female   41   \n",
            "2             3    15619304       Onio          502    France  Female   42   \n",
            "3             4    15701354       Boni          699    France  Female   39   \n",
            "4             5    15737888   Mitchell          850     Spain  Female   43   \n",
            "...         ...         ...        ...          ...       ...     ...  ...   \n",
            "9995       9996    15606229   Obijiaku          771    France    Male   39   \n",
            "9996       9997    15569892  Johnstone          516    France    Male   35   \n",
            "9997       9998    15584532        Liu          709    France  Female   36   \n",
            "9998       9999    15682355  Sabbatini          772   Germany    Male   42   \n",
            "9999      10000    15628319     Walker          792    France  Female   28   \n",
            "\n",
            "      Tenure    Balance  NumOfProducts  HasCrCard  IsActiveMember  \\\n",
            "0          2       0.00              1          1               1   \n",
            "1          1   83807.86              1          0               1   \n",
            "2          8  159660.80              3          1               0   \n",
            "3          1       0.00              2          0               0   \n",
            "4          2  125510.82              1          1               1   \n",
            "...      ...        ...            ...        ...             ...   \n",
            "9995       5       0.00              2          1               0   \n",
            "9996      10   57369.61              1          1               1   \n",
            "9997       7       0.00              1          0               1   \n",
            "9998       3   75075.31              2          1               0   \n",
            "9999       4  130142.79              1          1               0   \n",
            "\n",
            "      EstimatedSalary  Exited  \n",
            "0           101348.88       1  \n",
            "1           112542.58       0  \n",
            "2           113931.57       1  \n",
            "3            93826.63       0  \n",
            "4            79084.10       0  \n",
            "...               ...     ...  \n",
            "9995         96270.64       0  \n",
            "9996        101699.77       0  \n",
            "9997         42085.58       1  \n",
            "9998         92888.52       1  \n",
            "9999         38190.78       0  \n",
            "\n",
            "[10000 rows x 14 columns]\n"
          ]
        }
      ],
      "source": [
        "#mostramos el dataset\n",
        "print(data)"
      ]
    },
    {
      "cell_type": "code",
      "execution_count": 5,
      "metadata": {
        "colab": {
          "base_uri": "https://localhost:8080/"
        },
        "id": "N_rDX9MNzdvU",
        "outputId": "07836e16-2907-40a4-8779-b95dbbef73b5"
      },
      "outputs": [
        {
          "output_type": "stream",
          "name": "stdout",
          "text": [
            "<class 'pandas.core.frame.DataFrame'>\n",
            "RangeIndex: 10000 entries, 0 to 9999\n",
            "Data columns (total 14 columns):\n",
            " #   Column           Non-Null Count  Dtype  \n",
            "---  ------           --------------  -----  \n",
            " 0   RowNumber        10000 non-null  int64  \n",
            " 1   CustomerId       10000 non-null  int64  \n",
            " 2   Surname          10000 non-null  object \n",
            " 3   CreditScore      10000 non-null  int64  \n",
            " 4   Geography        10000 non-null  object \n",
            " 5   Gender           10000 non-null  object \n",
            " 6   Age              10000 non-null  int64  \n",
            " 7   Tenure           10000 non-null  int64  \n",
            " 8   Balance          10000 non-null  float64\n",
            " 9   NumOfProducts    10000 non-null  int64  \n",
            " 10  HasCrCard        10000 non-null  int64  \n",
            " 11  IsActiveMember   10000 non-null  int64  \n",
            " 12  EstimatedSalary  10000 non-null  float64\n",
            " 13  Exited           10000 non-null  int64  \n",
            "dtypes: float64(2), int64(9), object(3)\n",
            "memory usage: 1.1+ MB\n"
          ]
        }
      ],
      "source": [
        "# observamos si nos faltan datos\n",
        "data.info()"
      ]
    },
    {
      "cell_type": "code",
      "execution_count": 6,
      "metadata": {
        "colab": {
          "base_uri": "https://localhost:8080/"
        },
        "id": "1rnE4nftzifU",
        "outputId": "827792e0-d4c4-405b-df78-27462e26c07c"
      },
      "outputs": [
        {
          "output_type": "stream",
          "name": "stdout",
          "text": [
            "      CreditScore Geography  Gender  Age  Tenure    Balance  NumOfProducts  \\\n",
            "0             619    France  Female   42       2       0.00              1   \n",
            "1             608     Spain  Female   41       1   83807.86              1   \n",
            "2             502    France  Female   42       8  159660.80              3   \n",
            "3             699    France  Female   39       1       0.00              2   \n",
            "4             850     Spain  Female   43       2  125510.82              1   \n",
            "...           ...       ...     ...  ...     ...        ...            ...   \n",
            "9995          771    France    Male   39       5       0.00              2   \n",
            "9996          516    France    Male   35      10   57369.61              1   \n",
            "9997          709    France  Female   36       7       0.00              1   \n",
            "9998          772   Germany    Male   42       3   75075.31              2   \n",
            "9999          792    France  Female   28       4  130142.79              1   \n",
            "\n",
            "      HasCrCard  IsActiveMember  EstimatedSalary  Exited  \n",
            "0             1               1        101348.88       1  \n",
            "1             0               1        112542.58       0  \n",
            "2             1               0        113931.57       1  \n",
            "3             0               0         93826.63       0  \n",
            "4             1               1         79084.10       0  \n",
            "...         ...             ...              ...     ...  \n",
            "9995          1               0         96270.64       0  \n",
            "9996          1               1        101699.77       0  \n",
            "9997          0               1         42085.58       1  \n",
            "9998          1               0         92888.52       1  \n",
            "9999          1               0         38190.78       0  \n",
            "\n",
            "[10000 rows x 11 columns]\n"
          ]
        }
      ],
      "source": [
        "# Eliminar columnas irrelevantes para la regresion\n",
        "columna_eliminar = ['RowNumber', 'CustomerId', 'Surname']\n",
        "data.drop(columna_eliminar, axis=1, inplace=True)\n",
        "\n",
        "# Muestra el DataFrame resultante\n",
        "print(data)"
      ]
    },
    {
      "cell_type": "code",
      "execution_count": 7,
      "metadata": {
        "colab": {
          "base_uri": "https://localhost:8080/"
        },
        "id": "JF-hiBn3zneC",
        "outputId": "db6f5755-89de-4e4a-c45b-6aeeca5d4121"
      },
      "outputs": [
        {
          "output_type": "stream",
          "name": "stdout",
          "text": [
            "<class 'pandas.core.frame.DataFrame'>\n",
            "RangeIndex: 10000 entries, 0 to 9999\n",
            "Data columns (total 11 columns):\n",
            " #   Column           Non-Null Count  Dtype  \n",
            "---  ------           --------------  -----  \n",
            " 0   CreditScore      10000 non-null  int64  \n",
            " 1   Geography        10000 non-null  object \n",
            " 2   Gender           10000 non-null  object \n",
            " 3   Age              10000 non-null  int64  \n",
            " 4   Tenure           10000 non-null  int64  \n",
            " 5   Balance          10000 non-null  float64\n",
            " 6   NumOfProducts    10000 non-null  int64  \n",
            " 7   HasCrCard        10000 non-null  int64  \n",
            " 8   IsActiveMember   10000 non-null  int64  \n",
            " 9   EstimatedSalary  10000 non-null  float64\n",
            " 10  Exited           10000 non-null  int64  \n",
            "dtypes: float64(2), int64(7), object(2)\n",
            "memory usage: 859.5+ KB\n"
          ]
        }
      ],
      "source": [
        "data.info()"
      ]
    },
    {
      "cell_type": "code",
      "execution_count": 8,
      "metadata": {
        "id": "2EhQRXNCOjr3"
      },
      "outputs": [],
      "source": [
        "columnas_categoricas = data.select_dtypes(include=['object']).columns"
      ]
    },
    {
      "cell_type": "code",
      "execution_count": 9,
      "metadata": {
        "id": "_1CBI0gcOjr4"
      },
      "outputs": [],
      "source": [
        "#procesamiento de frases\n",
        "for columna in columnas_categoricas:\n",
        "  le = LabelEncoder()\n",
        "  data[columna] = le.fit_transform(data[columna])"
      ]
    },
    {
      "cell_type": "code",
      "source": [
        "print(data)"
      ],
      "metadata": {
        "colab": {
          "base_uri": "https://localhost:8080/"
        },
        "id": "APTq6ls0WxZQ",
        "outputId": "5bdbf6db-8a72-48b5-c570-40aa402be32d"
      },
      "execution_count": 10,
      "outputs": [
        {
          "output_type": "stream",
          "name": "stdout",
          "text": [
            "      CreditScore  Geography  Gender  Age  Tenure    Balance  NumOfProducts  \\\n",
            "0             619          0       0   42       2       0.00              1   \n",
            "1             608          2       0   41       1   83807.86              1   \n",
            "2             502          0       0   42       8  159660.80              3   \n",
            "3             699          0       0   39       1       0.00              2   \n",
            "4             850          2       0   43       2  125510.82              1   \n",
            "...           ...        ...     ...  ...     ...        ...            ...   \n",
            "9995          771          0       1   39       5       0.00              2   \n",
            "9996          516          0       1   35      10   57369.61              1   \n",
            "9997          709          0       0   36       7       0.00              1   \n",
            "9998          772          1       1   42       3   75075.31              2   \n",
            "9999          792          0       0   28       4  130142.79              1   \n",
            "\n",
            "      HasCrCard  IsActiveMember  EstimatedSalary  Exited  \n",
            "0             1               1        101348.88       1  \n",
            "1             0               1        112542.58       0  \n",
            "2             1               0        113931.57       1  \n",
            "3             0               0         93826.63       0  \n",
            "4             1               1         79084.10       0  \n",
            "...         ...             ...              ...     ...  \n",
            "9995          1               0         96270.64       0  \n",
            "9996          1               1        101699.77       0  \n",
            "9997          0               1         42085.58       1  \n",
            "9998          1               0         92888.52       1  \n",
            "9999          1               0         38190.78       0  \n",
            "\n",
            "[10000 rows x 11 columns]\n"
          ]
        }
      ]
    },
    {
      "cell_type": "code",
      "execution_count": 11,
      "metadata": {
        "id": "ZCYXfP97zsJo"
      },
      "outputs": [],
      "source": [
        "X = data.iloc[:, :10]\n",
        "y = data.iloc[:, 10]\n",
        "m = y.size"
      ]
    },
    {
      "cell_type": "code",
      "execution_count": 12,
      "metadata": {
        "colab": {
          "base_uri": "https://localhost:8080/"
        },
        "id": "MFPbLSHBzwno",
        "outputId": "984c178e-9313-4bb3-986e-a69ba697006d"
      },
      "outputs": [
        {
          "output_type": "stream",
          "name": "stdout",
          "text": [
            "      CreditScore  Geography  Gender  Age  Tenure    Balance  NumOfProducts  \\\n",
            "0             619          0       0   42       2       0.00              1   \n",
            "1             608          2       0   41       1   83807.86              1   \n",
            "2             502          0       0   42       8  159660.80              3   \n",
            "3             699          0       0   39       1       0.00              2   \n",
            "4             850          2       0   43       2  125510.82              1   \n",
            "...           ...        ...     ...  ...     ...        ...            ...   \n",
            "9995          771          0       1   39       5       0.00              2   \n",
            "9996          516          0       1   35      10   57369.61              1   \n",
            "9997          709          0       0   36       7       0.00              1   \n",
            "9998          772          1       1   42       3   75075.31              2   \n",
            "9999          792          0       0   28       4  130142.79              1   \n",
            "\n",
            "      HasCrCard  IsActiveMember  EstimatedSalary  \n",
            "0             1               1        101348.88  \n",
            "1             0               1        112542.58  \n",
            "2             1               0        113931.57  \n",
            "3             0               0         93826.63  \n",
            "4             1               1         79084.10  \n",
            "...         ...             ...              ...  \n",
            "9995          1               0         96270.64  \n",
            "9996          1               1        101699.77  \n",
            "9997          0               1         42085.58  \n",
            "9998          1               0         92888.52  \n",
            "9999          1               0         38190.78  \n",
            "\n",
            "[10000 rows x 10 columns]\n",
            "***************\n",
            "0       1\n",
            "1       0\n",
            "2       1\n",
            "3       0\n",
            "4       0\n",
            "       ..\n",
            "9995    0\n",
            "9996    0\n",
            "9997    1\n",
            "9998    1\n",
            "9999    0\n",
            "Name: Exited, Length: 10000, dtype: int64\n"
          ]
        }
      ],
      "source": [
        "print(X)\n",
        "print('*'*15)\n",
        "print(y)"
      ]
    },
    {
      "cell_type": "code",
      "execution_count": 13,
      "metadata": {
        "id": "02MRgs3YOjr5"
      },
      "outputs": [],
      "source": [
        "\n",
        "# Division de dataset en entrenamiento y prueba\n",
        "train_dataB, test_dataB = train_test_split(data, test_size=0.2, random_state=42)"
      ]
    },
    {
      "cell_type": "code",
      "execution_count": 14,
      "metadata": {
        "colab": {
          "base_uri": "https://localhost:8080/"
        },
        "id": "-s9XJT2GOjr5",
        "outputId": "2e779515-2675-4c9b-db9c-f30a10edd027"
      },
      "outputs": [
        {
          "output_type": "stream",
          "name": "stdout",
          "text": [
            "Datos entrenamiento> \n",
            "      CreditScore  Geography  Gender  Age  Tenure    Balance  NumOfProducts  \\\n",
            "9254          686          0       1   32       6       0.00              2   \n",
            "1561          632          1       1   42       4  119624.60              2   \n",
            "1670          559          2       1   24       3  114739.92              1   \n",
            "6087          561          0       0   27       9  135637.00              1   \n",
            "6669          517          0       1   56       9  142147.32              1   \n",
            "...           ...        ...     ...  ...     ...        ...            ...   \n",
            "5734          768          0       1   54       8   69712.74              1   \n",
            "5191          682          0       0   58       1       0.00              1   \n",
            "5390          735          0       0   38       1       0.00              3   \n",
            "860           667          0       1   43       8  190227.46              1   \n",
            "7270          697          1       1   51       1  147910.30              1   \n",
            "\n",
            "      HasCrCard  IsActiveMember  EstimatedSalary  Exited  \n",
            "9254          1               1        179093.26       0  \n",
            "1561          1               1        195978.86       0  \n",
            "1670          1               0         85891.02       1  \n",
            "6087          1               0        153080.40       1  \n",
            "6669          0               0         39488.04       1  \n",
            "...         ...             ...              ...     ...  \n",
            "5734          1               1         69381.05       0  \n",
            "5191          1               1           706.50       0  \n",
            "5390          0               0         92220.12       1  \n",
            "860           1               0         97508.04       1  \n",
            "7270          1               1         53581.14       0  \n",
            "\n",
            "[8000 rows x 11 columns]\n"
          ]
        }
      ],
      "source": [
        "print(\"Datos entrenamiento> \")\n",
        "print(train_dataB)"
      ]
    },
    {
      "cell_type": "code",
      "execution_count": 15,
      "metadata": {
        "colab": {
          "base_uri": "https://localhost:8080/"
        },
        "id": "dFgN8Y04Ojr5",
        "outputId": "3015cfb5-3cf8-425f-86b5-a180b17c00ba"
      },
      "outputs": [
        {
          "output_type": "stream",
          "name": "stdout",
          "text": [
            "Datos de prueba> \n",
            "      CreditScore  Geography  Gender  Age  Tenure    Balance  NumOfProducts  \\\n",
            "6252          596          1       1   32       3   96709.07              2   \n",
            "4684          623          0       1   43       1       0.00              2   \n",
            "1731          601          2       0   44       4       0.00              2   \n",
            "4742          506          1       1   59       8  119152.10              2   \n",
            "4521          560          2       0   27       7  124995.98              1   \n",
            "...           ...        ...     ...  ...     ...        ...            ...   \n",
            "6412          602          1       0   53       5   98268.84              1   \n",
            "8285          609          0       1   25      10       0.00              1   \n",
            "7853          730          0       0   47       7       0.00              1   \n",
            "1095          692          0       1   29       4       0.00              1   \n",
            "6929          628          1       1   39       1  115341.19              1   \n",
            "\n",
            "      HasCrCard  IsActiveMember  EstimatedSalary  Exited  \n",
            "6252          0               0         41788.37       0  \n",
            "4684          1               1        146379.30       0  \n",
            "1731          1               0         58561.31       0  \n",
            "4742          1               1        170679.74       0  \n",
            "4521          1               1        114669.79       0  \n",
            "...         ...             ...              ...     ...  \n",
            "6412          0               1         45038.29       1  \n",
            "8285          0               1        109895.16       0  \n",
            "7853          1               0         33373.26       1  \n",
            "1095          1               0         76755.99       1  \n",
            "6929          1               1        107674.30       1  \n",
            "\n",
            "[2000 rows x 11 columns]\n"
          ]
        }
      ],
      "source": [
        "print(\"Datos de prueba> \")\n",
        "print(test_dataB)"
      ]
    },
    {
      "cell_type": "code",
      "execution_count": 16,
      "metadata": {
        "id": "4KT47ZnLOjr6"
      },
      "outputs": [],
      "source": [
        "train_dataB.to_csv(\"train.csv\", index=False)"
      ]
    },
    {
      "cell_type": "code",
      "execution_count": 17,
      "metadata": {
        "id": "kWAWZjd9Ojr6"
      },
      "outputs": [],
      "source": [
        "test_dataB.to_csv(\"test.csv\", index=False)"
      ]
    },
    {
      "cell_type": "code",
      "execution_count": 18,
      "metadata": {
        "id": "4nc4ZTDxOjr6"
      },
      "outputs": [],
      "source": [
        "#Carga de dataset\n",
        "data = pd.read_csv('train.csv')"
      ]
    },
    {
      "cell_type": "code",
      "execution_count": 19,
      "metadata": {
        "id": "p2r3LDLxOjr6"
      },
      "outputs": [],
      "source": [
        "X = data.iloc[:, :10]\n",
        "y = data.iloc[:, 10]\n",
        "m = y.size"
      ]
    },
    {
      "cell_type": "code",
      "execution_count": 20,
      "metadata": {
        "id": "gd0u9hINzzKI"
      },
      "outputs": [],
      "source": [
        "def  featureNormalize(X):\n",
        "    X_norm = X.copy()\n",
        "    mu = np.zeros(X.shape[1])\n",
        "    sigma = np.zeros(X.shape[1])\n",
        "\n",
        "    mu = np.mean(X, axis = 0)\n",
        "    sigma = np.std(X, axis = 0)\n",
        "    X_norm = (X - mu) / sigma\n",
        "\n",
        "    return X_norm, mu, sigma"
      ]
    },
    {
      "cell_type": "code",
      "execution_count": 21,
      "metadata": {
        "colab": {
          "base_uri": "https://localhost:8080/"
        },
        "id": "maQe64YWz0SV",
        "outputId": "bd230ff2-3626-40b0-9239-89e8ccb98fe3"
      },
      "outputs": [
        {
          "output_type": "stream",
          "name": "stdout",
          "text": [
            "      CreditScore  Geography  Gender  Age  Tenure    Balance  NumOfProducts  \\\n",
            "0             686          0       1   32       6       0.00              2   \n",
            "1             632          1       1   42       4  119624.60              2   \n",
            "2             559          2       1   24       3  114739.92              1   \n",
            "3             561          0       0   27       9  135637.00              1   \n",
            "4             517          0       1   56       9  142147.32              1   \n",
            "...           ...        ...     ...  ...     ...        ...            ...   \n",
            "7995          768          0       1   54       8   69712.74              1   \n",
            "7996          682          0       0   58       1       0.00              1   \n",
            "7997          735          0       0   38       1       0.00              3   \n",
            "7998          667          0       1   43       8  190227.46              1   \n",
            "7999          697          1       1   51       1  147910.30              1   \n",
            "\n",
            "      HasCrCard  IsActiveMember  EstimatedSalary  \n",
            "0             1               1        179093.26  \n",
            "1             1               1        195978.86  \n",
            "2             1               0         85891.02  \n",
            "3             1               0        153080.40  \n",
            "4             0               0         39488.04  \n",
            "...         ...             ...              ...  \n",
            "7995          1               1         69381.05  \n",
            "7996          1               1           706.50  \n",
            "7997          0               0         92220.12  \n",
            "7998          1               0         97508.04  \n",
            "7999          1               1         53581.14  \n",
            "\n",
            "[8000 rows x 10 columns]\n",
            "Media calculada: CreditScore           651.647625\n",
            "Geography               0.750125\n",
            "Gender                  0.545250\n",
            "Age                    38.897750\n",
            "Tenure                  5.003875\n",
            "Balance             76102.139645\n",
            "NumOfProducts           1.531375\n",
            "HasCrCard               0.703500\n",
            "IsActiveMember          0.512750\n",
            "EstimatedSalary    100431.289764\n",
            "dtype: float64\n",
            "Desviación estandar calculada: CreditScore           96.360177\n",
            "Geography              0.828364\n",
            "Gender                 0.497948\n",
            "Age                   10.518296\n",
            "Tenure                 2.881642\n",
            "Balance            62457.101822\n",
            "NumOfProducts          0.579669\n",
            "HasCrCard              0.456714\n",
            "IsActiveMember         0.499837\n",
            "EstimatedSalary    57515.325387\n",
            "dtype: float64\n",
            "      CreditScore  Geography    Gender       Age    Tenure   Balance  \\\n",
            "0        0.356500  -0.905550  0.913248 -0.655786  0.345680 -1.218471   \n",
            "1       -0.203898   0.301649  0.913248  0.294938 -0.348369  0.696838   \n",
            "2       -0.961472   1.508847  0.913248 -1.416365 -0.695393  0.618629   \n",
            "3       -0.940717  -0.905550 -1.094993 -1.131148  1.386753  0.953212   \n",
            "4       -1.397337  -0.905550  0.913248  1.625953  1.386753  1.057449   \n",
            "...           ...        ...       ...       ...       ...       ...   \n",
            "7995     1.207474  -0.905550  0.913248  1.435808  1.039728 -0.102301   \n",
            "7996     0.314989  -0.905550 -1.094993  1.816097 -1.389442 -1.218471   \n",
            "7997     0.865009  -0.905550 -1.094993 -0.085351 -1.389442 -1.218471   \n",
            "7998     0.159323  -0.905550  0.913248  0.390011  1.039728  1.827259   \n",
            "7999     0.470655   0.301649  0.913248  1.150590 -1.389442  1.149720   \n",
            "\n",
            "      NumOfProducts  HasCrCard  IsActiveMember  EstimatedSalary  \n",
            "0          0.808436   0.649203        0.974817         1.367670  \n",
            "1          0.808436   0.649203        0.974817         1.661254  \n",
            "2         -0.916688   0.649203       -1.025834        -0.252807  \n",
            "3         -0.916688   0.649203       -1.025834         0.915393  \n",
            "4         -0.916688  -1.540351       -1.025834        -1.059600  \n",
            "...             ...        ...             ...              ...  \n",
            "7995      -0.916688   0.649203        0.974817        -0.539860  \n",
            "7996      -0.916688   0.649203        0.974817        -1.733882  \n",
            "7997       2.533560  -1.540351       -1.025834        -0.142765  \n",
            "7998      -0.916688   0.649203       -1.025834        -0.050826  \n",
            "7999      -0.916688   0.649203        0.974817        -0.814568  \n",
            "\n",
            "[8000 rows x 10 columns]\n"
          ]
        }
      ],
      "source": [
        "# llama featureNormalize con los datos cargados\n",
        "X_norm, mu, sigma = featureNormalize(X)\n",
        "\n",
        "print(X)\n",
        "print('Media calculada:', mu)\n",
        "print('Desviación estandar calculada:', sigma)\n",
        "print(X_norm)"
      ]
    },
    {
      "cell_type": "code",
      "execution_count": 22,
      "metadata": {
        "id": "-PG5rWoyR2zN"
      },
      "outputs": [],
      "source": [
        "def sigmoid(z):\n",
        "    # Calcula la sigmoide de una entrada z\n",
        "    # convierte la intrada a un arreglo numpy\n",
        "    z = np.array(z)\n",
        "\n",
        "    g = np.zeros(z.shape)\n",
        "\n",
        "    g = 1 / (1 + np.exp(-z))\n",
        "\n",
        "    return g"
      ]
    },
    {
      "cell_type": "code",
      "execution_count": 23,
      "metadata": {
        "colab": {
          "base_uri": "https://localhost:8080/"
        },
        "id": "x_vpit-cz33W",
        "outputId": "77489bc3-6231-42b9-ad5d-882598da8d75"
      },
      "outputs": [
        {
          "output_type": "stream",
          "name": "stdout",
          "text": [
            "g( 0 ) =  0.5\n"
          ]
        }
      ],
      "source": [
        "# Prueba la implementacion de la funcion sigmoid\n",
        "z = 0\n",
        "g = sigmoid(z)\n",
        "\n",
        "print('g(', z, ') = ', g)"
      ]
    },
    {
      "cell_type": "code",
      "execution_count": 24,
      "metadata": {
        "id": "ahiiYY_uz5J0"
      },
      "outputs": [],
      "source": [
        "# Configurar la matriz adecuadamente, y agregar una columna de unos que corresponde al termino de intercepción.\n",
        "m, n = X.shape\n",
        "# Agraga el termino de intercepción a A\n",
        "X = np.concatenate([np.ones((m, 1)), X_norm], axis=1)"
      ]
    },
    {
      "cell_type": "code",
      "execution_count": 25,
      "metadata": {
        "id": "0Je8OHW4z6eY"
      },
      "outputs": [],
      "source": [
        "def calcularCosto(theta, X, y):\n",
        "    # Inicializar algunos valores utiles\n",
        "    m = y.size  # numero de ejemplos de entrenamiento\n",
        "    #epsilon = 1e-8\n",
        "\n",
        "    J = 0\n",
        "    h = sigmoid(X.dot(theta.T))\n",
        "    J = (1 / m) * np.sum(-y.dot(np.log(h)) - (1 - y).dot(np.log(1 - h)))\n",
        "\n",
        "    return J"
      ]
    },
    {
      "cell_type": "code",
      "execution_count": 26,
      "metadata": {
        "id": "1BuahUQIz710"
      },
      "outputs": [],
      "source": [
        "def descensoGradiente(theta, X, y, alpha, num_iters):\n",
        "    # Inicializa algunos valores\n",
        "    m = y.shape[0] # numero de ejemplos de entrenamiento\n",
        "\n",
        "    # realiza una copia de theta, el cual será acutalizada por el descenso por el gradiente\n",
        "    theta = theta.copy()\n",
        "    J_history = []\n",
        "\n",
        "    for i in range(num_iters):\n",
        "        h = sigmoid(X.dot(theta.T))\n",
        "        theta = theta - (alpha / m) * (h - y).dot(X)\n",
        "\n",
        "        J_history.append(calcularCosto(theta, X, y))\n",
        "    return theta, J_history"
      ]
    },
    {
      "cell_type": "code",
      "execution_count": 27,
      "metadata": {
        "colab": {
          "base_uri": "https://localhost:8080/"
        },
        "id": "TxI3wPZ3Ojr-",
        "outputId": "b1dd37c5-55b1-4086-d603-f84c2721ddfe"
      },
      "outputs": [
        {
          "output_type": "stream",
          "name": "stdout",
          "text": [
            "      CreditScore  Geography  Gender  Age  Tenure    Balance  NumOfProducts  \\\n",
            "0             596          1       1   32       3   96709.07              2   \n",
            "1             623          0       1   43       1       0.00              2   \n",
            "2             601          2       0   44       4       0.00              2   \n",
            "3             506          1       1   59       8  119152.10              2   \n",
            "4             560          2       0   27       7  124995.98              1   \n",
            "...           ...        ...     ...  ...     ...        ...            ...   \n",
            "1995          602          1       0   53       5   98268.84              1   \n",
            "1996          609          0       1   25      10       0.00              1   \n",
            "1997          730          0       0   47       7       0.00              1   \n",
            "1998          692          0       1   29       4       0.00              1   \n",
            "1999          628          1       1   39       1  115341.19              1   \n",
            "\n",
            "      HasCrCard  IsActiveMember  EstimatedSalary  Exited  \n",
            "0             0               0         41788.37       0  \n",
            "1             1               1        146379.30       0  \n",
            "2             1               0         58561.31       0  \n",
            "3             1               1        170679.74       0  \n",
            "4             1               1        114669.79       0  \n",
            "...         ...             ...              ...     ...  \n",
            "1995          0               1         45038.29       1  \n",
            "1996          0               1        109895.16       0  \n",
            "1997          1               0         33373.26       1  \n",
            "1998          1               0         76755.99       1  \n",
            "1999          1               1        107674.30       1  \n",
            "\n",
            "[2000 rows x 11 columns]\n"
          ]
        }
      ],
      "source": [
        "#Carga de dataset\n",
        "data = pd.read_csv('test.csv')\n",
        "print(data)"
      ]
    },
    {
      "cell_type": "code",
      "execution_count": 36,
      "metadata": {
        "colab": {
          "base_uri": "https://localhost:8080/",
          "height": 501
        },
        "id": "GxwVw6ySz9GG",
        "outputId": "81baa432-9cd5-4f89-8370-887d268ae59f"
      },
      "outputs": [
        {
          "output_type": "stream",
          "name": "stdout",
          "text": [
            "theta calculado por el descenso por el gradiente: [-1.5995349  -0.06655698  0.08843822 -0.2662551   0.74426625 -0.0393263\n",
            "  0.29734077 -0.02890221 -0.00334069 -0.52499175  0.0191943 ]\n",
            "El resaultado entre falso o verdadero es (usando el descenso por el gradiente):1\n"
          ]
        },
        {
          "output_type": "display_data",
          "data": {
            "text/plain": [
              "<Figure size 640x480 with 1 Axes>"
            ],
            "image/png": "[encoded data removed]"
          },
          "metadata": {}
        }
      ],
      "source": [
        "# Elegir algun valor para alpha (probar varias alternativas)\n",
        "alpha = 0.01\n",
        "num_iters = 5000\n",
        "\n",
        "# inicializa theta y ejecuta el descenso por el gradiente\n",
        "theta = np.zeros(11)\n",
        "theta, J_history = descensoGradiente(theta, X, y, alpha, num_iters)\n",
        "\n",
        "# Grafica la convergencia del costo\n",
        "pyplot.plot(np.arange(len(J_history)), J_history, lw=2)\n",
        "pyplot.xlabel('Numero de iteraciones')\n",
        "pyplot.ylabel('Costo J')\n",
        "\n",
        "# Muestra los resultados del descenso por el gradiente\n",
        "print('theta calculado por el descenso por el gradiente: {:s}'.format(str(theta)))\n",
        "\n",
        "# verificar si ingresa o no a la universidad\n",
        "X_array = [1, 619, 0, 0, 42, 2, 0, 1, 1, 1, 101348.88]\n",
        "aprueba = sigmoid(np.dot(X_array, theta))   # Se debe cambiar esto\n",
        "\n",
        "print('El resaultado entre falso o verdadero es (usando el descenso por el gradiente):{:.0f}'.format(aprueba))"
      ]
    },
    {
      "cell_type": "code",
      "execution_count": 37,
      "metadata": {
        "id": "zwVf17SG0CdU"
      },
      "outputs": [],
      "source": [
        "def costFunction(theta, X, y):\n",
        "    # Inicializar algunos valores utiles\n",
        "    m = y.size  # numero de ejemplos de entrenamiento\n",
        "    epsilon = 1e-8\n",
        "\n",
        "    J = 0\n",
        "    grad = np.zeros(theta.shape)\n",
        "\n",
        "    h = sigmoid(X.dot(theta.T))\n",
        "\n",
        "    J = (1 / m) * np.sum(-y.dot(np.log(h+epsilon)) - (1 - y).dot(np.log(1 - h+epsilon)))\n",
        "    grad = (1 / m) * (h - y).dot(X)\n",
        "\n",
        "    return J, grad"
      ]
    },
    {
      "cell_type": "code",
      "execution_count": 38,
      "metadata": {
        "colab": {
          "base_uri": "https://localhost:8080/"
        },
        "id": "yEWrSzQ-0D_8",
        "outputId": "14b45587-27bc-4c1b-ee9d-c2971814ccdd"
      },
      "outputs": [
        {
          "output_type": "stream",
          "name": "stdout",
          "text": [
            "[0. 0. 0. 0. 0. 0. 0. 0. 0. 0. 0.]\n",
            "Costo en theta inicial (zeros): 0.693\n",
            "Costo esperado (aproximado): 0.693\n",
            "\n",
            "[ 0.2945      0.01184189 -0.01596437  0.0430243  -0.11442085  0.00539495\n",
            " -0.04784872  0.02061102  0.00261487  0.06326082 -0.00439983]\n",
            "Gradiente en theta inicial (zeros):\n",
            "\t[0.2945, 0.0118, -0.0160, 0.0430, -0.1144, 0.0054, -0.0478, 0.0206, 0.0026, 0.0633]\n",
            "Gradiente esperado (aproximado):\n",
            "\t[-0.1000, -12.0092, -11.2628]\n",
            "\n"
          ]
        }
      ],
      "source": [
        "# Inicializacion de parametros de ajuste\n",
        "initial_theta = np.zeros(n+1)\n",
        "print(initial_theta)\n",
        "cost, grad = costFunction(initial_theta, X, y)\n",
        "\n",
        "print('Costo en theta inicial (zeros): {:.3f}'.format(cost))\n",
        "print('Costo esperado (aproximado): 0.693\\n')\n",
        "print(grad)\n",
        "print('Gradiente en theta inicial (zeros):')\n",
        "print('\\t[{:.4f}, {:.4f}, {:.4f}, {:.4f}, {:.4f}, {:.4f}, {:.4f}, {:.4f}, {:.4f}, {:.4f}]'.format(*grad))\n",
        "print('Gradiente esperado (aproximado):\\n\\t[-0.1000, -12.0092, -11.2628]\\n')"
      ]
    },
    {
      "cell_type": "code",
      "execution_count": 39,
      "metadata": {
        "colab": {
          "base_uri": "https://localhost:8080/"
        },
        "id": "9K2ifTi20FmE",
        "outputId": "c859b709-9106-401d-ea06-0af136aa86cc"
      },
      "outputs": [
        {
          "output_type": "stream",
          "name": "stdout",
          "text": [
            "[ 0.2963      0.01091188 -0.01447597  0.04289774 -0.11491341  0.00563872\n",
            " -0.04773889  0.01925938  0.00287472  0.06288042 -0.00487199]\n",
            "Costo en theta prueba: 0.816\n",
            "Gradiente en theta prueba:\n",
            "\t[0.368, 0.015, -0.021, 0.054, -0.142, 0.007, -0.062, 0.030, 0.004, 0.077]\n"
          ]
        }
      ],
      "source": [
        "# Calcula y muestra el costo y el gradiente con valores de theta diferentes a cero\n",
        "\n",
        "test_theta = np.array([0.2963, 0.01091188, -0.01447597, 0.04289774, -0.11491341, 0.00563872, -0.04773889, 0.01925938, 0.00287472, 0.06288042, -0.00487199])\n",
        "#test_theta = np.array([-11.74749157, 0.09927308, 0.09316497])\n",
        "print(test_theta)\n",
        "cost, grad = costFunction(test_theta, X, y)\n",
        "\n",
        "print('Costo en theta prueba: {:.3f}'.format(cost))\n",
        "\n",
        "print('Gradiente en theta prueba:')\n",
        "print('\\t[{:.3f}, {:.3f}, {:.3f}, {:.3f}, {:.3f}, {:.3f}, {:.3f}, {:.3f}, {:.3f}, {:.3f}]'.format(*grad))"
      ]
    },
    {
      "cell_type": "code",
      "execution_count": 40,
      "metadata": {
        "colab": {
          "base_uri": "https://localhost:8080/"
        },
        "id": "wQdmT1dP2Ubf",
        "outputId": "ac0566b5-eadb-4c6a-fe50-3786ebe09fd3"
      },
      "outputs": [
        {
          "output_type": "stream",
          "name": "stdout",
          "text": [
            "Costo con un valor de theta encontrado por optimize.minimize: 0.438\n",
            "theta:\n",
            "\t[-1.616, -0.067, 0.090, -0.270, 0.755, -0.040, 0.303, -0.027, -0.003, -0.537]\n"
          ]
        },
        {
          "output_type": "stream",
          "name": "stderr",
          "text": [
            "<ipython-input-40-1a790fbf24d8>:7: DeprecationWarning: 'maxiter' has been deprecated in favor of 'maxfun' and will be removed in SciPy 1.11.0.\n",
            "  res = optimize.minimize(costFunction,\n"
          ]
        }
      ],
      "source": [
        "# Establecer las opciones para optimize.minimize\n",
        "options= {'maxiter': 1000}\n",
        "\n",
        "# revisar la documentacion de scipy's optimize.minimize para mayor descripcion de los parametros\n",
        "# La funcion devuekve un objeto `OptimizeResult`\n",
        "# Se utiliza el algoritmo de Newton truncado para la optimización.\n",
        "res = optimize.minimize(costFunction,\n",
        "                        initial_theta,\n",
        "                        (X, y),\n",
        "                        jac=True,\n",
        "                        method='TNC',\n",
        "                        options=options)\n",
        "\n",
        "# la propiedad fun del objeto devuelto por `OptimizeResult`\n",
        "# contiene el valor del costFunction de un theta optimizado\n",
        "cost = res.fun\n",
        "\n",
        "# Theta optimizada esta en la propiedad x\n",
        "theta = res.x\n",
        "\n",
        "# Imprimir theta en la pantalla\n",
        "print('Costo con un valor de theta encontrado por optimize.minimize: {:.3f}'.format(cost))\n",
        "\n",
        "print('theta:')\n",
        "print('\\t[{:.3f}, {:.3f}, {:.3f}, {:.3f}, {:.3f}, {:.3f}, {:.3f}, {:.3f}, {:.3f}, {:.3f}]'.format(*theta))"
      ]
    },
    {
      "cell_type": "code",
      "execution_count": 41,
      "metadata": {
        "id": "2cN-5JvH2Xhh"
      },
      "outputs": [],
      "source": [
        "def plotDecisionBoundary(plotData, theta, X, y):\n",
        "    \"\"\"\n",
        "    Grafica los puntos X y Y en una nueva figura con un limite de desicion definido por theta.\n",
        "    the data points X and y into a new figure with the decision boundary defined by theta.\n",
        "    Grafica los puntos con * para los ejemplos positivos y con o para los ejemplos negativos.\n",
        "\n",
        "    Parametros:\n",
        "    ----------\n",
        "    plotData : func\n",
        "        A function reference for plotting the X, y data.\n",
        "\n",
        "    theta : array_like\n",
        "        Parametros para la regresion logistica. Un vecto de la forma (n+1, ).\n",
        "\n",
        "    X : array_like\n",
        "        Data set de entrada. Se supone que X es una de las siguientes:\n",
        "            1) Matriz Mx3, donde la primera columna es una columna de unos para intercepción.\n",
        "            2) Matriz MxN, N> 3, donde la primera columna son todos unos.\n",
        "\n",
        "    y : array_like\n",
        "        Vector de datos de etiquetas de la forma (m, ).\n",
        "    \"\"\"\n",
        "    # hacer que theta sera un arreglo numpy\n",
        "    theta = np.array(theta)\n",
        "\n",
        "    # Graficar los datos (recordar que la primera columna en X es la intercepción)\n",
        "    plotData(X[:, 1:7], y)\n",
        "\n",
        "    if X.shape[1] <= 7:\n",
        "        # Solo se requieren 2 puntos para definir una linea, para lo cual se eligen dos puntos finales\n",
        "        plot_x = np.array([np.min(X[:, 1]) - 2, np.max(X[:, 1]) + 2])\n",
        "\n",
        "        # Calcular la línea límite de decisión\n",
        "        plot_y = (-1. / theta[2]) * (theta[1] * plot_x + theta[0])\n",
        "\n",
        "        print(plot_x)\n",
        "        print(plot_y)\n",
        "        # Graficar y ajustar los ejes para una mejor visualización\n",
        "        pyplot.plot(plot_x, plot_y)\n",
        "\n",
        "        # Leyenda, especifica para el ejercicio\n",
        "        pyplot.legend(['Admitido', 'No admitido', 'Limite de decisión'])\n",
        "        pyplot.xlim([30, 100])\n",
        "        pyplot.ylim([30, 100])\n",
        "    else:\n",
        "        # Rango de la grilla\n",
        "        u = np.linspace(-1, 1.5, 50)\n",
        "        v = np.linspace(-1, 1.5, 50)\n",
        "\n",
        "        z = np.zeros((u.size, v.size))\n",
        "        # Evalua z = theta*x sobre la grilla\n",
        "        for i, ui in enumerate(u):\n",
        "            for j, vj in enumerate(v):\n",
        "                z[i, j] = np.dot(mapFeature(ui, vj), theta)\n",
        "\n",
        "        z = z.T  # importante transponer z antes de llamar al contorno\n",
        "        # print(z)\n",
        "\n",
        "        # Plot z = 0\n",
        "        pyplot.contour(u, v, z, levels=[0], linewidths=2, colors='g')\n",
        "        pyplot.contourf(u, v, z, levels=[np.min(z), 0, np.max(z)], cmap='Greens', alpha=0.4)"
      ]
    },
    {
      "cell_type": "code",
      "execution_count": 42,
      "metadata": {
        "id": "Rx-9uyRn2Z1X"
      },
      "outputs": [],
      "source": [
        "def predict(theta, X):\n",
        "    \"\"\"\n",
        "    Predecir si la etiqueta es 0 o 1 mediante regresión logística aprendida.\n",
        "    Calcula las predicciones para X usando un umbral en 0.5 (es decir, si sigmoide (theta.T * x)> = 0.5, predice 1)\n",
        "\n",
        "    Parametros\n",
        "    ----------\n",
        "    theta : array_like\n",
        "        Parametros para regresion logistica. Un vecto de la forma (n+1, ).\n",
        "\n",
        "    X : array_like\n",
        "        Datos utilizados para el calculo de las predicciones.\n",
        "        La fila es el numero de los puntos para calcular las predicciones,\n",
        "        y las columnas con el numero de caracteristicas.\n",
        "\n",
        "    Devuelve\n",
        "    -------\n",
        "    p : array_like\n",
        "        Predicciones y 0 o 1 para cada fila en X.\n",
        "    \"\"\"\n",
        "    m = X.shape[0] # Numero de ejemplo de entrenamiento\n",
        "\n",
        "    p = np.zeros(m)\n",
        "\n",
        "    p = np.round(sigmoid(X.dot(theta.T)))\n",
        "    return p"
      ]
    },
    {
      "cell_type": "code",
      "execution_count": 43,
      "metadata": {
        "colab": {
          "base_uri": "https://localhost:8080/"
        },
        "id": "KxJtIvWQ2eDF",
        "outputId": "0f928d3d-1ccf-4168-a958-8f40178b0154"
      },
      "outputs": [
        {
          "output_type": "stream",
          "name": "stdout",
          "text": [
            "Para un estudiante con notas de 45 y 85, se predice una probabilidad de admisión de: 1.000%\n",
            "Valor esperado: 0.775 +/- 0.002\n",
            "\n",
            "Precisión de entrenamiento: 80.67 %\n",
            "Precisión esperada (aproximadamente): 89.00 %\n"
          ]
        }
      ],
      "source": [
        "#  Predice la probabilidad de ingreso para un estudiante con nota de 45 en el examen 1 y nota de 85 en el examen 2\n",
        "prob = sigmoid(np.dot([1, 619, 0, 0, 42, 2, 0, 1, 1, 1, 101348.88], theta))\n",
        "print('Para un estudiante con notas de 45 y 85, se predice una probabilidad de admisión de: {:.3f}%'.format(prob))\n",
        "print('Valor esperado: 0.775 +/- 0.002\\n')\n",
        "\n",
        "# Compute accuracy on our training set\n",
        "p = predict(theta, X)\n",
        "print('Precisión de entrenamiento: {:.2f} %'.format(np.mean(p == y) * 100))\n",
        "print('Precisión esperada (aproximadamente): 89.00 %')"
      ]
    }
  ],
  "metadata": {
    "colab": {
      "provenance": []
    },
    "kernelspec": {
      "display_name": "Python 3",
      "name": "python3"
    },
    "language_info": {
      "codemirror_mode": {
        "name": "ipython",
        "version": 3
      },
      "file_extension": ".py",
      "mimetype": "text/x-python",
      "name": "python",
      "nbconvert_exporter": "python",
      "pygments_lexer": "ipython3",
      "version": "3.9.7"
    }
  },
  "nbformat": 4,
  "nbformat_minor": 0
}