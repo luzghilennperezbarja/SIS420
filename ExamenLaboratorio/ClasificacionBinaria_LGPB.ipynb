{
  "nbformat": 4,
  "nbformat_minor": 0,
  "metadata": {
    "colab": {
      "provenance": []
    },
    "kernelspec": {
      "name": "python3",
      "display_name": "Python 3"
    },
    "language_info": {
      "name": "python"
    }
  },
  "cells": [
    {
      "cell_type": "code",
      "execution_count": 3,
      "metadata": {
        "id": "0vVtV_OK9Hpb"
      },
      "outputs": [],
      "source": [
        "# Importar las bibliotecas necesarias\n",
        "import torch\n",
        "import torch.nn as nn\n",
        "import torch.optim as optim\n",
        "import pandas as pd\n",
        "from sklearn.model_selection import train_test_split\n",
        "from sklearn.preprocessing import MinMaxScaler\n",
        "from sklearn.preprocessing import LabelEncoder\n",
        "from datetime import datetime"
      ]
    },
    {
      "cell_type": "code",
      "source": [
        "data = pd.read_csv('diabetes_prediction_dataset.csv')"
      ],
      "metadata": {
        "id": "hivQcACWAXdq"
      },
      "execution_count": 4,
      "outputs": []
    },
    {
      "cell_type": "code",
      "source": [
        "data.info()\n"
      ],
      "metadata": {
        "colab": {
          "base_uri": "https://localhost:8080/"
        },
        "id": "K8s2oEuRApVS",
        "outputId": "061c512d-2e1c-49dd-807a-256c2d717cac"
      },
      "execution_count": 5,
      "outputs": [
        {
          "output_type": "stream",
          "name": "stdout",
          "text": [
            "<class 'pandas.core.frame.DataFrame'>\n",
            "RangeIndex: 100000 entries, 0 to 99999\n",
            "Data columns (total 9 columns):\n",
            " #   Column               Non-Null Count   Dtype  \n",
            "---  ------               --------------   -----  \n",
            " 0   gender               100000 non-null  object \n",
            " 1   age                  100000 non-null  float64\n",
            " 2   hypertension         100000 non-null  int64  \n",
            " 3   heart_disease        100000 non-null  int64  \n",
            " 4   smoking_history      100000 non-null  object \n",
            " 5   bmi                  100000 non-null  float64\n",
            " 6   HbA1c_level          100000 non-null  float64\n",
            " 7   blood_glucose_level  100000 non-null  int64  \n",
            " 8   diabetes             100000 non-null  int64  \n",
            "dtypes: float64(3), int64(4), object(2)\n",
            "memory usage: 6.9+ MB\n"
          ]
        }
      ]
    },
    {
      "cell_type": "code",
      "source": [
        "columnas_categoricas = data.select_dtypes(include=['object']).columns"
      ],
      "metadata": {
        "id": "IOxtnVmAAt_q"
      },
      "execution_count": 6,
      "outputs": []
    },
    {
      "cell_type": "code",
      "source": [
        "for columna in columnas_categoricas:\n",
        "  le = LabelEncoder()\n",
        "  data[columna] = le.fit_transform(data[columna])"
      ],
      "metadata": {
        "id": "TGTugmBoAym-"
      },
      "execution_count": 7,
      "outputs": []
    },
    {
      "cell_type": "code",
      "source": [
        "data.info()"
      ],
      "metadata": {
        "colab": {
          "base_uri": "https://localhost:8080/"
        },
        "id": "2TolENEIPMlY",
        "outputId": "79ed7adb-d48e-47e6-993c-1925ae4d8558"
      },
      "execution_count": 8,
      "outputs": [
        {
          "output_type": "stream",
          "name": "stdout",
          "text": [
            "<class 'pandas.core.frame.DataFrame'>\n",
            "RangeIndex: 100000 entries, 0 to 99999\n",
            "Data columns (total 9 columns):\n",
            " #   Column               Non-Null Count   Dtype  \n",
            "---  ------               --------------   -----  \n",
            " 0   gender               100000 non-null  int64  \n",
            " 1   age                  100000 non-null  float64\n",
            " 2   hypertension         100000 non-null  int64  \n",
            " 3   heart_disease        100000 non-null  int64  \n",
            " 4   smoking_history      100000 non-null  int64  \n",
            " 5   bmi                  100000 non-null  float64\n",
            " 6   HbA1c_level          100000 non-null  float64\n",
            " 7   blood_glucose_level  100000 non-null  int64  \n",
            " 8   diabetes             100000 non-null  int64  \n",
            "dtypes: float64(3), int64(6)\n",
            "memory usage: 6.9 MB\n"
          ]
        }
      ]
    },
    {
      "cell_type": "code",
      "source": [
        "X = data.drop('diabetes', axis=1).values #se elimina la columna diabetes se crea un nuevo dataframe\n",
        "y = data['diabetes'].values #solo se escoge la columna de diabetea"
      ],
      "metadata": {
        "id": "5_HcOua6AZoR"
      },
      "execution_count": 9,
      "outputs": []
    },
    {
      "cell_type": "code",
      "source": [
        "#se separan los datos de testeo y te entrenamiento\n",
        "X_train, X_test, y_train, y_test = train_test_split(X, y, test_size=0.2, random_state=42)"
      ],
      "metadata": {
        "id": "R-0JhJg8AgJM"
      },
      "execution_count": 10,
      "outputs": []
    },
    {
      "cell_type": "code",
      "source": [
        "# Normalizar los datos\n",
        "#escala las características de tus datos utilizando la transformación de escala mínima y\n",
        "#máxima, lo que resulta en características que están en el rango de 0 a 1. Esto es útil\n",
        "#para asegurarse de que todas las características tengan la misma escala\n",
        "scaler = MinMaxScaler()\n",
        "X_train = scaler.fit_transform(X_train)\n",
        "X_test = scaler.transform(X_test)"
      ],
      "metadata": {
        "id": "Z0Q4JjSbAiIT"
      },
      "execution_count": 11,
      "outputs": []
    },
    {
      "cell_type": "code",
      "source": [
        "# Convertir los datos en tensores de PyTorch para tener compatibilidad y  calculos eficientes\n",
        "#se coloca los datos ya normalizados de las caracteristicas\n",
        "X_train = torch.tensor(X_train, dtype=torch.float32)\n",
        "y_train = torch.tensor(y_train, dtype=torch.float32)\n",
        "X_test = torch.tensor(X_test, dtype=torch.float32)\n",
        "y_test = torch.tensor(y_test, dtype=torch.float32)"
      ],
      "metadata": {
        "id": "Tpv9Bc1HA21N"
      },
      "execution_count": 12,
      "outputs": []
    },
    {
      "cell_type": "code",
      "source": [
        "#muestra la definición de una clase LogisticRegression que implementa un modelo\n",
        "#de regresión logística\n",
        "class LogisticRegression(nn.Module):\n",
        "    def __init__(self, input_size):\n",
        "        super(LogisticRegression, self).__init__()\n",
        "        self.linear = nn.Linear(input_size, 1) #mapea las características de entrada al espacio de salida\n",
        "        self.sigmoid = nn.Sigmoid() #define la función de activación sigmoide\n",
        "\n",
        "    def forward(self, x):\n",
        "        out = self.linear(x)\n",
        "        out = self.sigmoid(out)\n",
        "        return out"
      ],
      "metadata": {
        "id": "c1nAlQD_A6D9"
      },
      "execution_count": 13,
      "outputs": []
    },
    {
      "cell_type": "code",
      "source": [
        "#se crea una instancia del modelo LogisticRegression\n",
        "input_size = X_train.shape[1] #calcula el tamaño de las características de entrada\n",
        "model = LogisticRegression(input_size)"
      ],
      "metadata": {
        "id": "Bs9u1ZiEA8lt"
      },
      "execution_count": 14,
      "outputs": []
    },
    {
      "cell_type": "code",
      "source": [
        "# Definir la función de pérdida  y el optimizador\n",
        "criterion = nn.BCELoss() #pérdida de entropía cruzada binaria (binary cross-entropy loss)\n",
        "optimizer = optim.SGD(model.parameters(), lr=0.01)"
      ],
      "metadata": {
        "id": "EuRc0ctACPNq"
      },
      "execution_count": 15,
      "outputs": []
    },
    {
      "cell_type": "code",
      "source": [
        "# Entrenar el modelo\n",
        "num_epochs = 1000\n",
        "for epoch in range(num_epochs):\n",
        "    # Calcular la salida del modelo y la pérdida\n",
        "    outputs = model(X_train)\n",
        "    loss = criterion(outputs, y_train.view(-1, 1))\n",
        "\n",
        "    # Realizar la retropropagación y el paso de optimización\n",
        "    optimizer.zero_grad()\n",
        "    loss.backward()\n",
        "    optimizer.step()\n",
        "\n",
        "    # Imprimir la pérdida en cada 100 epochs\n",
        "    if (epoch + 1) % 100 == 0:\n",
        "        print(f'Epoch {epoch+1}/{num_epochs}, Loss: {loss.item()}')"
      ],
      "metadata": {
        "id": "uTUOj58AA-yb",
        "colab": {
          "base_uri": "https://localhost:8080/"
        },
        "outputId": "f86dbd57-319e-428b-ce5f-3de1f3c92855"
      },
      "execution_count": 16,
      "outputs": [
        {
          "output_type": "stream",
          "name": "stdout",
          "text": [
            "Epoch 100/1000, Loss: 0.5087358355522156\n",
            "Epoch 200/1000, Loss: 0.42393311858177185\n",
            "Epoch 300/1000, Loss: 0.3822740316390991\n",
            "Epoch 400/1000, Loss: 0.3594793975353241\n",
            "Epoch 500/1000, Loss: 0.3458564877510071\n",
            "Epoch 600/1000, Loss: 0.3370881974697113\n",
            "Epoch 700/1000, Loss: 0.33106282353401184\n",
            "Epoch 800/1000, Loss: 0.3266677260398865\n",
            "Epoch 900/1000, Loss: 0.3232811689376831\n",
            "Epoch 1000/1000, Loss: 0.320539265871048\n"
          ]
        }
      ]
    },
    {
      "cell_type": "code",
      "source": [
        "# Evaluar el modelo en el conjunto de prueba\n",
        "#Se realiza una evaluación del modelo  en un conjunto de prueba y calcula la precisión (accuracy)\n",
        "#de las predicciones.\n",
        "with torch.no_grad():\n",
        "    outputs = model(X_test)\n",
        "    predicted = (outputs >= 0.5).float()\n",
        "    accuracy = (predicted == y_test.view(-1, 1)).sum().item() / y_test.size(0)\n",
        "    print(f'Accuracy on test set: {accuracy}') #imprime la precisión obtenida en el conjunto de prueba"
      ],
      "metadata": {
        "id": "boAMrnZEBRj5",
        "colab": {
          "base_uri": "https://localhost:8080/"
        },
        "outputId": "47884a3e-0f8d-482a-ebaa-6391556aeef3"
      },
      "execution_count": 17,
      "outputs": [
        {
          "output_type": "stream",
          "name": "stdout",
          "text": [
            "Accuracy on test set: 0.9146\n"
          ]
        }
      ]
    }
  ]
}