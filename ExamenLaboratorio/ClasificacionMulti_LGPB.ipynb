{
  "nbformat": 4,
  "nbformat_minor": 0,
  "metadata": {
    "colab": {
      "provenance": []
    },
    "kernelspec": {
      "name": "python3",
      "display_name": "Python 3"
    },
    "language_info": {
      "name": "python"
    }
  },
  "cells": [
    {
      "cell_type": "code",
      "source": [
        "import torch\n",
        "import torch.nn as nn\n",
        "import torch.optim as optim\n",
        "import pandas as pd\n",
        "from sklearn.model_selection import train_test_split\n",
        "from sklearn.preprocessing import LabelEncoder\n",
        "from torch.utils.data import DataLoader, Dataset"
      ],
      "metadata": {
        "id": "fCMnytiGrR5m"
      },
      "execution_count": 23,
      "outputs": []
    },
    {
      "cell_type": "code",
      "source": [
        "from google.colab import drive\n",
        "drive.mount('/content/drive')"
      ],
      "metadata": {
        "colab": {
          "base_uri": "https://localhost:8080/"
        },
        "id": "gRr_6tFrE0ko",
        "outputId": "8d4d82d5-3dda-4693-c4bc-5ae1a17fdb05"
      },
      "execution_count": 24,
      "outputs": [
        {
          "output_type": "stream",
          "name": "stdout",
          "text": [
            "Drive already mounted at /content/drive; to attempt to forcibly remount, call drive.mount(\"/content/drive\", force_remount=True).\n"
          ]
        }
      ]
    },
    {
      "cell_type": "code",
      "source": [
        "# Cargar el conjunto de datos\n",
        "data = pd.read_csv('/content/drive/MyDrive/USFX/SIS420-IA/datasets/emnist-letters-train.csv')"
      ],
      "metadata": {
        "id": "mPwXwmkarR2P"
      },
      "execution_count": 25,
      "outputs": []
    },
    {
      "cell_type": "code",
      "source": [
        "data.info()\n"
      ],
      "metadata": {
        "colab": {
          "base_uri": "https://localhost:8080/"
        },
        "id": "1PAwEccdFIh4",
        "outputId": "9b9c8794-9b88-467d-b3fc-0c56b4883311"
      },
      "execution_count": 26,
      "outputs": [
        {
          "output_type": "stream",
          "name": "stdout",
          "text": [
            "<class 'pandas.core.frame.DataFrame'>\n",
            "RangeIndex: 88799 entries, 0 to 88798\n",
            "Columns: 785 entries, 23 to 0.415\n",
            "dtypes: int64(785)\n",
            "memory usage: 531.8 MB\n"
          ]
        }
      ]
    },
    {
      "cell_type": "code",
      "source": [
        "# Dividir los datos en características (X) y etiquetas (y)\n",
        "X = data.drop('23', axis=1).values\n",
        "y = data['23'].values\n",
        "\n",
        "# Codificar las etiquetas en valores numéricos\n",
        "label_encoder = LabelEncoder()\n",
        "y = label_encoder.fit_transform(y)\n",
        "\n",
        "# Dividir los datos en conjuntos de entrenamiento y prueba\n",
        "X_train, X_test, y_train, y_test = train_test_split(X, y, test_size=0.2, random_state=42)"
      ],
      "metadata": {
        "id": "1bttgbZKrRz_"
      },
      "execution_count": 28,
      "outputs": []
    },
    {
      "cell_type": "code",
      "source": [
        "# Definir una clase personalizada para el conjunto de datos\n",
        "#Esta clase se utiliza para crear instancias de conjuntos de datos personalizados\n",
        "class CustomDataset(Dataset):\n",
        "    def __init__(self, X, y):\n",
        "        self.X = torch.tensor(X, dtype=torch.float32)\n",
        "        self.y = torch.tensor(y, dtype=torch.long)\n",
        "\n",
        "    def __len__(self):\n",
        "        return len(self.X)\n",
        "\n",
        "    def __getitem__(self, idx):\n",
        "        return self.X[idx], self.y[idx]\n",
        "\n",
        "# Crear instancias del conjunto de datos\n",
        "train_dataset = CustomDataset(X_train, y_train)\n",
        "test_dataset = CustomDataset(X_test, y_test)"
      ],
      "metadata": {
        "id": "7ruzPvaKrRxz"
      },
      "execution_count": 29,
      "outputs": []
    },
    {
      "cell_type": "code",
      "source": [
        "# Definir el modelo del perceptrón\n",
        "class Perceptron(nn.Module):\n",
        "    def __init__(self, input_size, num_classes):\n",
        "        super(Perceptron, self).__init__()\n",
        "        self.fc = nn.Linear(input_size, num_classes) #crea una capa lineal\n",
        "\n",
        "    def forward(self, x):\n",
        "        x = self.fc(x)\n",
        "        return x\n",
        "\n",
        "# Definir los parámetros del modelo\n",
        "input_size = X.shape[1]\n",
        "num_classes = len(label_encoder.classes_)\n",
        "\n",
        "# Crear una instancia del modelo\n",
        "model = Perceptron(input_size, num_classes)"
      ],
      "metadata": {
        "id": "foaa-ypMrRvt"
      },
      "execution_count": 30,
      "outputs": []
    },
    {
      "cell_type": "code",
      "source": [
        "# Definir la función de pérdida y el optimizador\n",
        "criterion = nn.CrossEntropyLoss() #pérdida de entropía cruzada\n",
        "optimizer = optim.SGD(model.parameters(), lr=0.01)\n",
        "\n",
        "# Definir los dataloaders para el entrenamiento y la prueba\n",
        "batch_size = 20 #número de muestras que se utilizarán en cada iteración durante el entrenamiento\n",
        "train_dataloader = DataLoader(train_dataset, batch_size=batch_size, shuffle=True)\n",
        "test_dataloader = DataLoader(test_dataset, batch_size=batch_size)"
      ],
      "metadata": {
        "id": "UQ0C5oLwrRtP"
      },
      "execution_count": 31,
      "outputs": []
    },
    {
      "cell_type": "code",
      "source": [
        "# Entrenamiento del modelo\n",
        "#implementa un bucle de entrenamiento que itera sobre las épocas y los lotes de datos cargados\n",
        "#se realiza la propagación hacia adelante, se calcula la pérdida, se realiza la propagación\n",
        "#hacia atrás y se actualizan los parámetros del modelo utilizando un optimizador\n",
        "num_epochs = 10\n",
        "for epoch in range(num_epochs):\n",
        "    for inputs, labels in train_dataloader:\n",
        "        optimizer.zero_grad()\n",
        "        outputs = model(inputs)\n",
        "        loss = criterion(outputs, labels)\n",
        "        loss.backward()\n",
        "        optimizer.step()\n",
        "    print(f'Epoch [{epoch+1}/{num_epochs}], Loss: {loss.item():.4f}')"
      ],
      "metadata": {
        "colab": {
          "base_uri": "https://localhost:8080/"
        },
        "id": "uXVHVVCZrRmM",
        "outputId": "cd327270-6337-45e1-a6a0-b517e0b3d30c"
      },
      "execution_count": 32,
      "outputs": [
        {
          "output_type": "stream",
          "name": "stdout",
          "text": [
            "Epoch [1/10], Loss: 2610.7617\n",
            "Epoch [2/10], Loss: 2300.9250\n",
            "Epoch [3/10], Loss: 1379.2004\n",
            "Epoch [4/10], Loss: 2612.3533\n",
            "Epoch [5/10], Loss: 1667.2133\n",
            "Epoch [6/10], Loss: 1815.5510\n",
            "Epoch [7/10], Loss: 2139.9126\n",
            "Epoch [8/10], Loss: 879.6154\n",
            "Epoch [9/10], Loss: 555.6930\n",
            "Epoch [10/10], Loss: 2177.9895\n"
          ]
        }
      ]
    },
    {
      "cell_type": "code",
      "source": [
        "# Evaluación del modelo\n",
        "#calcula la precisión dividiendo el número total de etiquetas predichas\n",
        "#correctamente entre el número total de etiquetas en el conjunto de prueba\n",
        "model.eval() #coloca el modelo en modo de evaluación\n",
        "with torch.no_grad(): #Esto desactiva el seguimiento de gradientes durante la evaluación\n",
        "    correct = 0\n",
        "    total = 0\n",
        "    for inputs, labels in test_dataloader:\n",
        "        outputs = model(inputs)\n",
        "        _, predicted = torch.max(outputs.data, 1)\n",
        "        total += labels.size(0)\n",
        "        correct += (predicted == labels).sum().item()\n",
        "    accuracy = correct / total\n",
        "    print(f'Accuracy: {accuracy:.4f}') #muestra la precisión del modelo"
      ],
      "metadata": {
        "colab": {
          "base_uri": "https://localhost:8080/"
        },
        "id": "VT7-2vWnrRix",
        "outputId": "14d186c8-14c2-4a52-fa67-352f30510151"
      },
      "execution_count": 33,
      "outputs": [
        {
          "output_type": "stream",
          "name": "stdout",
          "text": [
            "Accuracy: 0.5618\n"
          ]
        }
      ]
    }
  ]
}