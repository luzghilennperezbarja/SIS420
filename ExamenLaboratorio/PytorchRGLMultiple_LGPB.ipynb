{
  "nbformat": 4,
  "nbformat_minor": 0,
  "metadata": {
    "colab": {
      "provenance": []
    },
    "kernelspec": {
      "name": "python3",
      "display_name": "Python 3"
    },
    "language_info": {
      "name": "python"
    }
  },
  "cells": [
    {
      "cell_type": "code",
      "execution_count": 69,
      "metadata": {
        "id": "itc3WebSchKv"
      },
      "outputs": [],
      "source": [
        "import torch\n",
        "import torch.nn as nn\n",
        "import pandas as pd\n",
        "import numpy as np\n",
        "from sklearn.model_selection import train_test_split\n",
        "from sklearn.preprocessing import LabelEncoder\n",
        "from datetime import datetime\n",
        "from sklearn.preprocessing import MinMaxScaler"
      ]
    },
    {
      "cell_type": "code",
      "source": [
        "#accedemos a drive\n",
        "from google.colab import drive\n",
        "drive.mount('/content/drive')"
      ],
      "metadata": {
        "colab": {
          "base_uri": "https://localhost:8080/"
        },
        "id": "H-Slj79bgu80",
        "outputId": "ab795d90-5fd5-4c00-a67e-c88d4edb81bf"
      },
      "execution_count": 70,
      "outputs": [
        {
          "output_type": "stream",
          "name": "stdout",
          "text": [
            "Drive already mounted at /content/drive; to attempt to forcibly remount, call drive.mount(\"/content/drive\", force_remount=True).\n"
          ]
        }
      ]
    },
    {
      "cell_type": "code",
      "source": [
        "#lectura del dataset\n",
        "data = pd.read_csv(\"/content/drive/MyDrive/USFX/SIS420-IA/datasets/stats_BVG_latest.csv\")"
      ],
      "metadata": {
        "id": "A6Jw2cQ0gsvh"
      },
      "execution_count": 71,
      "outputs": []
    },
    {
      "cell_type": "code",
      "source": [
        "data.info()"
      ],
      "metadata": {
        "colab": {
          "base_uri": "https://localhost:8080/"
        },
        "id": "osC0LLynhOja",
        "outputId": "3ca93969-2385-4a8d-f82b-e0f612f245b2"
      },
      "execution_count": 73,
      "outputs": [
        {
          "output_type": "stream",
          "name": "stdout",
          "text": [
            "<class 'pandas.core.frame.DataFrame'>\n",
            "RangeIndex: 684 entries, 0 to 683\n",
            "Data columns (total 11 columns):\n",
            " #   Column              Non-Null Count  Dtype  \n",
            "---  ------              --------------  -----  \n",
            " 0   Emisores            684 non-null    object \n",
            " 1   Valor Nominal       684 non-null    float64\n",
            " 2   Último Precio       684 non-null    float64\n",
            " 3   P/U  Veces          684 non-null    object \n",
            " 4   P/VL                684 non-null    float64\n",
            " 5   Capitalización      684 non-null    int64  \n",
            " 6   D/P  Yield          684 non-null    object \n",
            " 7   Presencia Bursátil  684 non-null    object \n",
            " 8   Índice de Rotación  684 non-null    float64\n",
            " 9   Líquidez            684 non-null    object \n",
            " 10  Fecha               684 non-null    object \n",
            "dtypes: float64(4), int64(1), object(6)\n",
            "memory usage: 58.9+ KB\n"
          ]
        }
      ]
    },
    {
      "cell_type": "code",
      "source": [
        "columnas_categoricas = data.select_dtypes(include=['object']).columns"
      ],
      "metadata": {
        "id": "6th7OhY_hQ9r"
      },
      "execution_count": 74,
      "outputs": []
    },
    {
      "cell_type": "code",
      "source": [
        "for columna in columnas_categoricas:\n",
        "  le = LabelEncoder()\n",
        "  data[columna] = le.fit_transform(data[columna])"
      ],
      "metadata": {
        "id": "fkv09iziiG0L"
      },
      "execution_count": 75,
      "outputs": []
    },
    {
      "cell_type": "code",
      "source": [
        "data.info()"
      ],
      "metadata": {
        "colab": {
          "base_uri": "https://localhost:8080/"
        },
        "id": "0v7xzpV-ic_q",
        "outputId": "5ae41bba-730d-4b43-d767-dc16c89488f2"
      },
      "execution_count": 76,
      "outputs": [
        {
          "output_type": "stream",
          "name": "stdout",
          "text": [
            "<class 'pandas.core.frame.DataFrame'>\n",
            "RangeIndex: 684 entries, 0 to 683\n",
            "Data columns (total 11 columns):\n",
            " #   Column              Non-Null Count  Dtype  \n",
            "---  ------              --------------  -----  \n",
            " 0   Emisores            684 non-null    int64  \n",
            " 1   Valor Nominal       684 non-null    float64\n",
            " 2   Último Precio       684 non-null    float64\n",
            " 3   P/U  Veces          684 non-null    int64  \n",
            " 4   P/VL                684 non-null    float64\n",
            " 5   Capitalización      684 non-null    int64  \n",
            " 6   D/P  Yield          684 non-null    int64  \n",
            " 7   Presencia Bursátil  684 non-null    int64  \n",
            " 8   Índice de Rotación  684 non-null    float64\n",
            " 9   Líquidez            684 non-null    int64  \n",
            " 10  Fecha               684 non-null    int64  \n",
            "dtypes: float64(4), int64(7)\n",
            "memory usage: 58.9 KB\n"
          ]
        }
      ]
    },
    {
      "cell_type": "code",
      "source": [
        "# Seleccionar las características y la variable objetivo\n",
        "#features= caracteristicas y target=objetivo\n",
        "features = data[['Valor Nominal', 'P/U  Veces', 'P/VL', 'Capitalización', 'D/P  Yield', 'Índice de Rotación', 'Líquidez']]\n",
        "target = data['Último Precio']"
      ],
      "metadata": {
        "id": "Ob3n5IGd99V7"
      },
      "execution_count": 78,
      "outputs": []
    },
    {
      "cell_type": "code",
      "source": [
        "# Normalizar los datos\n",
        "#escala las características de tus datos utilizando la transformación de escala mínima y\n",
        "#máxima, lo que resulta en características que están en el rango de 0 a 1. Esto es útil\n",
        "#para asegurarse de que todas las características tengan la misma escala\n",
        "scaler = MinMaxScaler()\n",
        "features_scaled = scaler.fit_transform(features)"
      ],
      "metadata": {
        "id": "iVAbpCMq-FvL"
      },
      "execution_count": 79,
      "outputs": []
    },
    {
      "cell_type": "code",
      "source": [
        "# Convertir los datos en tensores de PyTorch para tener compatibilidad y  calculos eficientes\n",
        "#se coloca los datos ya normalizados de las caracteristicas\n",
        "features_tensor = torch.tensor(features_scaled, dtype=torch.float32)\n",
        "target_tensor = torch.tensor(target.values, dtype=torch.float32).view(-1, 1)\n"
      ],
      "metadata": {
        "id": "ynxkwcYBg98j"
      },
      "execution_count": 80,
      "outputs": []
    },
    {
      "cell_type": "code",
      "source": [
        "# Definir el modelo de regresión lineal múltiple\n",
        "#La clase LinearRegression hereda de la clase nn.Module,\n",
        "# que es una clase base proporcionada por PyTorch para definir modelos de aprendizaje\n",
        "#automático. Al heredar de nn.Module, se obtienen las funcionalidades y características\n",
        "#necesarias para construir y entrenar un modelo.\n",
        "class LinearRegression(nn.Module):\n",
        "    def __init__(self, input_size):\n",
        "        super(LinearRegression, self).__init__()\n",
        "        self.linear = nn.Linear(input_size, 1) #Se crea una sola capa lineal\n",
        "\n",
        "    def forward(self, x):\n",
        "        return self.linear(x)\n",
        "\n",
        "# Definir hiperparámetros\n",
        "input_size = features_tensor.shape[1]\n",
        "learning_rate = 0.1 #tasa de aprendizaje\n",
        "num_epochs = 10000 #numero de epocas del modelo\n",
        "\n",
        "# Crear el modelo\n",
        "model = LinearRegression(input_size)"
      ],
      "metadata": {
        "id": "T6Nx43yX-XzD"
      },
      "execution_count": 88,
      "outputs": []
    },
    {
      "cell_type": "code",
      "source": [
        "# Definir la función de pérdida  y el optimizador\n",
        "criterion = nn.MSELoss() #función de pérdida de error cuadrático medio\n",
        "optimizer = torch.optim.SGD(model.parameters(), lr=learning_rate) #representa el descenso de gradiente estocástico"
      ],
      "metadata": {
        "id": "2LaabrQv-b_q"
      },
      "execution_count": 89,
      "outputs": []
    },
    {
      "cell_type": "code",
      "source": [
        "# Entrenamiento del modelo\n",
        "for epoch in range(num_epochs):\n",
        "    # Calcular la salida del modelo\n",
        "    outputs = model(features_tensor)\n",
        "\n",
        "    # Calcular la pérdida\n",
        "    loss = criterion(outputs, target_tensor) #se calcula la perdida\n",
        "\n",
        "    # Retropropagación y optimización para ajustaar los pesos\n",
        "    optimizer.zero_grad()\n",
        "    loss.backward() #se calcula los gradientes de los paramettros\n",
        "    optimizer.step() #se actualiza los pesos\n",
        "\n",
        "    # Imprimir la información del entrenamiento\n",
        "    if (epoch+1) % 1000 == 0:\n",
        "        print(f'Epoch: {epoch+1}, Loss: {loss.item()}')"
      ],
      "metadata": {
        "colab": {
          "base_uri": "https://localhost:8080/"
        },
        "id": "mU0Di1A8-fSM",
        "outputId": "a73cd58b-5877-4ec0-c65a-1d6ec8745433"
      },
      "execution_count": 90,
      "outputs": [
        {
          "output_type": "stream",
          "name": "stdout",
          "text": [
            "Epoch: 1000, Loss: 154.3954620361328\n",
            "Epoch: 2000, Loss: 154.27084350585938\n",
            "Epoch: 3000, Loss: 154.2705078125\n",
            "Epoch: 4000, Loss: 154.2705078125\n",
            "Epoch: 5000, Loss: 154.27052307128906\n",
            "Epoch: 6000, Loss: 154.27052307128906\n",
            "Epoch: 7000, Loss: 154.27052307128906\n",
            "Epoch: 8000, Loss: 154.27052307128906\n",
            "Epoch: 9000, Loss: 154.27052307128906\n",
            "Epoch: 10000, Loss: 154.27052307128906\n"
          ]
        }
      ]
    },
    {
      "cell_type": "code",
      "source": [
        "#Después de obtener los pesos y el sesgo, puedes utilizarlos para realizar\n",
        "#predicciones en nuevos datos o para realizar análisis adicionales de tu modelo.\n",
        "# Obtener los coeficientes y el sesgo del modelo\n",
        "weights = model.linear.weight.data\n",
        "bias = model.linear.bias.data"
      ],
      "metadata": {
        "id": "MikFQ36m-m8E"
      },
      "execution_count": 91,
      "outputs": []
    },
    {
      "cell_type": "code",
      "source": [
        "# Imprimir los coeficientes y el sesgo\n",
        "print('Coeficientes:', weights)\n",
        "print('Sesgo:', bias) #se utiliza para ajustar la línea de regresión y determinar su posición vertical"
      ],
      "metadata": {
        "id": "Rmektp94-pe2",
        "outputId": "bc67f26b-5010-4b84-8790-bec6236e9ba3",
        "colab": {
          "base_uri": "https://localhost:8080/"
        }
      },
      "execution_count": 92,
      "outputs": [
        {
          "output_type": "stream",
          "name": "stdout",
          "text": [
            "Coeficientes: tensor([[ 74.8456, -18.0099,  41.4959,   9.4948,  -7.8573,  -1.9375,   0.2591]])\n",
            "Sesgo: tensor([14.6787])\n"
          ]
        }
      ]
    }
  ]
}