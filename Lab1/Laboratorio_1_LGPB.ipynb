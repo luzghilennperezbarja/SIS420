{
  "nbformat": 4,
  "nbformat_minor": 0,
  "metadata": {
    "colab": {
      "provenance": []
    },
    "kernelspec": {
      "name": "python3",
      "display_name": "Python 3"
    },
    "language_info": {
      "name": "python"
    }
  },
  "cells": [
    {
      "cell_type": "code",
      "source": [
        "# utilizado para manejos de directorios y rutas\n",
        "import os\n",
        "\n",
        "# Computacion vectorial y cientifica para python\n",
        "import numpy as np\n",
        "\n",
        "# Librerias para graficación (trazado de gráficos)\n",
        "from matplotlib import pyplot\n",
        "from mpl_toolkits.mplot3d import Axes3D  # Necesario para graficar superficies 3D\n",
        "\n",
        "# llama a matplotlib a embeber graficas dentro de los cuadernillos\n",
        "%matplotlib inline"
      ],
      "metadata": {
        "id": "x1aPluS91kz5"
      },
      "execution_count": 4,
      "outputs": []
    },
    {
      "cell_type": "code",
      "source": [
        "import pandas as pd\n",
        "from sklearn.preprocessing import LabelEncoder\n",
        "from datetime import datetime"
      ],
      "metadata": {
        "id": "dOFXMhX612RI"
      },
      "execution_count": 5,
      "outputs": []
    },
    {
      "cell_type": "code",
      "source": [
        "#Carga de dataset\n",
        "data = pd.read_csv('/content/stats_BVG_latest.csv')"
      ],
      "metadata": {
        "id": "3wiZzXFh15ZB"
      },
      "execution_count": 6,
      "outputs": []
    },
    {
      "cell_type": "code",
      "source": [
        "print(data)"
      ],
      "metadata": {
        "colab": {
          "base_uri": "https://localhost:8080/"
        },
        "id": "CkjrWXAP2IwS",
        "outputId": "0be8f9e2-eb4e-4fe0-cddb-c5a45184cf08"
      },
      "execution_count": 7,
      "outputs": [
        {
          "output_type": "stream",
          "name": "stdout",
          "text": [
            "                                              Emisores  Valor Nominal  \\\n",
            "0                                          Meriza S.A.            1.0   \n",
            "1                              Rio Congo Forestal C.A.            1.0   \n",
            "2                                 El Tecal C.A. ELTECA            1.0   \n",
            "3                  La Reserva Forestal (Reforest S.A.)            1.0   \n",
            "4                Cerro Verde Forestal (Bigforest S.A.)            1.0   \n",
            "..                                                 ...            ...   \n",
            "679                           Banco del Pichincha C.A.          100.0   \n",
            "680                               Banco Solidario S.A.            1.0   \n",
            "681  Corp. Desarrollo Mercado Secundario Hipotecas ...            1.0   \n",
            "682                                     Produbanco S.A            1.0   \n",
            "683                                Inversancarlos S.A.            1.0   \n",
            "\n",
            "     Último Precio P/U  Veces  P/VL  Capitalización D/P  Yield  \\\n",
            "0          40.0000    (25.71)  0.84         3200000      0.00%   \n",
            "1          40.0000    (34.85)  0.83         3600000      0.22%   \n",
            "2          35.0000    (21.45)  0.76         3150000      0.00%   \n",
            "3          32.7300    (27.68)  0.80         2945700      0.00%   \n",
            "4          31.9100    (76.86)  0.81         3191000      0.58%   \n",
            "..             ...        ...   ...             ...        ...   \n",
            "679        76.0000       4.61  0.47       551496964      5.44%   \n",
            "680         0.2600       5.24  0.59        78663670      9.55%   \n",
            "681         2.8968       7.79  1.22         9439335     11.60%   \n",
            "682         0.7100       3.62  0.51       215733500      7.45%   \n",
            "683         1.6500       9.39  1.36        90750000     11.02%   \n",
            "\n",
            "    Presencia Bursátil  Índice de Rotación    Líquidez       Fecha  \n",
            "0                0.40%            0.012500     Líquida  2022-02-17  \n",
            "1                2.40%            0.058444  No líquida  2022-02-17  \n",
            "2                1.20%            0.055000  No líquida  2022-02-17  \n",
            "3                1.20%            0.545000  No líquida  2022-02-17  \n",
            "4                2.40%            0.083000  No líquida  2022-02-17  \n",
            "..                 ...                 ...         ...         ...  \n",
            "679             15.20%            0.197774     Líquida  2022-06-15  \n",
            "680              0.40%            0.001162  No líquida  2022-06-15  \n",
            "681              0.40%            0.003228  No líquida  2022-06-15  \n",
            "682              2.00%            0.000357  No líquida  2022-06-15  \n",
            "683             13.60%            0.075560  No líquida  2022-06-15  \n",
            "\n",
            "[684 rows x 11 columns]\n"
          ]
        }
      ]
    },
    {
      "cell_type": "code",
      "source": [
        "data.info()"
      ],
      "metadata": {
        "colab": {
          "base_uri": "https://localhost:8080/"
        },
        "id": "cyZ_Diws2PTx",
        "outputId": "7946d523-7ad9-44d2-ffba-962a985b5e4a"
      },
      "execution_count": 8,
      "outputs": [
        {
          "output_type": "stream",
          "name": "stdout",
          "text": [
            "<class 'pandas.core.frame.DataFrame'>\n",
            "RangeIndex: 684 entries, 0 to 683\n",
            "Data columns (total 11 columns):\n",
            " #   Column              Non-Null Count  Dtype  \n",
            "---  ------              --------------  -----  \n",
            " 0   Emisores            684 non-null    object \n",
            " 1   Valor Nominal       684 non-null    float64\n",
            " 2   Último Precio       684 non-null    float64\n",
            " 3   P/U  Veces          684 non-null    object \n",
            " 4   P/VL                684 non-null    float64\n",
            " 5   Capitalización      684 non-null    int64  \n",
            " 6   D/P  Yield          684 non-null    object \n",
            " 7   Presencia Bursátil  684 non-null    object \n",
            " 8   Índice de Rotación  684 non-null    float64\n",
            " 9   Líquidez            684 non-null    object \n",
            " 10  Fecha               684 non-null    object \n",
            "dtypes: float64(4), int64(1), object(6)\n",
            "memory usage: 58.9+ KB\n"
          ]
        }
      ]
    },
    {
      "cell_type": "code",
      "source": [
        "columnas_categoricas = data.select_dtypes(include=['object']).columns"
      ],
      "metadata": {
        "id": "C6OvRHiT2qex"
      },
      "execution_count": 10,
      "outputs": []
    },
    {
      "cell_type": "code",
      "source": [
        "for columna in columnas_categoricas:\n",
        "  le = LabelEncoder()\n",
        "  data[columna] = le.fit_transform(data[columna])"
      ],
      "metadata": {
        "id": "Rc7vCkrG224R"
      },
      "execution_count": 11,
      "outputs": []
    },
    {
      "cell_type": "code",
      "source": [
        "print(data)"
      ],
      "metadata": {
        "colab": {
          "base_uri": "https://localhost:8080/"
        },
        "id": "hV39Um4g26sv",
        "outputId": "12eca2f0-e742-4352-d47b-bb5c760c9a6e"
      },
      "execution_count": 12,
      "outputs": [
        {
          "output_type": "stream",
          "name": "stdout",
          "text": [
            "     Emisores  Valor Nominal  Último Precio  P/U  Veces  P/VL  Capitalización  \\\n",
            "0          30            1.0        40.0000           1  0.84         3200000   \n",
            "1          32            1.0        40.0000           6  0.83         3600000   \n",
            "2          17            1.0        35.0000           0  0.76         3150000   \n",
            "3          27            1.0        32.7300           2  0.80         2945700   \n",
            "4           9            1.0        31.9100           9  0.81         3191000   \n",
            "..        ...            ...            ...         ...   ...             ...   \n",
            "679         6          100.0        76.0000          33  0.47       551496964   \n",
            "680         4            1.0         0.2600          36  0.59        78663670   \n",
            "681        12            1.0         2.8968          45  1.22         9439335   \n",
            "682        31            1.0         0.7100          31  0.51       215733500   \n",
            "683        21            1.0         1.6500          47  1.36        90750000   \n",
            "\n",
            "     D/P  Yield  Presencia Bursátil  Índice de Rotación  Líquidez  Fecha  \n",
            "0             0                   1            0.012500         0      0  \n",
            "1             1                  11            0.058444         1      0  \n",
            "2             0                   3            0.055000         1      0  \n",
            "3             0                   3            0.545000         1      0  \n",
            "4             2                  11            0.083000         1      0  \n",
            "..          ...                 ...                 ...       ...    ...  \n",
            "679          26                   8            0.197774         0     17  \n",
            "680          36                   1            0.001162         1     17  \n",
            "681           6                   1            0.003228         1     17  \n",
            "682          29                   9            0.000357         1     17  \n",
            "683           5                   7            0.075560         1     17  \n",
            "\n",
            "[684 rows x 11 columns]\n"
          ]
        }
      ]
    },
    {
      "cell_type": "code",
      "source": [
        "data.info()"
      ],
      "metadata": {
        "colab": {
          "base_uri": "https://localhost:8080/"
        },
        "id": "qfPeoJwe3AqZ",
        "outputId": "833f77c4-a997-4ba7-f68a-a17138b2f491"
      },
      "execution_count": 13,
      "outputs": [
        {
          "output_type": "stream",
          "name": "stdout",
          "text": [
            "<class 'pandas.core.frame.DataFrame'>\n",
            "RangeIndex: 684 entries, 0 to 683\n",
            "Data columns (total 11 columns):\n",
            " #   Column              Non-Null Count  Dtype  \n",
            "---  ------              --------------  -----  \n",
            " 0   Emisores            684 non-null    int64  \n",
            " 1   Valor Nominal       684 non-null    float64\n",
            " 2   Último Precio       684 non-null    float64\n",
            " 3   P/U  Veces          684 non-null    int64  \n",
            " 4   P/VL                684 non-null    float64\n",
            " 5   Capitalización      684 non-null    int64  \n",
            " 6   D/P  Yield          684 non-null    int64  \n",
            " 7   Presencia Bursátil  684 non-null    int64  \n",
            " 8   Índice de Rotación  684 non-null    float64\n",
            " 9   Líquidez            684 non-null    int64  \n",
            " 10  Fecha               684 non-null    int64  \n",
            "dtypes: float64(4), int64(7)\n",
            "memory usage: 58.9 KB\n"
          ]
        }
      ]
    },
    {
      "cell_type": "code",
      "source": [
        "# Lectura de Datos\n",
        "columnas_seleccionadas = list(range(0, 2)) + list(range(3, 11))\n",
        "X = data.iloc[:, columnas_seleccionadas]\n",
        "y = data.iloc[:, 2]\n",
        "m = y.size"
      ],
      "metadata": {
        "id": "7ouaX_Se3EV8"
      },
      "execution_count": 16,
      "outputs": []
    },
    {
      "cell_type": "code",
      "source": [
        "print(X)\n",
        "print('*'*25)\n",
        "print(y)"
      ],
      "metadata": {
        "colab": {
          "base_uri": "https://localhost:8080/"
        },
        "id": "sE1kwSZw3mVh",
        "outputId": "731f8ba9-4767-4903-ce04-4536acc02509"
      },
      "execution_count": 18,
      "outputs": [
        {
          "output_type": "stream",
          "name": "stdout",
          "text": [
            "     Emisores  Valor Nominal  P/U  Veces  P/VL  Capitalización  D/P  Yield  \\\n",
            "0          30            1.0           1  0.84         3200000           0   \n",
            "1          32            1.0           6  0.83         3600000           1   \n",
            "2          17            1.0           0  0.76         3150000           0   \n",
            "3          27            1.0           2  0.80         2945700           0   \n",
            "4           9            1.0           9  0.81         3191000           2   \n",
            "..        ...            ...         ...   ...             ...         ...   \n",
            "679         6          100.0          33  0.47       551496964          26   \n",
            "680         4            1.0          36  0.59        78663670          36   \n",
            "681        12            1.0          45  1.22         9439335           6   \n",
            "682        31            1.0          31  0.51       215733500          29   \n",
            "683        21            1.0          47  1.36        90750000           5   \n",
            "\n",
            "     Presencia Bursátil  Índice de Rotación  Líquidez  Fecha  \n",
            "0                     1            0.012500         0      0  \n",
            "1                    11            0.058444         1      0  \n",
            "2                     3            0.055000         1      0  \n",
            "3                     3            0.545000         1      0  \n",
            "4                    11            0.083000         1      0  \n",
            "..                  ...                 ...       ...    ...  \n",
            "679                   8            0.197774         0     17  \n",
            "680                   1            0.001162         1     17  \n",
            "681                   1            0.003228         1     17  \n",
            "682                   9            0.000357         1     17  \n",
            "683                   7            0.075560         1     17  \n",
            "\n",
            "[684 rows x 10 columns]\n",
            "*************************\n",
            "0      40.0000\n",
            "1      40.0000\n",
            "2      35.0000\n",
            "3      32.7300\n",
            "4      31.9100\n",
            "        ...   \n",
            "679    76.0000\n",
            "680     0.2600\n",
            "681     2.8968\n",
            "682     0.7100\n",
            "683     1.6500\n",
            "Name: Último Precio, Length: 684, dtype: float64\n"
          ]
        }
      ]
    },
    {
      "cell_type": "code",
      "source": [
        "def  featureNormalize(X):\n",
        "    X_norm = X.copy()\n",
        "    mu = np.zeros(X.shape[1])\n",
        "    sigma = np.zeros(X.shape[1])\n",
        "\n",
        "    mu = np.mean(X, axis = 0)\n",
        "    sigma = np.std(X, axis = 0)\n",
        "    X_norm = (X - mu) / sigma\n",
        "\n",
        "    return X_norm, mu, sigma"
      ],
      "metadata": {
        "id": "05ej4fCY36zp"
      },
      "execution_count": 19,
      "outputs": []
    },
    {
      "cell_type": "code",
      "source": [
        "# llama featureNormalize con los datos cargados\n",
        "X_norm, mu, sigma = featureNormalize(X)\n",
        "\n",
        "print(X)\n",
        "print('Media calculada:', mu)\n",
        "print('Desviación estandar calculada:', sigma)\n",
        "print(X_norm)"
      ],
      "metadata": {
        "colab": {
          "base_uri": "https://localhost:8080/"
        },
        "id": "YlT98nq139za",
        "outputId": "249d053e-53fd-4c46-b29e-d4c0335584b9"
      },
      "execution_count": 20,
      "outputs": [
        {
          "output_type": "stream",
          "name": "stdout",
          "text": [
            "     Emisores  Valor Nominal  P/U  Veces  P/VL  Capitalización  D/P  Yield  \\\n",
            "0          30            1.0           1  0.84         3200000           0   \n",
            "1          32            1.0           6  0.83         3600000           1   \n",
            "2          17            1.0           0  0.76         3150000           0   \n",
            "3          27            1.0           2  0.80         2945700           0   \n",
            "4           9            1.0           9  0.81         3191000           2   \n",
            "..        ...            ...         ...   ...             ...         ...   \n",
            "679         6          100.0          33  0.47       551496964          26   \n",
            "680         4            1.0          36  0.59        78663670          36   \n",
            "681        12            1.0          45  1.22         9439335           6   \n",
            "682        31            1.0          31  0.51       215733500          29   \n",
            "683        21            1.0          47  1.36        90750000           5   \n",
            "\n",
            "     Presencia Bursátil  Índice de Rotación  Líquidez  Fecha  \n",
            "0                     1            0.012500         0      0  \n",
            "1                    11            0.058444         1      0  \n",
            "2                     3            0.055000         1      0  \n",
            "3                     3            0.545000         1      0  \n",
            "4                    11            0.083000         1      0  \n",
            "..                  ...                 ...       ...    ...  \n",
            "679                   8            0.197774         0     17  \n",
            "680                   1            0.001162         1     17  \n",
            "681                   1            0.003228         1     17  \n",
            "682                   9            0.000357         1     17  \n",
            "683                   7            0.075560         1     17  \n",
            "\n",
            "[684 rows x 10 columns]\n",
            "Media calculada: Emisores              1.750000e+01\n",
            "Valor Nominal         3.777889e+00\n",
            "P/U  Veces            1.935380e+01\n",
            "P/VL                  9.487281e-01\n",
            "Capitalización        1.660183e+08\n",
            "D/P  Yield            7.906433e+00\n",
            "Presencia Bursátil    8.194444e+00\n",
            "Índice de Rotación    6.890327e-02\n",
            "Líquidez              6.944444e-01\n",
            "Fecha                 8.263158e+00\n",
            "dtype: float64\n",
            "Desviación estandar calculada: Emisores              1.038829e+01\n",
            "Valor Nominal         1.626874e+01\n",
            "P/U  Veces            1.522504e+01\n",
            "P/VL                  1.178904e+00\n",
            "Capitalización        3.915008e+08\n",
            "D/P  Yield            1.188370e+01\n",
            "Presencia Bursátil    6.947499e+00\n",
            "Índice de Rotación    1.203564e-01\n",
            "Líquidez              4.606423e-01\n",
            "Fecha                 5.148757e+00\n",
            "dtype: float64\n",
            "     Emisores  Valor Nominal  P/U  Veces      P/VL  Capitalización  \\\n",
            "0    1.203277      -0.170750   -1.205501 -0.092228       -0.415883   \n",
            "1    1.395802      -0.170750   -0.877095 -0.100711       -0.414861   \n",
            "2   -0.048131      -0.170750   -1.271183 -0.160088       -0.416010   \n",
            "3    0.914491      -0.170750   -1.139820 -0.126158       -0.416532   \n",
            "4   -0.818229      -0.170750   -0.680051 -0.117675       -0.415906   \n",
            "..        ...            ...         ...       ...             ...   \n",
            "679 -1.107015       5.914539    0.896300 -0.406079        0.984618   \n",
            "680 -1.299540      -0.170750    1.093344 -0.304289       -0.223128   \n",
            "681 -0.529442      -0.170750    1.684475  0.230105       -0.399946   \n",
            "682  1.299540      -0.170750    0.764937 -0.372149        0.126986   \n",
            "683  0.336918      -0.170750    1.815838  0.348860       -0.192256   \n",
            "\n",
            "     D/P  Yield  Presencia Bursátil  Índice de Rotación  Líquidez     Fecha  \n",
            "0     -0.665318           -1.035544           -0.468636 -1.507557 -1.604884  \n",
            "1     -0.581169            0.403822           -0.086903  0.663325 -1.604884  \n",
            "2     -0.665318           -0.747671           -0.115518  0.663325 -1.604884  \n",
            "3     -0.665318           -0.747671            3.955725  0.663325 -1.604884  \n",
            "4     -0.497020            0.403822            0.117125  0.663325 -1.604884  \n",
            "..          ...                 ...                 ...       ...       ...  \n",
            "679    1.522554           -0.027988            1.070743 -1.507557  1.696884  \n",
            "680    2.364043           -1.035544           -0.562839  0.663325  1.696884  \n",
            "681   -0.160424           -1.035544           -0.545673  0.663325  1.696884  \n",
            "682    1.775001            0.115949           -0.569528  0.663325  1.696884  \n",
            "683   -0.244573           -0.171924            0.055308  0.663325  1.696884  \n",
            "\n",
            "[684 rows x 10 columns]\n"
          ]
        }
      ]
    },
    {
      "cell_type": "code",
      "source": [
        "# Añade el termino de interseccion a X\n",
        "# (Columna de unos para X0)\n",
        "X = np.concatenate([np.ones((m, 1)), X_norm], axis=1)"
      ],
      "metadata": {
        "id": "DR0YVnV-4Rhy"
      },
      "execution_count": 21,
      "outputs": []
    },
    {
      "cell_type": "code",
      "source": [
        "print(X)"
      ],
      "metadata": {
        "colab": {
          "base_uri": "https://localhost:8080/"
        },
        "id": "sEvxXIem4WaK",
        "outputId": "55b57057-6054-4150-9e49-a563fb22a9ed"
      },
      "execution_count": 22,
      "outputs": [
        {
          "output_type": "stream",
          "name": "stdout",
          "text": [
            "[[ 1.          1.20327738 -0.17075006 ... -0.46863554 -1.50755672\n",
            "  -1.60488413]\n",
            " [ 1.          1.39580176 -0.17075006 ... -0.08690254  0.66332496\n",
            "  -1.60488413]\n",
            " [ 1.         -0.0481311  -0.17075006 ... -0.11551756  0.66332496\n",
            "  -1.60488413]\n",
            " ...\n",
            " [ 1.         -0.52944205 -0.17075006 ... -0.54567342  0.66332496\n",
            "   1.69688386]\n",
            " [ 1.          1.29953957 -0.17075006 ... -0.56952758  0.66332496\n",
            "   1.69688386]\n",
            " [ 1.          0.33691767 -0.17075006 ...  0.05530846  0.66332496\n",
            "   1.69688386]]\n"
          ]
        }
      ]
    },
    {
      "cell_type": "code",
      "source": [
        "def computeCostMulti(X, y, theta):\n",
        "    # Inicializa algunos valores utiles\n",
        "    m = y.shape[0] # numero de ejemplos de entrenamiento\n",
        "\n",
        "    J = 0\n",
        "\n",
        "    h = np.dot(X, theta)\n",
        "\n",
        "    J = (1/(2 * m)) * np.sum(np.square(np.dot(X, theta) - y))\n",
        "\n",
        "    return J"
      ],
      "metadata": {
        "id": "VIkD8KRn4Zgj"
      },
      "execution_count": 23,
      "outputs": []
    },
    {
      "cell_type": "code",
      "source": [
        "def gradientDescentMulti(X, y, theta, alpha, num_iters):\n",
        "\n",
        "    # Inicializa algunos valores\n",
        "    m = y.shape[0] # numero de ejemplos de entrenamiento\n",
        "\n",
        "    # realiza una copia de theta, el cual será acutalizada por el descenso por el gradiente\n",
        "    theta = theta.copy()\n",
        "\n",
        "    J_history = []\n",
        "\n",
        "    for i in range(num_iters):\n",
        "        theta = theta - (alpha / m) * (np.dot(X, theta) - y).dot(X)\n",
        "        J_history.append(computeCostMulti(X, y, theta))\n",
        "\n",
        "    return theta, J_history"
      ],
      "metadata": {
        "id": "YHubmInq4cPY"
      },
      "execution_count": 24,
      "outputs": []
    },
    {
      "cell_type": "code",
      "source": [
        "print(X)"
      ],
      "metadata": {
        "colab": {
          "base_uri": "https://localhost:8080/"
        },
        "id": "abZUDhli4guy",
        "outputId": "5760aff8-fd27-45d6-8556-ee12b9668ca8"
      },
      "execution_count": 25,
      "outputs": [
        {
          "output_type": "stream",
          "name": "stdout",
          "text": [
            "[[ 1.          1.20327738 -0.17075006 ... -0.46863554 -1.50755672\n",
            "  -1.60488413]\n",
            " [ 1.          1.39580176 -0.17075006 ... -0.08690254  0.66332496\n",
            "  -1.60488413]\n",
            " [ 1.         -0.0481311  -0.17075006 ... -0.11551756  0.66332496\n",
            "  -1.60488413]\n",
            " ...\n",
            " [ 1.         -0.52944205 -0.17075006 ... -0.54567342  0.66332496\n",
            "   1.69688386]\n",
            " [ 1.          1.29953957 -0.17075006 ... -0.56952758  0.66332496\n",
            "   1.69688386]\n",
            " [ 1.          0.33691767 -0.17075006 ...  0.05530846  0.66332496\n",
            "   1.69688386]]\n"
          ]
        }
      ]
    },
    {
      "cell_type": "code",
      "source": [
        "# Elegir algun valor para alpha (probar varias alternativas)\n",
        "alpha = 0.001\n",
        "num_iters = 5000\n",
        "\n",
        "# inicializa theta y ejecuta el descenso por el gradiente\n",
        "theta = np.zeros(11)\n",
        "theta, J_history = gradientDescentMulti(X, y, theta, alpha, num_iters)\n",
        "\n",
        "# Grafica la convergencia del costo\n",
        "pyplot.plot(np.arange(len(J_history)), J_history, lw=2)\n",
        "pyplot.xlabel('Numero de iteraciones')\n",
        "pyplot.ylabel('Costo J')\n",
        "\n",
        "# Muestra los resultados del descenso por el gradiente\n",
        "print('theta calculado por el descenso por el gradiente: {:s}'.format(str(theta)))\n",
        "\n",
        "# Estimar el precio para un auto Ford en distintas caracteristicas\n",
        "X_array = [1, 27, 1.0, 2, 0.80, 2945700, 0, 3, 0.545000,1,0]\n",
        "X_array[1:11] = (X_array[1:11] - mu) / sigma\n",
        "price = np.dot(X_array, theta)   # Se debe cambiar esto\n",
        "\n",
        "print('El valor predecido es (usando el descenso por el gradiente): {:.4f}'.format(price))"
      ],
      "metadata": {
        "colab": {
          "base_uri": "https://localhost:8080/",
          "height": 521
        },
        "id": "KP0aqO2u4i-G",
        "outputId": "1cda2f5f-aac6-44e1-d192-d8f6d03c852d"
      },
      "execution_count": 35,
      "outputs": [
        {
          "output_type": "stream",
          "name": "stdout",
          "text": [
            "theta calculado por el descenso por el gradiente: [15.61482682  0.23275251 11.67695493 -5.06779102  7.26607849  2.44550507\n",
            " -2.57053306 -0.3702163   0.07295844  0.04644855 -0.05879827]\n",
            "El valor predecido es (usando el descenso por el gradiente): 20.0757\n"
          ]
        },
        {
          "output_type": "display_data",
          "data": {
            "text/plain": [
              "<Figure size 640x480 with 1 Axes>"
            ],
            "image/png": "[encoded data removed]"
          },
          "metadata": {}
        }
      ]
    }
  ]
}