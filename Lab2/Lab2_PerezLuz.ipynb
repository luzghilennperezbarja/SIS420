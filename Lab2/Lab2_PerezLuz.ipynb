{
  "nbformat": 4,
  "nbformat_minor": 0,
  "metadata": {
    "colab": {
      "provenance": []
    },
    "kernelspec": {
      "name": "python3",
      "display_name": "Python 3"
    },
    "language_info": {
      "name": "python"
    }
  },
  "cells": [
    {
      "cell_type": "code",
      "execution_count": 41,
      "metadata": {
        "id": "qUxgZvq33-ID"
      },
      "outputs": [],
      "source": [
        "# utilizado para manejos de directorios y rutas\n",
        "import os\n",
        "\n",
        "# Computacion vectorial y cientifica para python\n",
        "import numpy as np\n",
        "\n",
        "# Librerias para graficación (trazado de gráficos)\n",
        "from matplotlib import pyplot\n",
        "from mpl_toolkits.mplot3d import Axes3D  # Necesario para graficar superficies 3D\n",
        "\n",
        "# llama a matplotlib a embeber graficas dentro de los cuadernillos\n",
        "%matplotlib inline"
      ]
    },
    {
      "cell_type": "code",
      "source": [
        "import pandas as pd\n",
        "from sklearn.preprocessing import LabelEncoder\n",
        "from datetime import datetime"
      ],
      "metadata": {
        "id": "3zeLCpwjiQCT"
      },
      "execution_count": 42,
      "outputs": []
    },
    {
      "cell_type": "code",
      "source": [
        "#Carga de dataset\n",
        "data = pd.read_csv('/content/Luxury watch.csv')"
      ],
      "metadata": {
        "id": "V0ZXOA-6iUmV"
      },
      "execution_count": 43,
      "outputs": []
    },
    {
      "cell_type": "code",
      "source": [
        "print(data)"
      ],
      "metadata": {
        "colab": {
          "base_uri": "https://localhost:8080/"
        },
        "id": "h325dVhXicrs",
        "outputId": "ff429ac4-ffed-4707-dcff-311745bebdb9"
      },
      "execution_count": 44,
      "outputs": [
        {
          "output_type": "stream",
          "name": "stdout",
          "text": [
            "                   Brand              Model    Case Material   Strap Material  \\\n",
            "0                  Rolex         Submariner  Stainless Steel  Stainless Steel   \n",
            "1                  Omega          Seamaster         Titanium           Rubber   \n",
            "2              Tag Heuer            Carrera  Stainless Steel          Leather   \n",
            "3              Breitling          Navitimer  Stainless Steel  Stainless Steel   \n",
            "4                Cartier          Tank Solo  Stainless Steel          Leather   \n",
            "..                   ...                ...              ...              ...   \n",
            "502              Breguet          Classique    18k Rose Gold          Leather   \n",
            "503            Blancpain      Fifty Fathoms  Stainless Steel           Fabric   \n",
            "504             Longines  Master Collection  Stainless Steel          Leather   \n",
            "505  Vacheron Constantin           Overseas  Stainless Steel  Stainless Steel   \n",
            "506  Frederique Constant           Classics  Stainless Steel          Leather   \n",
            "\n",
            "    Movement Type Water Resistance  Case Diameter (mm)  Case Thickness (mm)  \\\n",
            "0       Automatic       300 meters                40.0                13.00   \n",
            "1       Automatic       600 meters                43.5                14.47   \n",
            "2       Automatic       100 meters                41.0                13.00   \n",
            "3       Automatic        30 meters                43.0                14.25   \n",
            "4          Quartz        30 meters                31.0                 6.05   \n",
            "..            ...              ...                 ...                  ...   \n",
            "502     Automatic        30 meters                38.5                 8.25   \n",
            "503     Automatic       300 meters                45.0                15.50   \n",
            "504     Automatic        30 meters                38.5                 9.70   \n",
            "505     Automatic       150 meters                41.5                11.00   \n",
            "506     Automatic        50 meters                40.0                10.60   \n",
            "\n",
            "     Band Width (mm) Dial Color Crystal Material Complications Power Reserve  \\\n",
            "0               20.0      Black         Sapphire          Date      48 hours   \n",
            "1               21.0       Blue         Sapphire          Date      60 hours   \n",
            "2               20.0      White         Sapphire   Chronograph      42 hours   \n",
            "3               22.0      Black         Sapphire   Chronograph      70 hours   \n",
            "4               20.0     Silver         Sapphire          None           NaN   \n",
            "..               ...        ...              ...           ...           ...   \n",
            "502             20.0      White         Sapphire          Date      38 hours   \n",
            "503             23.0      Black         Sapphire          Date     120 hours   \n",
            "504             20.0       Blue         Sapphire          Date      64 hours   \n",
            "505             22.0       Blue         Sapphire          Date      40 hours   \n",
            "506             20.0     Silver         Sapphire          Date      38 hours   \n",
            "\n",
            "    Price (USD)  \n",
            "0         9,500  \n",
            "1         5,800  \n",
            "2         4,200  \n",
            "3         7,900  \n",
            "4         2,800  \n",
            "..          ...  \n",
            "502      21,500  \n",
            "503      13,500  \n",
            "504       1,800  \n",
            "505      19,000  \n",
            "506       1,200  \n",
            "\n",
            "[507 rows x 14 columns]\n"
          ]
        }
      ]
    },
    {
      "cell_type": "code",
      "source": [
        "data.info()"
      ],
      "metadata": {
        "colab": {
          "base_uri": "https://localhost:8080/"
        },
        "id": "ZoYIJwRyifh-",
        "outputId": "a0861418-1de6-437e-ba18-930cdd88a061"
      },
      "execution_count": 45,
      "outputs": [
        {
          "output_type": "stream",
          "name": "stdout",
          "text": [
            "<class 'pandas.core.frame.DataFrame'>\n",
            "RangeIndex: 507 entries, 0 to 506\n",
            "Data columns (total 14 columns):\n",
            " #   Column               Non-Null Count  Dtype  \n",
            "---  ------               --------------  -----  \n",
            " 0   Brand                507 non-null    object \n",
            " 1   Model                507 non-null    object \n",
            " 2   Case Material        507 non-null    object \n",
            " 3   Strap Material       507 non-null    object \n",
            " 4   Movement Type        507 non-null    object \n",
            " 5   Water Resistance     507 non-null    object \n",
            " 6   Case Diameter (mm)   507 non-null    float64\n",
            " 7   Case Thickness (mm)  507 non-null    float64\n",
            " 8   Band Width (mm)      507 non-null    float64\n",
            " 9   Dial Color           507 non-null    object \n",
            " 10  Crystal Material     507 non-null    object \n",
            " 11  Complications        507 non-null    object \n",
            " 12  Power Reserve        493 non-null    object \n",
            " 13  Price (USD)          506 non-null    object \n",
            "dtypes: float64(3), object(11)\n",
            "memory usage: 55.6+ KB\n"
          ]
        }
      ]
    },
    {
      "cell_type": "code",
      "source": [
        "columnas_eliminar = ['Complications', 'Power Reserve']\n",
        "data = data.drop(columnas_eliminar, axis=1)"
      ],
      "metadata": {
        "id": "AxcEL3AebWFr"
      },
      "execution_count": 46,
      "outputs": []
    },
    {
      "cell_type": "code",
      "source": [
        "data.info()"
      ],
      "metadata": {
        "colab": {
          "base_uri": "https://localhost:8080/"
        },
        "id": "NYF8suFmbrdt",
        "outputId": "c9b31048-fd71-4bcc-9f89-491f356650f0"
      },
      "execution_count": 47,
      "outputs": [
        {
          "output_type": "stream",
          "name": "stdout",
          "text": [
            "<class 'pandas.core.frame.DataFrame'>\n",
            "RangeIndex: 507 entries, 0 to 506\n",
            "Data columns (total 12 columns):\n",
            " #   Column               Non-Null Count  Dtype  \n",
            "---  ------               --------------  -----  \n",
            " 0   Brand                507 non-null    object \n",
            " 1   Model                507 non-null    object \n",
            " 2   Case Material        507 non-null    object \n",
            " 3   Strap Material       507 non-null    object \n",
            " 4   Movement Type        507 non-null    object \n",
            " 5   Water Resistance     507 non-null    object \n",
            " 6   Case Diameter (mm)   507 non-null    float64\n",
            " 7   Case Thickness (mm)  507 non-null    float64\n",
            " 8   Band Width (mm)      507 non-null    float64\n",
            " 9   Dial Color           507 non-null    object \n",
            " 10  Crystal Material     507 non-null    object \n",
            " 11  Price (USD)          506 non-null    object \n",
            "dtypes: float64(3), object(9)\n",
            "memory usage: 47.7+ KB\n"
          ]
        }
      ]
    },
    {
      "cell_type": "code",
      "source": [
        "columnas_eliminar = ['Price (USD)']\n",
        "simbolo = ','\n",
        "\n",
        "for columna in columnas_eliminar:\n",
        "    data[columna] = data[columna].str.replace(simbolo, '', regex=False)"
      ],
      "metadata": {
        "id": "HcW3ITuoi4aw"
      },
      "execution_count": 48,
      "outputs": []
    },
    {
      "cell_type": "code",
      "source": [
        "print(data)"
      ],
      "metadata": {
        "colab": {
          "base_uri": "https://localhost:8080/"
        },
        "id": "CDcJv73OABpB",
        "outputId": "18365a79-02bc-483d-a69e-54f1ceb5fb39"
      },
      "execution_count": 49,
      "outputs": [
        {
          "output_type": "stream",
          "name": "stdout",
          "text": [
            "                   Brand              Model    Case Material   Strap Material  \\\n",
            "0                  Rolex         Submariner  Stainless Steel  Stainless Steel   \n",
            "1                  Omega          Seamaster         Titanium           Rubber   \n",
            "2              Tag Heuer            Carrera  Stainless Steel          Leather   \n",
            "3              Breitling          Navitimer  Stainless Steel  Stainless Steel   \n",
            "4                Cartier          Tank Solo  Stainless Steel          Leather   \n",
            "..                   ...                ...              ...              ...   \n",
            "502              Breguet          Classique    18k Rose Gold          Leather   \n",
            "503            Blancpain      Fifty Fathoms  Stainless Steel           Fabric   \n",
            "504             Longines  Master Collection  Stainless Steel          Leather   \n",
            "505  Vacheron Constantin           Overseas  Stainless Steel  Stainless Steel   \n",
            "506  Frederique Constant           Classics  Stainless Steel          Leather   \n",
            "\n",
            "    Movement Type Water Resistance  Case Diameter (mm)  Case Thickness (mm)  \\\n",
            "0       Automatic       300 meters                40.0                13.00   \n",
            "1       Automatic       600 meters                43.5                14.47   \n",
            "2       Automatic       100 meters                41.0                13.00   \n",
            "3       Automatic        30 meters                43.0                14.25   \n",
            "4          Quartz        30 meters                31.0                 6.05   \n",
            "..            ...              ...                 ...                  ...   \n",
            "502     Automatic        30 meters                38.5                 8.25   \n",
            "503     Automatic       300 meters                45.0                15.50   \n",
            "504     Automatic        30 meters                38.5                 9.70   \n",
            "505     Automatic       150 meters                41.5                11.00   \n",
            "506     Automatic        50 meters                40.0                10.60   \n",
            "\n",
            "     Band Width (mm) Dial Color Crystal Material Price (USD)  \n",
            "0               20.0      Black         Sapphire        9500  \n",
            "1               21.0       Blue         Sapphire        5800  \n",
            "2               20.0      White         Sapphire        4200  \n",
            "3               22.0      Black         Sapphire        7900  \n",
            "4               20.0     Silver         Sapphire        2800  \n",
            "..               ...        ...              ...         ...  \n",
            "502             20.0      White         Sapphire       21500  \n",
            "503             23.0      Black         Sapphire       13500  \n",
            "504             20.0       Blue         Sapphire        1800  \n",
            "505             22.0       Blue         Sapphire       19000  \n",
            "506             20.0     Silver         Sapphire        1200  \n",
            "\n",
            "[507 rows x 12 columns]\n"
          ]
        }
      ]
    },
    {
      "cell_type": "code",
      "source": [
        "columna_categorica = 'Price (USD)'\n",
        "print(data[columna_categorica].unique())"
      ],
      "metadata": {
        "colab": {
          "base_uri": "https://localhost:8080/"
        },
        "id": "MJR_ngQEAFSz",
        "outputId": "2e7d9ff9-fa14-4b6f-ffc2-2877f97a4899"
      },
      "execution_count": 51,
      "outputs": [
        {
          "output_type": "stream",
          "name": "stdout",
          "text": [
            "['9500' '5800' '4200' '7900' '2800' '5500' '1400' '1200' '650' '495'\n",
            " '1150' '1800' '4500' '16000' '22000' '19000' '3200' '3900' '3500' '14000'\n",
            " '4800' '7500' nan '6200' '21000' '9000' '5250' '8800' '17800' '11500'\n",
            " '6500' '23500' '10000' '21500' '9800' '19900' '14400' '12800' '7800'\n",
            " '9200' '8400' '1600' '29800' '24500' '7950' '8200' '9400' '6700' '6100'\n",
            " '16300' '3600' '8900' '44500' '17000' '8300' '12000' '6900' '15500'\n",
            " '11200' '18900' '49800' '9600' '14700' '10600' '19200' '5600' '995' '545'\n",
            " '3800' '1500' '2500' '38000' '55000' '23000' '8500' '6000' '16500'\n",
            " '16800' '19800' '47000' '18500' '2200' '9950' '4950' '13900' '20500'\n",
            " '18000' '13500' '26000' '23100' '17900' '15200' '1300' '2750' '8700'\n",
            " '3350' '8000' '5700' '34000' '6800' '5300' '17500' '15000' '5000' '12500'\n",
            " '19500' '20800' '13000' '9700' '7400' '4300' '9100' '20900' '1700' '2600'\n",
            " '4400' '595' '5400' '25000' '20000' '10500' '51000' '14500' '6400'\n",
            " '20400' '62500' '14900' '5900' '2700' '4700' '4600' '39500' '6550' '3850'\n",
            " '25800' '4100' '12900' '8100' '44000' '13200' '20200' '24800' '4000'\n",
            " '22500' '70000' '7200' '7600' '57000' '29500' '36500' '7000' '3100'\n",
            " '4900' '1850' '5350' '3250' '14200' '27000' '7250' '52000' '28500'\n",
            " '39000' '24000' '11000' '3700' '5200' '40000' '9450' '22300' '23300'\n",
            " '23200' '6300' '6600' '22900' '29000' '38500' '28000' '36000' '9900'\n",
            " '7650' '67000' '27900' '35000']\n"
          ]
        }
      ]
    },
    {
      "cell_type": "code",
      "source": [
        "# Supongamos que 'data' es tu DataFrame\n",
        "columna_categorica = 'Price (USD)'\n",
        "columna_numerica = 'Price'\n",
        "\n",
        "# Crea una nueva columna numérica y copia los valores de la columna categórica\n",
        "data[columna_numerica] = pd.to_numeric(data[columna_categorica], errors='coerce')\n",
        "\n",
        "# Elimina la columna categórica original\n",
        "data.drop(columna_categorica, axis=1, inplace=True)"
      ],
      "metadata": {
        "id": "iFCu2N4YuhfQ"
      },
      "execution_count": 52,
      "outputs": []
    },
    {
      "cell_type": "code",
      "source": [
        "data.info()"
      ],
      "metadata": {
        "colab": {
          "base_uri": "https://localhost:8080/"
        },
        "id": "VpbiDOZmjHzw",
        "outputId": "53a57e95-8167-4ec7-af7e-c6168c2c8b5e"
      },
      "execution_count": 53,
      "outputs": [
        {
          "output_type": "stream",
          "name": "stdout",
          "text": [
            "<class 'pandas.core.frame.DataFrame'>\n",
            "RangeIndex: 507 entries, 0 to 506\n",
            "Data columns (total 12 columns):\n",
            " #   Column               Non-Null Count  Dtype  \n",
            "---  ------               --------------  -----  \n",
            " 0   Brand                507 non-null    object \n",
            " 1   Model                507 non-null    object \n",
            " 2   Case Material        507 non-null    object \n",
            " 3   Strap Material       507 non-null    object \n",
            " 4   Movement Type        507 non-null    object \n",
            " 5   Water Resistance     507 non-null    object \n",
            " 6   Case Diameter (mm)   507 non-null    float64\n",
            " 7   Case Thickness (mm)  507 non-null    float64\n",
            " 8   Band Width (mm)      507 non-null    float64\n",
            " 9   Dial Color           507 non-null    object \n",
            " 10  Crystal Material     507 non-null    object \n",
            " 11  Price                506 non-null    float64\n",
            "dtypes: float64(4), object(8)\n",
            "memory usage: 47.7+ KB\n"
          ]
        }
      ]
    },
    {
      "cell_type": "code",
      "source": [
        "#variables categoricas\n",
        "columnas_categoricas = data.select_dtypes(include=['object']).columns\n"
      ],
      "metadata": {
        "id": "sFmWfM7Mjn9Z"
      },
      "execution_count": 54,
      "outputs": []
    },
    {
      "cell_type": "code",
      "source": [
        "#Procesamiento de frases o palabras\n",
        "for columna in columnas_categoricas:\n",
        "  le = LabelEncoder()\n",
        "  data[columna] = le.fit_transform(data[columna])"
      ],
      "metadata": {
        "id": "GcxRaOoqkOyD"
      },
      "execution_count": 55,
      "outputs": []
    },
    {
      "cell_type": "code",
      "source": [
        "#resultado\n",
        "print(data)"
      ],
      "metadata": {
        "colab": {
          "base_uri": "https://localhost:8080/"
        },
        "id": "vHzN_Uj0kS96",
        "outputId": "d6fe7eec-340a-4c6a-d3cf-62edd11e575e"
      },
      "execution_count": 56,
      "outputs": [
        {
          "output_type": "stream",
          "name": "stdout",
          "text": [
            "     Brand  Model  Case Material  Strap Material  Movement Type  \\\n",
            "0       29     85             13              11              0   \n",
            "1       23     80             14               9              0   \n",
            "2       33     16             13               5              0   \n",
            "3        7     59             13              11              0   \n",
            "4       10     89             13               5              3   \n",
            "..     ...    ...            ...             ...            ...   \n",
            "502      6     22              4               5              0   \n",
            "503      5     35             13               2              0   \n",
            "504     21     53             13               5              0   \n",
            "505     37     61             13              11              0   \n",
            "506     13     21             13               5              0   \n",
            "\n",
            "     Water Resistance  Case Diameter (mm)  Case Thickness (mm)  \\\n",
            "0                   7                40.0                13.00   \n",
            "1                  11                43.5                14.47   \n",
            "2                   0                41.0                13.00   \n",
            "3                   6                43.0                14.25   \n",
            "4                   6                31.0                 6.05   \n",
            "..                ...                 ...                  ...   \n",
            "502                 6                38.5                 8.25   \n",
            "503                 7                45.0                15.50   \n",
            "504                 6                38.5                 9.70   \n",
            "505                 3                41.5                11.00   \n",
            "506                 8                40.0                10.60   \n",
            "\n",
            "     Band Width (mm)  Dial Color  Crystal Material    Price  \n",
            "0               20.0           0                 3   9500.0  \n",
            "1               21.0           1                 3   5800.0  \n",
            "2               20.0           6                 3   4200.0  \n",
            "3               22.0           0                 3   7900.0  \n",
            "4               20.0           5                 3   2800.0  \n",
            "..               ...         ...               ...      ...  \n",
            "502             20.0           6                 3  21500.0  \n",
            "503             23.0           0                 3  13500.0  \n",
            "504             20.0           1                 3   1800.0  \n",
            "505             22.0           1                 3  19000.0  \n",
            "506             20.0           5                 3   1200.0  \n",
            "\n",
            "[507 rows x 12 columns]\n"
          ]
        }
      ]
    },
    {
      "cell_type": "code",
      "source": [
        "data.info()"
      ],
      "metadata": {
        "colab": {
          "base_uri": "https://localhost:8080/"
        },
        "id": "tJ9GFsACksGy",
        "outputId": "528bc723-94e8-4842-8238-65572b1070c3"
      },
      "execution_count": 57,
      "outputs": [
        {
          "output_type": "stream",
          "name": "stdout",
          "text": [
            "<class 'pandas.core.frame.DataFrame'>\n",
            "RangeIndex: 507 entries, 0 to 506\n",
            "Data columns (total 12 columns):\n",
            " #   Column               Non-Null Count  Dtype  \n",
            "---  ------               --------------  -----  \n",
            " 0   Brand                507 non-null    int64  \n",
            " 1   Model                507 non-null    int64  \n",
            " 2   Case Material        507 non-null    int64  \n",
            " 3   Strap Material       507 non-null    int64  \n",
            " 4   Movement Type        507 non-null    int64  \n",
            " 5   Water Resistance     507 non-null    int64  \n",
            " 6   Case Diameter (mm)   507 non-null    float64\n",
            " 7   Case Thickness (mm)  507 non-null    float64\n",
            " 8   Band Width (mm)      507 non-null    float64\n",
            " 9   Dial Color           507 non-null    int64  \n",
            " 10  Crystal Material     507 non-null    int64  \n",
            " 11  Price                506 non-null    float64\n",
            "dtypes: float64(4), int64(8)\n",
            "memory usage: 47.7 KB\n"
          ]
        }
      ]
    },
    {
      "cell_type": "code",
      "source": [
        "#llenar datos vacios\n",
        "columnas_especificas = ['Price']\n",
        "media_columnas = data[columnas_especificas].mean()\n",
        "data[columnas_especificas] = data[columnas_especificas].fillna(media_columnas)"
      ],
      "metadata": {
        "id": "aL01HjE1tMNP"
      },
      "execution_count": 58,
      "outputs": []
    },
    {
      "cell_type": "code",
      "source": [
        "data.info()"
      ],
      "metadata": {
        "colab": {
          "base_uri": "https://localhost:8080/"
        },
        "id": "IZheY0q7lvQg",
        "outputId": "36fa0de5-2af8-453d-b604-17c334e7cd0e"
      },
      "execution_count": 59,
      "outputs": [
        {
          "output_type": "stream",
          "name": "stdout",
          "text": [
            "<class 'pandas.core.frame.DataFrame'>\n",
            "RangeIndex: 507 entries, 0 to 506\n",
            "Data columns (total 12 columns):\n",
            " #   Column               Non-Null Count  Dtype  \n",
            "---  ------               --------------  -----  \n",
            " 0   Brand                507 non-null    int64  \n",
            " 1   Model                507 non-null    int64  \n",
            " 2   Case Material        507 non-null    int64  \n",
            " 3   Strap Material       507 non-null    int64  \n",
            " 4   Movement Type        507 non-null    int64  \n",
            " 5   Water Resistance     507 non-null    int64  \n",
            " 6   Case Diameter (mm)   507 non-null    float64\n",
            " 7   Case Thickness (mm)  507 non-null    float64\n",
            " 8   Band Width (mm)      507 non-null    float64\n",
            " 9   Dial Color           507 non-null    int64  \n",
            " 10  Crystal Material     507 non-null    int64  \n",
            " 11  Price                507 non-null    float64\n",
            "dtypes: float64(4), int64(8)\n",
            "memory usage: 47.7 KB\n"
          ]
        }
      ]
    },
    {
      "cell_type": "code",
      "source": [
        "# Lectura de Datos\n",
        "X = data.iloc[:, :11]\n",
        "y = data.iloc[:, 11]\n",
        "m = y.size"
      ],
      "metadata": {
        "id": "YuuRUXgCwvZ_"
      },
      "execution_count": 95,
      "outputs": []
    },
    {
      "cell_type": "code",
      "source": [
        "print(X)\n",
        "print('*'*25)\n",
        "print(y)"
      ],
      "metadata": {
        "colab": {
          "base_uri": "https://localhost:8080/"
        },
        "id": "x1NBC6A6xFoC",
        "outputId": "e8156f27-cbe5-4e69-aab1-3e46970f27ec"
      },
      "execution_count": 96,
      "outputs": [
        {
          "output_type": "stream",
          "name": "stdout",
          "text": [
            "     Brand  Model  Case Material  Strap Material  Movement Type  \\\n",
            "0       29     85             13              11              0   \n",
            "1       23     80             14               9              0   \n",
            "2       33     16             13               5              0   \n",
            "3        7     59             13              11              0   \n",
            "4       10     89             13               5              3   \n",
            "..     ...    ...            ...             ...            ...   \n",
            "502      6     22              4               5              0   \n",
            "503      5     35             13               2              0   \n",
            "504     21     53             13               5              0   \n",
            "505     37     61             13              11              0   \n",
            "506     13     21             13               5              0   \n",
            "\n",
            "     Water Resistance  Case Diameter (mm)  Case Thickness (mm)  \\\n",
            "0                   7                40.0                13.00   \n",
            "1                  11                43.5                14.47   \n",
            "2                   0                41.0                13.00   \n",
            "3                   6                43.0                14.25   \n",
            "4                   6                31.0                 6.05   \n",
            "..                ...                 ...                  ...   \n",
            "502                 6                38.5                 8.25   \n",
            "503                 7                45.0                15.50   \n",
            "504                 6                38.5                 9.70   \n",
            "505                 3                41.5                11.00   \n",
            "506                 8                40.0                10.60   \n",
            "\n",
            "     Band Width (mm)  Dial Color  Crystal Material  \n",
            "0               20.0           0                 3  \n",
            "1               21.0           1                 3  \n",
            "2               20.0           6                 3  \n",
            "3               22.0           0                 3  \n",
            "4               20.0           5                 3  \n",
            "..               ...         ...               ...  \n",
            "502             20.0           6                 3  \n",
            "503             23.0           0                 3  \n",
            "504             20.0           1                 3  \n",
            "505             22.0           1                 3  \n",
            "506             20.0           5                 3  \n",
            "\n",
            "[507 rows x 11 columns]\n",
            "*************************\n",
            "0       9500.0\n",
            "1       5800.0\n",
            "2       4200.0\n",
            "3       7900.0\n",
            "4       2800.0\n",
            "        ...   \n",
            "502    21500.0\n",
            "503    13500.0\n",
            "504     1800.0\n",
            "505    19000.0\n",
            "506     1200.0\n",
            "Name: Price, Length: 507, dtype: float64\n"
          ]
        }
      ]
    },
    {
      "cell_type": "code",
      "source": [
        "def  featureNormalize(X):\n",
        "    X_norm = X.copy()\n",
        "    mu = np.zeros(X.shape[1])\n",
        "    sigma = np.zeros(X.shape[1])\n",
        "\n",
        "    mu = np.mean(X, axis = 0)\n",
        "    sigma = np.std(X, axis = 0)\n",
        "    X_norm = (X - mu) / sigma\n",
        "\n",
        "    return X_norm, mu, sigma\n",
        "\n",
        "# Normaliza entre -0.5 y 0.5 (revisar) porque se dan valores negativos y postivos"
      ],
      "metadata": {
        "id": "DrrFytt2gkI8"
      },
      "execution_count": 97,
      "outputs": []
    },
    {
      "cell_type": "code",
      "source": [
        "# llama featureNormalize con los datos cargados\n",
        "X_norm, mu, sigma = featureNormalize(X)\n",
        "\n",
        "print(X)\n",
        "print('Media calculada:', mu)\n",
        "print('Desviación estandar calculada:', sigma)\n",
        "print(X_norm)"
      ],
      "metadata": {
        "colab": {
          "base_uri": "https://localhost:8080/"
        },
        "id": "MhHhItqc4YLy",
        "outputId": "767baca7-0d7d-4c01-b078-a1117e2fc493"
      },
      "execution_count": 98,
      "outputs": [
        {
          "output_type": "stream",
          "name": "stdout",
          "text": [
            "     Brand  Model  Case Material  Strap Material  Movement Type  \\\n",
            "0       29     85             13              11              0   \n",
            "1       23     80             14               9              0   \n",
            "2       33     16             13               5              0   \n",
            "3        7     59             13              11              0   \n",
            "4       10     89             13               5              3   \n",
            "..     ...    ...            ...             ...            ...   \n",
            "502      6     22              4               5              0   \n",
            "503      5     35             13               2              0   \n",
            "504     21     53             13               5              0   \n",
            "505     37     61             13              11              0   \n",
            "506     13     21             13               5              0   \n",
            "\n",
            "     Water Resistance  Case Diameter (mm)  Case Thickness (mm)  \\\n",
            "0                   7                40.0                13.00   \n",
            "1                  11                43.5                14.47   \n",
            "2                   0                41.0                13.00   \n",
            "3                   6                43.0                14.25   \n",
            "4                   6                31.0                 6.05   \n",
            "..                ...                 ...                  ...   \n",
            "502                 6                38.5                 8.25   \n",
            "503                 7                45.0                15.50   \n",
            "504                 6                38.5                 9.70   \n",
            "505                 3                41.5                11.00   \n",
            "506                 8                40.0                10.60   \n",
            "\n",
            "     Band Width (mm)  Dial Color  Crystal Material  \n",
            "0               20.0           0                 3  \n",
            "1               21.0           1                 3  \n",
            "2               20.0           6                 3  \n",
            "3               22.0           0                 3  \n",
            "4               20.0           5                 3  \n",
            "..               ...         ...               ...  \n",
            "502             20.0           6                 3  \n",
            "503             23.0           0                 3  \n",
            "504             20.0           1                 3  \n",
            "505             22.0           1                 3  \n",
            "506             20.0           5                 3  \n",
            "\n",
            "[507 rows x 11 columns]\n",
            "Media calculada: Brand                  19.601578\n",
            "Model                  47.159763\n",
            "Case Material          12.408284\n",
            "Strap Material          7.489152\n",
            "Movement Type           0.276134\n",
            "Water Resistance        4.688363\n",
            "Case Diameter (mm)     41.046154\n",
            "Case Thickness (mm)    11.588343\n",
            "Band Width (mm)        21.105523\n",
            "Dial Color              1.840237\n",
            "Crystal Material        2.927022\n",
            "dtype: float64\n",
            "Desviación estandar calculada: Brand                  11.298315\n",
            "Model                  23.989974\n",
            "Case Material           2.456921\n",
            "Strap Material          3.033895\n",
            "Movement Type           0.736939\n",
            "Water Resistance        3.268631\n",
            "Case Diameter (mm)      2.532838\n",
            "Case Thickness (mm)     2.489023\n",
            "Band Width (mm)         1.656738\n",
            "Dial Color              2.258475\n",
            "Crystal Material        0.392985\n",
            "dtype: float64\n",
            "        Brand     Model  Case Material  Strap Material  Movement Type  \\\n",
            "0    0.831843  1.577335       0.240836        1.157208      -0.374704   \n",
            "1    0.300790  1.368915       0.647850        0.497990      -0.374704   \n",
            "2    1.185878 -1.298866       0.240836       -0.820448      -0.374704   \n",
            "3   -1.115350  0.493549       0.240836        1.157208      -0.374704   \n",
            "4   -0.849824  1.744072       0.240836       -0.820448       3.696188   \n",
            "..        ...       ...            ...             ...            ...   \n",
            "502 -1.203859 -1.048762      -3.422285       -0.820448      -0.374704   \n",
            "503 -1.292368 -0.506869       0.240836       -1.809276      -0.374704   \n",
            "504  0.123773  0.243445       0.240836       -0.820448      -0.374704   \n",
            "505  1.539913  0.576918       0.240836        1.157208      -0.374704   \n",
            "506 -0.584298 -1.090446       0.240836       -0.820448      -0.374704   \n",
            "\n",
            "     Water Resistance  Case Diameter (mm)  Case Thickness (mm)  \\\n",
            "0            0.707219           -0.413036             0.567153   \n",
            "1            1.930973            0.968813             1.157746   \n",
            "2           -1.434351           -0.018222             0.567153   \n",
            "3            0.401280            0.771406             1.069358   \n",
            "4            0.401280           -3.966363            -2.225108   \n",
            "..                ...                 ...                  ...   \n",
            "502          0.401280           -1.005257            -1.341227   \n",
            "503          0.707219            1.561034             1.571563   \n",
            "504          0.401280           -1.005257            -0.758669   \n",
            "505         -0.516535            0.179185            -0.236375   \n",
            "506          1.013157           -0.413036            -0.397081   \n",
            "\n",
            "     Band Width (mm)  Dial Color  Crystal Material  \n",
            "0          -0.667289   -0.814814          0.185702  \n",
            "1          -0.063693   -0.372037          0.185702  \n",
            "2          -0.667289    1.841846          0.185702  \n",
            "3           0.539903   -0.814814          0.185702  \n",
            "4          -0.667289    1.399070          0.185702  \n",
            "..               ...         ...               ...  \n",
            "502        -0.667289    1.841846          0.185702  \n",
            "503         1.143498   -0.814814          0.185702  \n",
            "504        -0.667289   -0.372037          0.185702  \n",
            "505         0.539903   -0.372037          0.185702  \n",
            "506        -0.667289    1.399070          0.185702  \n",
            "\n",
            "[507 rows x 11 columns]\n"
          ]
        }
      ]
    },
    {
      "cell_type": "code",
      "source": [
        "# Añade el termino de interseccion a X\n",
        "# (Columna de unos para X0)\n",
        "X = np.concatenate([np.ones((m, 1)), X_norm], axis=1)"
      ],
      "metadata": {
        "id": "EB4cCmdm4bxJ"
      },
      "execution_count": 99,
      "outputs": []
    },
    {
      "cell_type": "code",
      "source": [
        "print(X)"
      ],
      "metadata": {
        "colab": {
          "base_uri": "https://localhost:8080/"
        },
        "id": "jxdWrQDC4fcD",
        "outputId": "39c14793-5740-4e2c-aec3-81fd17b2b40e"
      },
      "execution_count": 100,
      "outputs": [
        {
          "output_type": "stream",
          "name": "stdout",
          "text": [
            "[[ 1.          0.83184285  1.57733546 ... -0.66728862 -0.81481391\n",
            "   0.18570235]\n",
            " [ 1.          0.30079018  1.36891506 ... -0.06369303 -0.37203722\n",
            "   0.18570235]\n",
            " [ 1.          1.18587795 -1.29886607 ... -0.66728862  1.84184624\n",
            "   0.18570235]\n",
            " ...\n",
            " [ 1.          0.12377263  0.24344489 ... -0.66728862 -0.37203722\n",
            "   0.18570235]\n",
            " [ 1.          1.53991306  0.57691753 ...  0.53990257 -0.37203722\n",
            "   0.18570235]\n",
            " [ 1.         -0.58429759 -1.09044567 ... -0.66728862  1.39906955\n",
            "   0.18570235]]\n"
          ]
        }
      ]
    },
    {
      "cell_type": "code",
      "source": [
        "def computeCostMulti(X, y, theta):\n",
        "    # Inicializa algunos valores utiles\n",
        "    m = y.shape[0] # numero de ejemplos de entrenamiento\n",
        "\n",
        "    J = 0\n",
        "\n",
        "    h = np.dot(X, theta)\n",
        "\n",
        "    J = (1/(2 * m)) * np.sum(np.square(np.dot(X, theta) - y))\n",
        "\n",
        "    return J\n"
      ],
      "metadata": {
        "id": "is_NER384kX5"
      },
      "execution_count": 101,
      "outputs": []
    },
    {
      "cell_type": "code",
      "source": [
        "def gradientDescentMulti(X, y, theta, alpha, num_iters):\n",
        "\n",
        "    # Inicializa algunos valores\n",
        "    m = y.shape[0] # numero de ejemplos de entrenamiento\n",
        "\n",
        "    # realiza una copia de theta, el cual será acutalizada por el descenso por el gradiente\n",
        "    theta = theta.copy()\n",
        "\n",
        "    J_history = []\n",
        "\n",
        "    for i in range(num_iters):\n",
        "        theta = theta - (alpha / m) * (np.dot(X, theta) - y).dot(X)\n",
        "        J_history.append(computeCostMulti(X, y, theta))\n",
        "\n",
        "    return theta, J_history"
      ],
      "metadata": {
        "id": "NTic99Il4k9H"
      },
      "execution_count": 102,
      "outputs": []
    },
    {
      "cell_type": "code",
      "source": [
        "# Elegir algun valor para alpha (probar varias alternativas)\n",
        "alpha = 0.001 # si es grande se resta más a los thetas, si es menor alfa va cambiando poco a poco\n",
        "#se necesitan muchas iteraciones, si es grande el alfa salta mucho y no llega facilmente\n",
        "# mejores alfas = 0.1, 0.01, 0.001, 0.0001, 0.0005\n",
        "num_iters = 5000\n",
        "\n",
        "# inicializa theta y ejecuta el descenso por el gradiente\n",
        "theta = np.zeros(12)\n",
        "theta, J_history = gradientDescentMulti(X, y, theta, alpha, num_iters)\n",
        "\n",
        "# Grafica la convergencia del costo\n",
        "pyplot.plot(np.arange(len(J_history)), J_history, lw=2)\n",
        "pyplot.xlabel('Numero de iteraciones')\n",
        "pyplot.ylabel('Costo J')\n",
        "\n",
        "# Muestra los resultados del descenso por el gradiente\n",
        "print('theta calculado por el descenso por el gradiente: {:s}'.format(str(theta)))\n",
        "\n",
        "# Estimar el precio para un smart watch con distintas caracteristicas\n",
        "X_array = [1, 29, 85, 13, 11, 0, 7, 40, 13, 20, 0, 3]\n",
        "X_array[1:12] = (X_array[1:12] - mu) / sigma\n",
        "price = np.dot(X_array, theta)   # Se debe cambiar esto\n",
        "\n",
        "print('El valor predecido es (usando el descenso por el gradiente): {:.4f}'.format(price))"
      ],
      "metadata": {
        "colab": {
          "base_uri": "https://localhost:8080/",
          "height": 534
        },
        "id": "2sc2AmKF4qJQ",
        "outputId": "068aa1ff-a56d-47cf-9d44-da976701e59f"
      },
      "execution_count": 103,
      "outputs": [
        {
          "output_type": "stream",
          "name": "stdout",
          "text": [
            "theta calculado por el descenso por el gradiente: [12001.75347016  -793.21389528   666.41046016 -1831.63365867\n",
            "  2084.72330359 -1197.89226254  -709.02667612  1803.63553215\n",
            " -4683.54749524  -238.31296921  -601.6903631   1015.84668314]\n",
            "El valor predecido es (usando el descenso por el gradiente): 11748.5093\n"
          ]
        },
        {
          "output_type": "display_data",
          "data": {
            "text/plain": [
              "<Figure size 640x480 with 1 Axes>"
            ],
            "image/png": "[encoded data removed]"
          },
          "metadata": {}
        }
      ]
    },
    {
      "cell_type": "code",
      "source": [
        "# Generar un nuevo dataset con la columna movida\n",
        "nuevo_dataset = data.copy()\n",
        "\n",
        "# Guardar el nuevo DataFrame en un archivo CSV\n",
        "nuevo_dataset.to_csv('luxury_watchnu.csv', index=False)\n",
        "\n",
        "print(\"Archivo 'luxury_watchnu.csv' creado exitosamente.\")"
      ],
      "metadata": {
        "colab": {
          "base_uri": "https://localhost:8080/"
        },
        "id": "afrQKVkvN3Vt",
        "outputId": "54445e26-6b8f-4cf2-a15a-4b0b3bf952f1"
      },
      "execution_count": 83,
      "outputs": [
        {
          "output_type": "stream",
          "name": "stdout",
          "text": [
            "Archivo 'luxury_watchnu.csv' creado exitosamente.\n"
          ]
        }
      ]
    },
    {
      "cell_type": "code",
      "source": [
        "#Carga de dataset\n",
        "data = pd.read_csv('/content/luxury_watchnu.csv')"
      ],
      "metadata": {
        "id": "cH7o-MrNOBOF"
      },
      "execution_count": 84,
      "outputs": []
    },
    {
      "cell_type": "code",
      "source": [
        "print(data)"
      ],
      "metadata": {
        "colab": {
          "base_uri": "https://localhost:8080/"
        },
        "id": "W3r9mN9FOCf_",
        "outputId": "fc78603c-9bf4-4957-f5de-36431b09c978"
      },
      "execution_count": 86,
      "outputs": [
        {
          "output_type": "stream",
          "name": "stdout",
          "text": [
            "     Brand  Model  Case Material  Strap Material  Movement Type  \\\n",
            "0       29     85             13              11              0   \n",
            "1       23     80             14               9              0   \n",
            "2       33     16             13               5              0   \n",
            "3        7     59             13              11              0   \n",
            "4       10     89             13               5              3   \n",
            "..     ...    ...            ...             ...            ...   \n",
            "502      6     22              4               5              0   \n",
            "503      5     35             13               2              0   \n",
            "504     21     53             13               5              0   \n",
            "505     37     61             13              11              0   \n",
            "506     13     21             13               5              0   \n",
            "\n",
            "     Water Resistance  Case Diameter (mm)  Case Thickness (mm)  \\\n",
            "0                   7                40.0                13.00   \n",
            "1                  11                43.5                14.47   \n",
            "2                   0                41.0                13.00   \n",
            "3                   6                43.0                14.25   \n",
            "4                   6                31.0                 6.05   \n",
            "..                ...                 ...                  ...   \n",
            "502                 6                38.5                 8.25   \n",
            "503                 7                45.0                15.50   \n",
            "504                 6                38.5                 9.70   \n",
            "505                 3                41.5                11.00   \n",
            "506                 8                40.0                10.60   \n",
            "\n",
            "     Band Width (mm)  Dial Color  Crystal Material    Price  \n",
            "0               20.0           0                 3   9500.0  \n",
            "1               21.0           1                 3   5800.0  \n",
            "2               20.0           6                 3   4200.0  \n",
            "3               22.0           0                 3   7900.0  \n",
            "4               20.0           5                 3   2800.0  \n",
            "..               ...         ...               ...      ...  \n",
            "502             20.0           6                 3  21500.0  \n",
            "503             23.0           0                 3  13500.0  \n",
            "504             20.0           1                 3   1800.0  \n",
            "505             22.0           1                 3  19000.0  \n",
            "506             20.0           5                 3   1200.0  \n",
            "\n",
            "[507 rows x 12 columns]\n"
          ]
        }
      ]
    },
    {
      "cell_type": "code",
      "source": [
        "# Lectura de Datos\n",
        "X = data.iloc[:, :11]\n",
        "y = data.iloc[:, 11]\n",
        "m = y.size"
      ],
      "metadata": {
        "id": "WBXdprvkM71B"
      },
      "execution_count": 88,
      "outputs": []
    },
    {
      "cell_type": "code",
      "source": [
        "print(X)\n",
        "print('*'*25)\n",
        "print(y)"
      ],
      "metadata": {
        "colab": {
          "base_uri": "https://localhost:8080/"
        },
        "id": "6RMQ4dhdNM-P",
        "outputId": "9707b064-1701-452d-a580-c9e14780757a"
      },
      "execution_count": 89,
      "outputs": [
        {
          "output_type": "stream",
          "name": "stdout",
          "text": [
            "     Brand  Model  Case Material  Strap Material  Movement Type  \\\n",
            "0       29     85             13              11              0   \n",
            "1       23     80             14               9              0   \n",
            "2       33     16             13               5              0   \n",
            "3        7     59             13              11              0   \n",
            "4       10     89             13               5              3   \n",
            "..     ...    ...            ...             ...            ...   \n",
            "502      6     22              4               5              0   \n",
            "503      5     35             13               2              0   \n",
            "504     21     53             13               5              0   \n",
            "505     37     61             13              11              0   \n",
            "506     13     21             13               5              0   \n",
            "\n",
            "     Water Resistance  Case Diameter (mm)  Case Thickness (mm)  \\\n",
            "0                   7                40.0                13.00   \n",
            "1                  11                43.5                14.47   \n",
            "2                   0                41.0                13.00   \n",
            "3                   6                43.0                14.25   \n",
            "4                   6                31.0                 6.05   \n",
            "..                ...                 ...                  ...   \n",
            "502                 6                38.5                 8.25   \n",
            "503                 7                45.0                15.50   \n",
            "504                 6                38.5                 9.70   \n",
            "505                 3                41.5                11.00   \n",
            "506                 8                40.0                10.60   \n",
            "\n",
            "     Band Width (mm)  Dial Color  Crystal Material  \n",
            "0               20.0           0                 3  \n",
            "1               21.0           1                 3  \n",
            "2               20.0           6                 3  \n",
            "3               22.0           0                 3  \n",
            "4               20.0           5                 3  \n",
            "..               ...         ...               ...  \n",
            "502             20.0           6                 3  \n",
            "503             23.0           0                 3  \n",
            "504             20.0           1                 3  \n",
            "505             22.0           1                 3  \n",
            "506             20.0           5                 3  \n",
            "\n",
            "[507 rows x 11 columns]\n",
            "*************************\n",
            "0       9500.0\n",
            "1       5800.0\n",
            "2       4200.0\n",
            "3       7900.0\n",
            "4       2800.0\n",
            "        ...   \n",
            "502    21500.0\n",
            "503    13500.0\n",
            "504     1800.0\n",
            "505    19000.0\n",
            "506     1200.0\n",
            "Name: Price, Length: 507, dtype: float64\n"
          ]
        }
      ]
    },
    {
      "cell_type": "code",
      "source": [
        "X = np.concatenate([np.ones((m, 1)), X], axis=1)"
      ],
      "metadata": {
        "id": "AfIl12w_PxG_"
      },
      "execution_count": 90,
      "outputs": []
    },
    {
      "cell_type": "code",
      "source": [
        "# importante que para usar m>n, evitar datos redundantes, no se normaliza\n",
        "def normalEqn(X, y):\n",
        "\n",
        "    theta = np.zeros(X.shape[1])\n",
        "\n",
        "    theta = np.dot(np.dot(np.linalg.inv(np.dot(X.T,X)),X.T),y)\n",
        "\n",
        "    return theta"
      ],
      "metadata": {
        "id": "_MMoIdODf9FN"
      },
      "execution_count": 91,
      "outputs": []
    },
    {
      "cell_type": "code",
      "source": [
        "# Calcula los parametros con la ecuación de la normal\n",
        "theta = normalEqn(X, y);\n",
        "\n",
        "# Muestra los resultados optenidos a partir de la aplicación de la ecuación de la normal\n",
        "print('Theta calculado a partir de la ecuación de la normal: {:s}'.format(str(theta)));\n",
        "\n",
        "# Estimar el precio para una casa de superficie de 1650 sq-ft y tres dormitorios\n",
        "\n",
        "X_array = [1, 29, 85, 13, 11, 0, 7, 40, 13, 20, 0, 3]\n",
        "price = np.dot(X_array, theta)\n",
        "\n",
        "print('Precio predecido para una cada de superficie de 1650 sq-ft y 3 dormitorios (usando la ecuación de la normal): ${:.0f}'.format(price))"
      ],
      "metadata": {
        "colab": {
          "base_uri": "https://localhost:8080/"
        },
        "id": "E7px4OMrf9un",
        "outputId": "d904bece-6704-4f00-d624-b14e1d823ff1"
      },
      "execution_count": 92,
      "outputs": [
        {
          "output_type": "stream",
          "name": "stdout",
          "text": [
            "Theta calculado a partir de la ecuación de la normal: [ 3961.5615516    -70.65600106    24.81972362  -741.37010772\n",
            "   607.92586267 -1793.33023262  -282.21706245  1036.86944002\n",
            " -2147.48129772  -414.9272471   -322.25042615  2212.83577902]\n",
            "Precio predecido para una cada de superficie de 1650 sq-ft y 3 dormitorios (usando la ecuación de la normal): $10994\n"
          ]
        }
      ]
    }
  ]
}