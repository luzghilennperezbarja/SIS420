{
  "nbformat": 4,
  "nbformat_minor": 0,
  "metadata": {
    "colab": {
      "provenance": []
    },
    "kernelspec": {
      "name": "python3",
      "display_name": "Python 3"
    },
    "language_info": {
      "name": "python"
    }
  },
  "cells": [
    {
      "cell_type": "markdown",
      "source": [
        "Laboratorio 3 Perez Barja Luz Ghilenn"
      ],
      "metadata": {
        "id": "oSlNo0-IKXKk"
      }
    },
    {
      "cell_type": "code",
      "execution_count": 10,
      "metadata": {
        "id": "xNbvPv1U_fTP"
      },
      "outputs": [],
      "source": [
        "import pandas as pd"
      ]
    },
    {
      "cell_type": "code",
      "source": [
        "# se utiliza para el manejo de rutas y directorios.\n",
        "import os\n",
        "\n",
        "# Calculo cientifico y vectorial para python\n",
        "import numpy as np\n",
        "\n",
        "# Librerias para graficar\n",
        "from matplotlib import pyplot\n",
        "\n",
        "# Modulo de optimización de scipy\n",
        "from scipy import optimize\n",
        "\n",
        "# le dice a matplotlib que incruste gráficos en el cuaderno\n",
        "%matplotlib inline"
      ],
      "metadata": {
        "id": "pHFhpBjfK4-D"
      },
      "execution_count": 11,
      "outputs": []
    },
    {
      "cell_type": "code",
      "source": [
        "import pandas as pd\n",
        "from sklearn.preprocessing import LabelEncoder\n",
        "from datetime import datetime\n",
        "from sklearn.model_selection import train_test_split"
      ],
      "metadata": {
        "id": "WfTH_QsPAISg"
      },
      "execution_count": 12,
      "outputs": []
    },
    {
      "cell_type": "code",
      "source": [
        "#Carga de dataset\n",
        "data = pd.read_csv('diabetes_prediction_dataset.csv', header=0, sep=',')"
      ],
      "metadata": {
        "id": "2spx1xTvLSPd"
      },
      "execution_count": 13,
      "outputs": []
    },
    {
      "cell_type": "code",
      "source": [
        "print(data)"
      ],
      "metadata": {
        "colab": {
          "base_uri": "https://localhost:8080/"
        },
        "id": "eDOrpvtZB0xl",
        "outputId": "6ffc0492-e2b7-4953-f146-4a8f989a429e"
      },
      "execution_count": 14,
      "outputs": [
        {
          "output_type": "stream",
          "name": "stdout",
          "text": [
            "       gender   age  hypertension  heart_disease smoking_history    bmi  \\\n",
            "0      Female  80.0             0              1           never  25.19   \n",
            "1      Female  54.0             0              0         No Info  27.32   \n",
            "2        Male  28.0             0              0           never  27.32   \n",
            "3      Female  36.0             0              0         current  23.45   \n",
            "4        Male  76.0             1              1         current  20.14   \n",
            "...       ...   ...           ...            ...             ...    ...   \n",
            "27523  Female  28.0             0              0         No Info  40.10   \n",
            "27524    Male  31.0             0              0         current  19.81   \n",
            "27525    Male  14.0             0              0           never  27.32   \n",
            "27526    Male  53.0             0              0           never  29.40   \n",
            "27527  Female  39.0             0              0         No Info  41.35   \n",
            "\n",
            "       HbA1c_level  blood_glucose_level  diabetes  \n",
            "0              6.6                  140         0  \n",
            "1              6.6                   80         0  \n",
            "2              5.7                  158         0  \n",
            "3              5.0                  155         0  \n",
            "4              4.8                  155         0  \n",
            "...            ...                  ...       ...  \n",
            "27523          6.0                   90         0  \n",
            "27524          6.2                  155         0  \n",
            "27525          6.5                  130         0  \n",
            "27526          6.6                  155         0  \n",
            "27527          4.5                  159         0  \n",
            "\n",
            "[27528 rows x 9 columns]\n"
          ]
        }
      ]
    },
    {
      "cell_type": "code",
      "source": [
        "data.info()"
      ],
      "metadata": {
        "colab": {
          "base_uri": "https://localhost:8080/"
        },
        "id": "NpyQpGynCRjS",
        "outputId": "a8e59bd3-14d5-46cf-a7be-18de7380f868"
      },
      "execution_count": 15,
      "outputs": [
        {
          "output_type": "stream",
          "name": "stdout",
          "text": [
            "<class 'pandas.core.frame.DataFrame'>\n",
            "RangeIndex: 27528 entries, 0 to 27527\n",
            "Data columns (total 9 columns):\n",
            " #   Column               Non-Null Count  Dtype  \n",
            "---  ------               --------------  -----  \n",
            " 0   gender               27528 non-null  object \n",
            " 1   age                  27528 non-null  float64\n",
            " 2   hypertension         27528 non-null  int64  \n",
            " 3   heart_disease        27528 non-null  int64  \n",
            " 4   smoking_history      27528 non-null  object \n",
            " 5   bmi                  27528 non-null  float64\n",
            " 6   HbA1c_level          27528 non-null  float64\n",
            " 7   blood_glucose_level  27528 non-null  int64  \n",
            " 8   diabetes             27528 non-null  int64  \n",
            "dtypes: float64(3), int64(4), object(2)\n",
            "memory usage: 1.9+ MB\n"
          ]
        }
      ]
    },
    {
      "cell_type": "code",
      "source": [
        "columnas_categoricas = data.select_dtypes(include=['object']).columns"
      ],
      "metadata": {
        "id": "Zmg0_rPYLlT9"
      },
      "execution_count": 16,
      "outputs": []
    },
    {
      "cell_type": "code",
      "source": [
        "#procesamiento de frases\n",
        "for columna in columnas_categoricas:\n",
        "  le = LabelEncoder()\n",
        "  data[columna] = le.fit_transform(data[columna])"
      ],
      "metadata": {
        "id": "wQYDf2iyLptK"
      },
      "execution_count": 17,
      "outputs": []
    },
    {
      "cell_type": "code",
      "source": [
        "data.info()"
      ],
      "metadata": {
        "colab": {
          "base_uri": "https://localhost:8080/"
        },
        "id": "TntjHSH-L8fj",
        "outputId": "158b88bb-b922-4683-981c-514c9a8b2c49"
      },
      "execution_count": 18,
      "outputs": [
        {
          "output_type": "stream",
          "name": "stdout",
          "text": [
            "<class 'pandas.core.frame.DataFrame'>\n",
            "RangeIndex: 27528 entries, 0 to 27527\n",
            "Data columns (total 9 columns):\n",
            " #   Column               Non-Null Count  Dtype  \n",
            "---  ------               --------------  -----  \n",
            " 0   gender               27528 non-null  int64  \n",
            " 1   age                  27528 non-null  float64\n",
            " 2   hypertension         27528 non-null  int64  \n",
            " 3   heart_disease        27528 non-null  int64  \n",
            " 4   smoking_history      27528 non-null  int64  \n",
            " 5   bmi                  27528 non-null  float64\n",
            " 6   HbA1c_level          27528 non-null  float64\n",
            " 7   blood_glucose_level  27528 non-null  int64  \n",
            " 8   diabetes             27528 non-null  int64  \n",
            "dtypes: float64(3), int64(6)\n",
            "memory usage: 1.9 MB\n"
          ]
        }
      ]
    },
    {
      "cell_type": "code",
      "source": [
        "# Division de dataset en entrenamiento y prueba\n",
        "train_data, test_data = train_test_split(data, test_size=0.2, random_state=42)"
      ],
      "metadata": {
        "id": "CdeGVy_yEiaz"
      },
      "execution_count": 19,
      "outputs": []
    },
    {
      "cell_type": "code",
      "source": [
        "print(train_data)"
      ],
      "metadata": {
        "colab": {
          "base_uri": "https://localhost:8080/"
        },
        "id": "XmRBMGO3FdJ3",
        "outputId": "aa9996d0-01cf-4f81-96ea-441e39e94096"
      },
      "execution_count": 20,
      "outputs": [
        {
          "output_type": "stream",
          "name": "stdout",
          "text": [
            "       gender   age  hypertension  heart_disease  smoking_history    bmi  \\\n",
            "15773       0  44.0             0              0                5  27.32   \n",
            "7986        1  66.0             0              0                4  25.18   \n",
            "1891        0  56.0             0              0                5  19.39   \n",
            "23307       0  30.0             0              0                5  31.53   \n",
            "9687        0  17.0             0              0                0  21.83   \n",
            "...       ...   ...           ...            ...              ...    ...   \n",
            "21575       1  80.0             1              0                0  29.76   \n",
            "5390        1  27.0             0              0                0  22.93   \n",
            "860         0  37.0             0              0                4  24.96   \n",
            "15795       0  23.0             0              0                4  27.99   \n",
            "23654       0  39.0             0              0                0  20.37   \n",
            "\n",
            "       HbA1c_level  blood_glucose_level  diabetes  \n",
            "15773          5.7                  130         0  \n",
            "7986           4.5                  130         0  \n",
            "1891           6.2                  145         0  \n",
            "23307          4.8                  155         0  \n",
            "9687           5.0                  155         0  \n",
            "...            ...                  ...       ...  \n",
            "21575          4.0                   90         0  \n",
            "5390           4.5                   85         0  \n",
            "860            6.2                  158         0  \n",
            "15795          5.0                  159         0  \n",
            "23654          6.1                   85         0  \n",
            "\n",
            "[22022 rows x 9 columns]\n"
          ]
        }
      ]
    },
    {
      "cell_type": "code",
      "source": [
        "print(test_data)"
      ],
      "metadata": {
        "colab": {
          "base_uri": "https://localhost:8080/"
        },
        "id": "gWziX1nLFvRc",
        "outputId": "c9c125b3-e2b6-48cf-be0c-10e37e3250f6"
      },
      "execution_count": 21,
      "outputs": [
        {
          "output_type": "stream",
          "name": "stdout",
          "text": [
            "       gender    age  hypertension  heart_disease  smoking_history    bmi  \\\n",
            "24177       0  55.00             0              0                3  25.51   \n",
            "24773       1  80.00             0              1                0  27.32   \n",
            "13317       0   1.72             0              0                0  16.28   \n",
            "21189       1  63.00             1              0                4  26.81   \n",
            "10019       0  41.00             0              0                4  27.32   \n",
            "...       ...    ...           ...            ...              ...    ...   \n",
            "10198       0  22.00             0              0                1  27.32   \n",
            "2323        1  16.00             0              0                0  21.89   \n",
            "26060       0  69.00             0              1                3  24.34   \n",
            "4692        1  26.00             0              0                5  27.32   \n",
            "24303       1  44.00             0              0                4  27.65   \n",
            "\n",
            "       HbA1c_level  blood_glucose_level  diabetes  \n",
            "24177          6.6                  260         1  \n",
            "24773          6.1                  159         1  \n",
            "13317          6.2                  100         0  \n",
            "21189          5.8                   85         0  \n",
            "10019          3.5                  140         0  \n",
            "...            ...                  ...       ...  \n",
            "10198          5.7                  158         0  \n",
            "2323           6.5                  145         0  \n",
            "26060          6.5                  130         0  \n",
            "4692           6.0                  126         0  \n",
            "24303          6.0                  126         0  \n",
            "\n",
            "[5506 rows x 9 columns]\n"
          ]
        }
      ]
    },
    {
      "cell_type": "code",
      "source": [
        "train_data.info()"
      ],
      "metadata": {
        "colab": {
          "base_uri": "https://localhost:8080/"
        },
        "id": "xqiT78fIF3BM",
        "outputId": "f6de5d35-f4e2-4f59-d301-c8920488255d"
      },
      "execution_count": 22,
      "outputs": [
        {
          "output_type": "stream",
          "name": "stdout",
          "text": [
            "<class 'pandas.core.frame.DataFrame'>\n",
            "Int64Index: 22022 entries, 15773 to 23654\n",
            "Data columns (total 9 columns):\n",
            " #   Column               Non-Null Count  Dtype  \n",
            "---  ------               --------------  -----  \n",
            " 0   gender               22022 non-null  int64  \n",
            " 1   age                  22022 non-null  float64\n",
            " 2   hypertension         22022 non-null  int64  \n",
            " 3   heart_disease        22022 non-null  int64  \n",
            " 4   smoking_history      22022 non-null  int64  \n",
            " 5   bmi                  22022 non-null  float64\n",
            " 6   HbA1c_level          22022 non-null  float64\n",
            " 7   blood_glucose_level  22022 non-null  int64  \n",
            " 8   diabetes             22022 non-null  int64  \n",
            "dtypes: float64(3), int64(6)\n",
            "memory usage: 1.7 MB\n"
          ]
        }
      ]
    },
    {
      "cell_type": "code",
      "source": [
        "test_data.info()"
      ],
      "metadata": {
        "colab": {
          "base_uri": "https://localhost:8080/"
        },
        "id": "TmsKLR3yFzEt",
        "outputId": "0afa4edb-9b05-4165-efb4-65f24e01e1ad"
      },
      "execution_count": 23,
      "outputs": [
        {
          "output_type": "stream",
          "name": "stdout",
          "text": [
            "<class 'pandas.core.frame.DataFrame'>\n",
            "Int64Index: 5506 entries, 24177 to 24303\n",
            "Data columns (total 9 columns):\n",
            " #   Column               Non-Null Count  Dtype  \n",
            "---  ------               --------------  -----  \n",
            " 0   gender               5506 non-null   int64  \n",
            " 1   age                  5506 non-null   float64\n",
            " 2   hypertension         5506 non-null   int64  \n",
            " 3   heart_disease        5506 non-null   int64  \n",
            " 4   smoking_history      5506 non-null   int64  \n",
            " 5   bmi                  5506 non-null   float64\n",
            " 6   HbA1c_level          5506 non-null   float64\n",
            " 7   blood_glucose_level  5506 non-null   int64  \n",
            " 8   diabetes             5506 non-null   int64  \n",
            "dtypes: float64(3), int64(6)\n",
            "memory usage: 430.2 KB\n"
          ]
        }
      ]
    },
    {
      "cell_type": "code",
      "source": [
        "train_data.to_csv(\"train.csv\", index=False)"
      ],
      "metadata": {
        "id": "DrWqn1TvGQhe"
      },
      "execution_count": 24,
      "outputs": []
    },
    {
      "cell_type": "code",
      "source": [
        "test_data.to_csv(\"test.csv\", index=False)"
      ],
      "metadata": {
        "id": "z7PapTK3GzZx"
      },
      "execution_count": 25,
      "outputs": []
    },
    {
      "cell_type": "code",
      "source": [
        "#Carga de dataset\n",
        "data = pd.read_csv('/content/train.csv')"
      ],
      "metadata": {
        "id": "LGP6dcE2G-Rx"
      },
      "execution_count": 26,
      "outputs": []
    },
    {
      "cell_type": "code",
      "source": [
        "X = data.iloc[:, :8]\n",
        "y = data.iloc[:, 8]\n",
        "m = y.size"
      ],
      "metadata": {
        "id": "hS93DZKLCnN0"
      },
      "execution_count": 27,
      "outputs": []
    },
    {
      "cell_type": "code",
      "source": [
        "print(X)\n",
        "print('*'*25)\n",
        "print(y)"
      ],
      "metadata": {
        "colab": {
          "base_uri": "https://localhost:8080/"
        },
        "id": "nV2kQk8fCxoq",
        "outputId": "035e11a3-f725-420d-a7e0-bfa3a1233d05"
      },
      "execution_count": 28,
      "outputs": [
        {
          "output_type": "stream",
          "name": "stdout",
          "text": [
            "       gender   age  hypertension  heart_disease  smoking_history    bmi  \\\n",
            "0           0  44.0             0              0                5  27.32   \n",
            "1           1  66.0             0              0                4  25.18   \n",
            "2           0  56.0             0              0                5  19.39   \n",
            "3           0  30.0             0              0                5  31.53   \n",
            "4           0  17.0             0              0                0  21.83   \n",
            "...       ...   ...           ...            ...              ...    ...   \n",
            "22017       1  80.0             1              0                0  29.76   \n",
            "22018       1  27.0             0              0                0  22.93   \n",
            "22019       0  37.0             0              0                4  24.96   \n",
            "22020       0  23.0             0              0                4  27.99   \n",
            "22021       0  39.0             0              0                0  20.37   \n",
            "\n",
            "       HbA1c_level  blood_glucose_level  \n",
            "0              5.7                  130  \n",
            "1              4.5                  130  \n",
            "2              6.2                  145  \n",
            "3              4.8                  155  \n",
            "4              5.0                  155  \n",
            "...            ...                  ...  \n",
            "22017          4.0                   90  \n",
            "22018          4.5                   85  \n",
            "22019          6.2                  158  \n",
            "22020          5.0                  159  \n",
            "22021          6.1                   85  \n",
            "\n",
            "[22022 rows x 8 columns]\n",
            "*************************\n",
            "0        0\n",
            "1        0\n",
            "2        0\n",
            "3        0\n",
            "4        0\n",
            "        ..\n",
            "22017    0\n",
            "22018    0\n",
            "22019    0\n",
            "22020    0\n",
            "22021    0\n",
            "Name: diabetes, Length: 22022, dtype: int64\n"
          ]
        }
      ]
    },
    {
      "cell_type": "code",
      "source": [
        "def sigmoid(z):\n",
        "    # Calcula la sigmoide de una entrada z\n",
        "    # convierte la intrada a un arreglo numpy\n",
        "    z = np.array(z)\n",
        "\n",
        "    g = np.zeros(z.shape)\n",
        "\n",
        "    g = 1 / (1 + np.exp(-z))\n",
        "\n",
        "    return g"
      ],
      "metadata": {
        "id": "tAX5owZMC6t2"
      },
      "execution_count": 29,
      "outputs": []
    },
    {
      "cell_type": "code",
      "source": [
        "# Configurar la matriz adecuadamente, y agregar una columna de unos que corresponde al termino de intercepción.\n",
        "m, n = X.shape\n",
        "# Agraga el termino de intercepción a A\n",
        "X = np.concatenate([np.ones((m, 1)), X], axis=1)"
      ],
      "metadata": {
        "id": "E-x00cZGDF_2"
      },
      "execution_count": 30,
      "outputs": []
    },
    {
      "cell_type": "code",
      "source": [
        "print(X)"
      ],
      "metadata": {
        "colab": {
          "base_uri": "https://localhost:8080/"
        },
        "id": "2OmA926YDMGu",
        "outputId": "fce74033-70d5-491f-ab6b-70769dd21f0a"
      },
      "execution_count": 31,
      "outputs": [
        {
          "output_type": "stream",
          "name": "stdout",
          "text": [
            "[[  1.     0.    44.   ...  27.32   5.7  130.  ]\n",
            " [  1.     1.    66.   ...  25.18   4.5  130.  ]\n",
            " [  1.     0.    56.   ...  19.39   6.2  145.  ]\n",
            " ...\n",
            " [  1.     0.    37.   ...  24.96   6.2  158.  ]\n",
            " [  1.     0.    23.   ...  27.99   5.   159.  ]\n",
            " [  1.     0.    39.   ...  20.37   6.1   85.  ]]\n"
          ]
        }
      ]
    },
    {
      "cell_type": "code",
      "source": [
        "def calcularCosto(theta, X, y):\n",
        "    # Inicializar algunos valores utiles\n",
        "    m = y.size  # numero de ejemplos de entrenamiento\n",
        "\n",
        "    J = 0\n",
        "    h = sigmoid(X.dot(theta.T))\n",
        "    J = (1 / m) * np.sum(-y.dot(np.log(h)) - (1 - y).dot(np.log(1 - h)))\n",
        "\n",
        "    return J"
      ],
      "metadata": {
        "id": "UFZIbKWtDUCc"
      },
      "execution_count": 32,
      "outputs": []
    },
    {
      "cell_type": "code",
      "source": [
        "def descensoGradiente(theta, X, y, alpha, num_iters):\n",
        "    # Inicializa algunos valores\n",
        "    m = y.shape[0] # numero de ejemplos de entrenamiento\n",
        "\n",
        "    # realiza una copia de theta, el cual será acutalizada por el descenso por el gradiente\n",
        "    theta = theta.copy()\n",
        "    J_history = []\n",
        "\n",
        "    for i in range(num_iters):\n",
        "        h = sigmoid(X.dot(theta.T))\n",
        "        theta = theta - (alpha / m) * (h - y).dot(X)\n",
        "\n",
        "        J_history.append(calcularCosto(theta, X, y))\n",
        "    return theta, J_history"
      ],
      "metadata": {
        "id": "9qkHIAPUDX_9"
      },
      "execution_count": 33,
      "outputs": []
    },
    {
      "cell_type": "code",
      "source": [
        "#Carga de dataset\n",
        "data = pd.read_csv('/content/test.csv')\n",
        "print(data)"
      ],
      "metadata": {
        "colab": {
          "base_uri": "https://localhost:8080/"
        },
        "id": "B_TaMFerHXJP",
        "outputId": "bf102886-7d60-4fa4-8288-396d76b3a5d3"
      },
      "execution_count": 34,
      "outputs": [
        {
          "output_type": "stream",
          "name": "stdout",
          "text": [
            "      gender    age  hypertension  heart_disease  smoking_history    bmi  \\\n",
            "0          0  55.00             0              0                3  25.51   \n",
            "1          1  80.00             0              1                0  27.32   \n",
            "2          0   1.72             0              0                0  16.28   \n",
            "3          1  63.00             1              0                4  26.81   \n",
            "4          0  41.00             0              0                4  27.32   \n",
            "...      ...    ...           ...            ...              ...    ...   \n",
            "5501       0  22.00             0              0                1  27.32   \n",
            "5502       1  16.00             0              0                0  21.89   \n",
            "5503       0  69.00             0              1                3  24.34   \n",
            "5504       1  26.00             0              0                5  27.32   \n",
            "5505       1  44.00             0              0                4  27.65   \n",
            "\n",
            "      HbA1c_level  blood_glucose_level  diabetes  \n",
            "0             6.6                  260         1  \n",
            "1             6.1                  159         1  \n",
            "2             6.2                  100         0  \n",
            "3             5.8                   85         0  \n",
            "4             3.5                  140         0  \n",
            "...           ...                  ...       ...  \n",
            "5501          5.7                  158         0  \n",
            "5502          6.5                  145         0  \n",
            "5503          6.5                  130         0  \n",
            "5504          6.0                  126         0  \n",
            "5505          6.0                  126         0  \n",
            "\n",
            "[5506 rows x 9 columns]\n"
          ]
        }
      ]
    },
    {
      "cell_type": "code",
      "source": [
        "#Podemos ver los valores de toda la fila\n",
        "fila_deseada = 1\n",
        "\n",
        "if fila_deseada < len(data):\n",
        "  fila_completa = data.iloc[fila_deseada].to_numpy()\n",
        "  print(fila_completa)\n",
        "else:\n",
        "  print(\"La fila no existe\")"
      ],
      "metadata": {
        "colab": {
          "base_uri": "https://localhost:8080/"
        },
        "id": "oDnRO6EKHr8T",
        "outputId": "79fd1edd-3216-401f-c58c-b9d139a8e53c"
      },
      "execution_count": 35,
      "outputs": [
        {
          "output_type": "stream",
          "name": "stdout",
          "text": [
            "[  1.    80.     0.     1.     0.    27.32   6.1  159.     1.  ]\n"
          ]
        }
      ]
    },
    {
      "cell_type": "code",
      "source": [
        "# Elegir algun valor para alpha (probar varias alternativas)\n",
        "alpha = 0.0003\n",
        "num_iters = 7000\n",
        "\n",
        "# inicializa theta y ejecuta el descenso por el gradiente\n",
        "theta = np.zeros(9)\n",
        "theta, J_history = descensoGradiente(theta, X, y, alpha, num_iters)\n",
        "\n",
        "# Grafica la convergencia del costo\n",
        "pyplot.plot(np.arange(len(J_history)), J_history, lw=2)\n",
        "pyplot.xlabel('Numero de iteraciones')\n",
        "pyplot.ylabel('Costo J')\n",
        "\n",
        "# Muestra los resultados del descenso por el gradiente\n",
        "print('theta calculado por el descenso por el gradiente: {:s}'.format(str(theta)))\n",
        "\n",
        "# verificar si ingresa o no a la universidad\n",
        "X_array = [1,  0,  3,  0,  0,  0, 21,  5, 145]\n",
        "\n",
        "aprueba = sigmoid(np.dot(X_array, theta))   # Se debe cambiar esto\n",
        "\n",
        "print(f\"Un estudiante con nota del examen 1: {X_array[1]} y nota del examen 2: {X_array[2]} (usando el descenso por el gradiente):{aprueba}\")"
      ],
      "metadata": {
        "colab": {
          "base_uri": "https://localhost:8080/",
          "height": 501
        },
        "id": "yN1qu9aiDae4",
        "outputId": "045ef4b8-39d8-4de4-f800-9916e641e19b"
      },
      "execution_count": 38,
      "outputs": [
        {
          "output_type": "stream",
          "name": "stdout",
          "text": [
            "theta calculado por el descenso por el gradiente: [-0.06102632 -0.01162322  0.0216147   0.02475543  0.01425402 -0.0143137\n",
            " -0.13786802 -0.07286948  0.00750793]\n",
            "Un estudiante con nota del examen 1: 0 y nota del examen 2: 3 (usando el descenso por el gradiente):0.10274329139643237\n"
          ]
        },
        {
          "output_type": "display_data",
          "data": {
            "text/plain": [
              "<Figure size 640x480 with 1 Axes>"
            ],
            "image/png": "[encoded data removed]"
          },
          "metadata": {}
        }
      ]
    },
    {
      "cell_type": "code",
      "source": [
        "def costFunction(theta, X, y):\n",
        "    # Inicializar algunos valores utiles\n",
        "    m = y.size  # numero de ejemplos de entrenamiento\n",
        "    epsilon = 1e-8\n",
        "\n",
        "    J = 0\n",
        "    grad = np.zeros(theta.shape)\n",
        "\n",
        "    h = sigmoid(X.dot(theta.T))\n",
        "\n",
        "    J = (1 / m) * np.sum(-y.dot(np.log(h+epsilon)) - (1 - y).dot(np.log(1 - h+epsilon)))\n",
        "    grad = (1 / m) * (h - y).dot(X)\n",
        "\n",
        "    return J, grad"
      ],
      "metadata": {
        "id": "W3sv_wcHoiPJ"
      },
      "execution_count": 39,
      "outputs": []
    },
    {
      "cell_type": "code",
      "source": [
        "# Inicializacion de parametros de ajuste\n",
        "initial_theta = np.zeros(n+1)\n",
        "print(initial_theta)\n",
        "cost, grad = costFunction(initial_theta, X, y)\n",
        "print('Costo en theta inicial (zeros): {:.3f}'.format(cost))\n",
        "print('Costo esperado (aproximado): 0.693\\n')\n",
        "print(grad)"
      ],
      "metadata": {
        "colab": {
          "base_uri": "https://localhost:8080/"
        },
        "id": "JOw3je3Sqsb_",
        "outputId": "50ab31f6-a5ee-4700-a089-cbe8205f4ae4"
      },
      "execution_count": 43,
      "outputs": [
        {
          "output_type": "stream",
          "name": "stdout",
          "text": [
            "[0. 0. 0. 0. 0. 0. 0. 0. 0.]\n",
            "Costo en theta inicial (zeros): 0.693\n",
            "Costo esperado (aproximado): 0.693\n",
            "\n",
            "[4.13541004e-01 1.64721642e-01 1.57674625e+01 1.74144038e-02\n",
            " 6.85677958e-03 8.64771592e-01 1.09210767e+01 2.16213105e+00\n",
            " 5.22549723e+01]\n"
          ]
        }
      ]
    },
    {
      "cell_type": "code",
      "source": [
        "# Calcula y muestra el costo y el gradiente con valores de theta diferentes a cero\n",
        "\n",
        "test_theta = np.array([4.13541004e-01, 1.64721642e-01, 1.57674625e+01, 1.74144038e-02,\n",
        " 6.85677958e-03, 8.64771592e-01, 1.09210767e+01, 2.16213105e+00,\n",
        " 5.22549723e+01])\n",
        "#test_theta = np.array([-11.74749157, 0.09927308, 0.09316497])\n",
        "print(test_theta)\n",
        "cost, grad = costFunction(test_theta, X, y)\n",
        "\n",
        "print('Costo en theta prueba: {:.3f}'.format(cost))\n",
        "\n",
        "print('Gradiente en theta prueba:')\n",
        "print('\\t[{:.3f}, {:.3f}, {:.3f}, {:.3f}, {:.3f}, {:.3f}, {:.3f}, {:.3f}, {:.3f}]'.format(*grad))"
      ],
      "metadata": {
        "colab": {
          "base_uri": "https://localhost:8080/"
        },
        "id": "hfySpGklq2jp",
        "outputId": "422edcdc-1efb-496d-b252-6be278e6301a"
      },
      "execution_count": 46,
      "outputs": [
        {
          "output_type": "stream",
          "name": "stdout",
          "text": [
            "[4.13541004e-01 1.64721642e-01 1.57674625e+01 1.74144038e-02\n",
            " 6.85677958e-03 8.64771592e-01 1.09210767e+01 2.16213105e+00\n",
            " 5.22549723e+01]\n",
            "Costo en theta prueba: 16.828\n",
            "Gradiente en theta prueba:\n",
            "\t[0.914, 0.370, 36.791, 0.056, 0.026, 1.971, 24.629, 4.926, 121.302]\n"
          ]
        }
      ]
    },
    {
      "cell_type": "code",
      "source": [
        "# Establecer las opciones para optimize.minimize\n",
        "options= {'maxiter': 1000}\n",
        "\n",
        "# revisar la documentacion de scipy's optimize.minimize para mayor descripcion de los parametros\n",
        "# La funcion devuekve un objeto `OptimizeResult`\n",
        "# Se utiliza el algoritmo de Newton truncado para la optimización.\n",
        "res = optimize.minimize(costFunction,\n",
        "                        initial_theta,\n",
        "                        (X, y),\n",
        "                        jac=True,\n",
        "                        method='TNC',\n",
        "                        options=options)\n",
        "\n",
        "# la propiedad fun del objeto devuelto por `OptimizeResult`\n",
        "# contiene el valor del costFunction de un theta optimizado\n",
        "cost = res.fun\n",
        "\n",
        "# Theta optimizada esta en la propiedad x\n",
        "theta = res.x\n",
        "\n",
        "# Imprimir theta en la pantalla\n",
        "print('Costo con un valor de theta encontrado por optimize.minimize: {:.3f}'.format(cost))\n",
        "\n",
        "print('theta:')\n",
        "print('\\t[{:.3f}, {:.3f}, {:.3f}, {:.3f}, {:.3f}, {:.3f}, {:.3f}, {:.3f}, {:.3f}]'.format(*theta))"
      ],
      "metadata": {
        "colab": {
          "base_uri": "https://localhost:8080/"
        },
        "id": "izr5Ij0prsYJ",
        "outputId": "acd7ba94-c049-4a6e-f111-77cc08a86504"
      },
      "execution_count": 49,
      "outputs": [
        {
          "output_type": "stream",
          "name": "stderr",
          "text": [
            "<ipython-input-49-7cf4cc8ed41d>:7: DeprecationWarning: 'maxiter' has been deprecated in favor of 'maxfun' and will be removed in SciPy 1.11.0.\n",
            "  res = optimize.minimize(costFunction,\n"
          ]
        },
        {
          "output_type": "stream",
          "name": "stdout",
          "text": [
            "Costo con un valor de theta encontrado por optimize.minimize: 0.113\n",
            "theta:\n",
            "\t[-27.974, 0.318, 0.045, 0.734, 0.830, 0.118, 0.093, 2.381, 0.033]\n"
          ]
        }
      ]
    },
    {
      "cell_type": "code",
      "source": [
        "def predict(theta, X):\n",
        "    \"\"\"\n",
        "    Predecir si la etiqueta es 0 o 1 mediante regresión logística aprendida.\n",
        "    Calcula las predicciones para X usando un umbral en 0.5 (es decir, si sigmoide (theta.T * x)> = 0.5, predice 1)\n",
        "\n",
        "    Parametros\n",
        "    ----------\n",
        "    theta : array_like\n",
        "        Parametros para regresion logistica. Un vecto de la forma (n+1, ).\n",
        "\n",
        "    X : array_like\n",
        "        Datos utilizados para el calculo de las predicciones.\n",
        "        La fila es el numero de los puntos para calcular las predicciones,\n",
        "        y las columnas con el numero de caracteristicas.\n",
        "\n",
        "    Devuelve\n",
        "    -------\n",
        "    p : array_like\n",
        "        Predicciones y 0 o 1 para cada fila en X.\n",
        "    \"\"\"\n",
        "    m = X.shape[0] # Numero de ejemplo de entrenamiento\n",
        "\n",
        "    p = np.zeros(m)\n",
        "\n",
        "    p = np.round(sigmoid(X.dot(theta.T)))\n",
        "    return p"
      ],
      "metadata": {
        "id": "IGQSEmy_r3ug"
      },
      "execution_count": 50,
      "outputs": []
    },
    {
      "cell_type": "code",
      "source": [
        "#  Predice la probabilidad de ingreso para un estudiante con nota de 45 en el examen 1 y nota de 85 en el examen 2\n",
        "prob = sigmoid(np.dot([1,  0,  3,  0,  0,  0, 21,  5, 145], theta))\n",
        "print('Para un estudiante con notas de 45 y 85, se predice una probabilidad de admisión de: {:.3f}%'.format(prob))\n",
        "print('Valor esperado: 0.775 +/- 0.002\\n')\n",
        "\n",
        "# Compute accuracy on our training set\n",
        "p = predict(theta, X)\n",
        "print('Precisión de entrenamiento: {:.2f} %'.format(np.mean(p == y) * 100))\n",
        "print('Precisión esperada (aproximadamente): 89.00 %')"
      ],
      "metadata": {
        "colab": {
          "base_uri": "https://localhost:8080/"
        },
        "id": "Pw4nLKPyr_tR",
        "outputId": "f2546dc5-3bce-457f-ba8d-529387cbf676"
      },
      "execution_count": 52,
      "outputs": [
        {
          "output_type": "stream",
          "name": "stdout",
          "text": [
            "Para un estudiante con notas de 45 y 85, se predice una probabilidad de admisión de: 0.000%\n",
            "Valor esperado: 0.775 +/- 0.002\n",
            "\n",
            "Precisión de entrenamiento: 96.06 %\n",
            "Precisión esperada (aproximadamente): 89.00 %\n"
          ]
        }
      ]
    }
  ]
}