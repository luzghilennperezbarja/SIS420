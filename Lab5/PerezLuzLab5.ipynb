{
  "nbformat": 4,
  "nbformat_minor": 0,
  "metadata": {
    "colab": {
      "provenance": []
    },
    "kernelspec": {
      "name": "python3",
      "display_name": "Python 3"
    },
    "language_info": {
      "name": "python"
    }
  },
  "cells": [
    {
      "cell_type": "code",
      "execution_count": 7,
      "metadata": {
        "id": "VSfaPGq1YkLr"
      },
      "outputs": [],
      "source": [
        "import time\n",
        "import random"
      ]
    },
    {
      "cell_type": "code",
      "execution_count": 8,
      "metadata": {
        "id": "_fG0Sr4QzAoN"
      },
      "outputs": [],
      "source": [
        "class Nodo:\n",
        "    def __init__(self, estado, hijo=None):\n",
        "        self.estado = estado\n",
        "        self.hijo = []\n",
        "        self.padre = None\n",
        "        self.accion = None\n",
        "        self.acciones = None\n",
        "        self.costo = None\n",
        "        self.set_hijo(hijo)\n",
        "\n",
        "    def set_estado(self, estado):\n",
        "        self.estado = estado\n",
        "\n",
        "    def get_estado(self):\n",
        "        return self.estado\n",
        "\n",
        "\n",
        "    def set_hijo(self, hijo):\n",
        "        if (hijo is not None):\n",
        "            self.hijo.append(hijo)\n",
        "            if self.hijo is not None:\n",
        "                for h in self.hijo:\n",
        "                    h.padre = self\n",
        "\n",
        "    def get_hijo(self):\n",
        "        return self.hijo\n",
        "\n",
        "    def set_padre(self, padre):\n",
        "        self.padre = padre\n",
        "\n",
        "    def get_padre(self):\n",
        "        return self.padre\n",
        "\n",
        "    def set_accion(self, accion):\n",
        "        self.accion = accion\n",
        "\n",
        "    def get_accion(self):\n",
        "        return self.accion\n",
        "\n",
        "    def set_acciones(self, acciones):\n",
        "        self.acciones = acciones\n",
        "\n",
        "    def get_acciones(self):\n",
        "        return self.acciones\n",
        "\n",
        "    def set_costo(self, costo):\n",
        "        self.costo = costo\n",
        "\n",
        "    def get_costo(self):\n",
        "        return self.costo\n",
        "\n",
        "    def equal(self, Nodo):\n",
        "        if self.get_estado() == Nodo.get_estado():\n",
        "            return True\n",
        "        else:\n",
        "            return False\n",
        "\n",
        "    def en_lista(self, lista_nodos):\n",
        "        enlistado = False\n",
        "        for n in lista_nodos:\n",
        "            if self.equal(n):\n",
        "                enlistado = True\n",
        "        return enlistado\n",
        "\n",
        "    def __str__(self):\n",
        "        return str(self.get_estado())"
      ]
    },
    {
      "cell_type": "code",
      "source": [
        "def busqueda_BPPR(nodo_inicial, solucion, visitado):\n",
        "    visitado.append(nodo_inicial.get_estado())\n",
        "    if nodo_inicial.get_estado() == solucion:\n",
        "        return nodo_inicial\n",
        "    else:\n",
        "        for i in range(0, len(solucion)-1):\n",
        "            indice = i\n",
        "\n",
        "            hijo_datos = nodo_inicial.get_estado().copy()\n",
        "            temp = hijo_datos[indice]\n",
        "            hijo_datos[indice] = hijo_datos[indice + 1]\n",
        "            hijo_datos[indice + 1] = temp\n",
        "            hijo = Nodo(hijo_datos)\n",
        "            nodo_inicial.set_hijo(hijo)\n",
        "\n",
        "        for nodo_hijo in nodo_inicial.get_hijo():\n",
        "            if not nodo_hijo.get_estado() in visitado and heuristica_a(nodo_inicial, nodo_hijo):\n",
        "                Solution = busqueda_BPPR(nodo_hijo, solucion, visitado)\n",
        "                if Solution is not None:\n",
        "                    return Solution\n",
        "        return None\n",
        "\n",
        "#Esta función calcula la calidad de un nodo hijo basándose en cuántos elementos en su estado\n",
        "#coinciden con los elementos en el estado del nodo padre. Retorna la cantidad de elementos iguales.\n",
        "\n",
        "def heuristica_a(padre_node, hijo_node):\n",
        "    objetivo = hijo_node.get_estado()\n",
        "    calidad = 0\n",
        "    for i in range(len(objetivo)):\n",
        "        if padre_node.get_estado()[i] == objetivo[i]:\n",
        "            calidad += 1\n",
        "    return calidad\n",
        "\n",
        "\n",
        "# Esta función calcula la distancia entre el estado de un nodo hijo y el estado del nodo padre. La distancia\n",
        "#se mide como la suma de las diferencias absolutas entre las posiciones de los elementos en los dos estados.\n",
        "def heuristica_b(padre_node, hijo_node):\n",
        "    objetivo = hijo_node.get_estado()\n",
        "    distancia = 0\n",
        "    for i in range(len(objetivo)):\n",
        "        distancia += abs(padre_node.get_estado().index(objetivo[i]) - i)\n",
        "    return distancia\n",
        "\n",
        "#Esta función calcula la distancia Manhattan entre el estado de un nodo hijo y el estado del nodo padre.\n",
        "#La distancia se mide como la suma de las diferencias absolutas entre las filas y las diferencias absolutas\n",
        "# entre las columnas de los elementos en los dos estados.\n",
        "def heuristica_c(padre_node, hijo_node):\n",
        "    objetivo = hijo_node.get_estado()\n",
        "    distancia = 0\n",
        "    for i in range(len(objetivo)):\n",
        "        estado_actual = padre_node.get_estado()\n",
        "        fila_actual = i // n\n",
        "        columna_actual = i % n\n",
        "        fila_objetivo = estado_actual.index(objetivo[i]) // n\n",
        "        columna_objetivo = estado_actual.index(objetivo[i]) % n\n",
        "        distancia += abs(fila_actual - fila_objetivo) + abs(columna_actual - columna_objetivo)\n",
        "    return distancia"
      ],
      "metadata": {
        "id": "74y21msLYxM4"
      },
      "execution_count": 9,
      "outputs": []
    },
    {
      "cell_type": "code",
      "source": [
        "if __name__ == \"__main__\":\n",
        "    n = int(input(\"Ingrese el tamaño del rompecabezas: \"))\n",
        "    estado_inicial = list(range(n, 0, -1))\n",
        "    estado_objetivo = list(reversed(estado_inicial))\n",
        "\n",
        "    print(\"Estado Inicial:\", estado_inicial)\n",
        "    print(\"Solucion:\", estado_objetivo)\n",
        "\n",
        "    nodo_solucion = None\n",
        "    visitado = []\n",
        "    nodo_inicial = Nodo(estado_inicial)\n",
        "    inicio = time.time()\n",
        "    nodo_actual = busqueda_BPPR(nodo_inicial, estado_objetivo, visitado)\n",
        "    fin = time.time()\n",
        "\n",
        "    resultado = []\n",
        "    while nodo_actual.get_padre() is not None:\n",
        "        resultado.append(nodo_actual.get_estado())\n",
        "        nodo_actual = nodo_actual.get_padre()\n",
        "    resultado.append(estado_inicial)\n",
        "    resultado.reverse()\n",
        "    print(\"Resultado:\", resultado)\n",
        "\n",
        "    print(\"Total =\", len(resultado))\n",
        "    print(\"Tiempo de ejecucion:\", fin - inicio)"
      ],
      "metadata": {
        "colab": {
          "base_uri": "https://localhost:8080/"
        },
        "id": "fbvJrHG_Y_b9",
        "outputId": "cad5abbe-e5cd-47c9-aa98-c83279d4e778"
      },
      "execution_count": 15,
      "outputs": [
        {
          "output_type": "stream",
          "name": "stdout",
          "text": [
            "Ingrese el tamaño del rompecabezas: 6\n",
            "Estado Inicial: [6, 5, 4, 3, 2, 1]\n",
            "Solucion: [1, 2, 3, 4, 5, 6]\n",
            "Resultado: [[6, 5, 4, 3, 2, 1], [5, 6, 4, 3, 2, 1], [5, 4, 6, 3, 2, 1], [4, 5, 6, 3, 2, 1], [4, 6, 5, 3, 2, 1], [6, 4, 5, 3, 2, 1], [6, 4, 3, 5, 2, 1], [4, 6, 3, 5, 2, 1], [4, 3, 6, 5, 2, 1], [3, 4, 6, 5, 2, 1], [3, 6, 4, 5, 2, 1], [6, 3, 4, 5, 2, 1], [6, 3, 5, 4, 2, 1], [3, 6, 5, 4, 2, 1], [3, 5, 6, 4, 2, 1], [5, 3, 6, 4, 2, 1], [5, 6, 3, 4, 2, 1], [6, 5, 3, 4, 2, 1], [6, 5, 3, 2, 4, 1], [5, 6, 3, 2, 4, 1], [5, 3, 6, 2, 4, 1], [3, 5, 6, 2, 4, 1], [3, 6, 5, 2, 4, 1], [6, 3, 5, 2, 4, 1], [6, 3, 2, 5, 4, 1], [3, 6, 2, 5, 4, 1], [3, 2, 6, 5, 4, 1], [2, 3, 6, 5, 4, 1], [2, 6, 3, 5, 4, 1], [6, 2, 3, 5, 4, 1], [6, 2, 5, 3, 4, 1], [2, 6, 5, 3, 4, 1], [2, 5, 6, 3, 4, 1], [5, 2, 6, 3, 4, 1], [5, 6, 2, 3, 4, 1], [6, 5, 2, 3, 4, 1], [6, 5, 2, 4, 3, 1], [5, 6, 2, 4, 3, 1], [5, 2, 6, 4, 3, 1], [2, 5, 6, 4, 3, 1], [2, 6, 5, 4, 3, 1], [6, 2, 5, 4, 3, 1], [6, 2, 4, 5, 3, 1], [2, 6, 4, 5, 3, 1], [2, 4, 6, 5, 3, 1], [4, 2, 6, 5, 3, 1], [4, 6, 2, 5, 3, 1], [6, 4, 2, 5, 3, 1], [6, 4, 5, 2, 3, 1], [4, 6, 5, 2, 3, 1], [4, 5, 6, 2, 3, 1], [5, 4, 6, 2, 3, 1], [5, 6, 4, 2, 3, 1], [6, 5, 4, 2, 3, 1], [6, 5, 4, 2, 1, 3], [5, 6, 4, 2, 1, 3], [5, 4, 6, 2, 1, 3], [4, 5, 6, 2, 1, 3], [4, 6, 5, 2, 1, 3], [6, 4, 5, 2, 1, 3], [6, 4, 2, 5, 1, 3], [4, 6, 2, 5, 1, 3], [4, 2, 6, 5, 1, 3], [2, 4, 6, 5, 1, 3], [2, 6, 4, 5, 1, 3], [6, 2, 4, 5, 1, 3], [6, 2, 5, 4, 1, 3], [2, 6, 5, 4, 1, 3], [2, 5, 6, 4, 1, 3], [5, 2, 6, 4, 1, 3], [5, 6, 2, 4, 1, 3], [6, 5, 2, 4, 1, 3], [6, 5, 2, 1, 4, 3], [5, 6, 2, 1, 4, 3], [5, 2, 6, 1, 4, 3], [2, 5, 6, 1, 4, 3], [2, 6, 5, 1, 4, 3], [6, 2, 5, 1, 4, 3], [6, 2, 1, 5, 4, 3], [2, 6, 1, 5, 4, 3], [2, 1, 6, 5, 4, 3], [1, 2, 6, 5, 4, 3], [1, 6, 2, 5, 4, 3], [6, 1, 2, 5, 4, 3], [6, 1, 5, 2, 4, 3], [1, 6, 5, 2, 4, 3], [1, 5, 6, 2, 4, 3], [5, 1, 6, 2, 4, 3], [5, 6, 1, 2, 4, 3], [6, 5, 1, 2, 4, 3], [6, 5, 1, 4, 2, 3], [5, 6, 1, 4, 2, 3], [5, 1, 6, 4, 2, 3], [1, 5, 6, 4, 2, 3], [1, 6, 5, 4, 2, 3], [6, 1, 5, 4, 2, 3], [6, 1, 4, 5, 2, 3], [1, 6, 4, 5, 2, 3], [1, 4, 6, 5, 2, 3], [4, 1, 6, 5, 2, 3], [4, 6, 1, 5, 2, 3], [6, 4, 1, 5, 2, 3], [6, 4, 5, 1, 2, 3], [4, 6, 5, 1, 2, 3], [4, 5, 6, 1, 2, 3], [5, 4, 6, 1, 2, 3], [5, 6, 4, 1, 2, 3], [6, 5, 4, 1, 2, 3], [6, 5, 4, 1, 3, 2], [5, 6, 4, 1, 3, 2], [5, 4, 6, 1, 3, 2], [4, 5, 6, 1, 3, 2], [4, 6, 5, 1, 3, 2], [6, 4, 5, 1, 3, 2], [6, 4, 1, 5, 3, 2], [4, 6, 1, 5, 3, 2], [4, 1, 6, 5, 3, 2], [1, 4, 6, 5, 3, 2], [1, 6, 4, 5, 3, 2], [6, 1, 4, 5, 3, 2], [6, 1, 5, 4, 3, 2], [1, 6, 5, 4, 3, 2], [1, 5, 6, 4, 3, 2], [5, 1, 6, 4, 3, 2], [5, 6, 1, 4, 3, 2], [6, 5, 1, 4, 3, 2], [6, 5, 1, 3, 4, 2], [5, 6, 1, 3, 4, 2], [5, 1, 6, 3, 4, 2], [1, 5, 6, 3, 4, 2], [1, 6, 5, 3, 4, 2], [6, 1, 5, 3, 4, 2], [6, 1, 3, 5, 4, 2], [1, 6, 3, 5, 4, 2], [1, 3, 6, 5, 4, 2], [3, 1, 6, 5, 4, 2], [3, 6, 1, 5, 4, 2], [6, 3, 1, 5, 4, 2], [6, 3, 5, 1, 4, 2], [3, 6, 5, 1, 4, 2], [3, 5, 6, 1, 4, 2], [5, 3, 6, 1, 4, 2], [5, 6, 3, 1, 4, 2], [6, 5, 3, 1, 4, 2], [6, 5, 3, 4, 1, 2], [5, 6, 3, 4, 1, 2], [5, 3, 6, 4, 1, 2], [3, 5, 6, 4, 1, 2], [3, 6, 5, 4, 1, 2], [6, 3, 5, 4, 1, 2], [6, 3, 4, 5, 1, 2], [3, 6, 4, 5, 1, 2], [3, 4, 6, 5, 1, 2], [4, 3, 6, 5, 1, 2], [4, 6, 3, 5, 1, 2], [6, 4, 3, 5, 1, 2], [6, 4, 5, 3, 1, 2], [4, 6, 5, 3, 1, 2], [4, 5, 6, 3, 1, 2], [5, 4, 6, 3, 1, 2], [5, 4, 3, 6, 1, 2], [4, 5, 3, 6, 1, 2], [4, 3, 5, 6, 1, 2], [3, 4, 5, 6, 1, 2], [3, 5, 4, 6, 1, 2], [5, 3, 4, 6, 1, 2], [5, 3, 4, 1, 6, 2], [3, 5, 4, 1, 6, 2], [3, 4, 5, 1, 6, 2], [4, 3, 5, 1, 6, 2], [4, 5, 3, 1, 6, 2], [5, 4, 3, 1, 6, 2], [5, 4, 1, 3, 6, 2], [4, 5, 1, 3, 6, 2], [4, 1, 5, 3, 6, 2], [1, 4, 5, 3, 6, 2], [1, 5, 4, 3, 6, 2], [5, 1, 4, 3, 6, 2], [5, 1, 3, 4, 6, 2], [1, 5, 3, 4, 6, 2], [1, 3, 5, 4, 6, 2], [3, 1, 5, 4, 6, 2], [3, 5, 1, 4, 6, 2], [5, 3, 1, 4, 6, 2], [5, 3, 1, 6, 4, 2], [3, 5, 1, 6, 4, 2], [3, 1, 5, 6, 4, 2], [1, 3, 5, 6, 4, 2], [1, 5, 3, 6, 4, 2], [5, 1, 3, 6, 4, 2], [5, 1, 3, 6, 2, 4], [1, 5, 3, 6, 2, 4], [1, 3, 5, 6, 2, 4], [3, 1, 5, 6, 2, 4], [3, 5, 1, 6, 2, 4], [5, 3, 1, 6, 2, 4], [5, 3, 6, 1, 2, 4], [3, 5, 6, 1, 2, 4], [3, 6, 5, 1, 2, 4], [6, 3, 5, 1, 2, 4], [6, 5, 3, 1, 2, 4], [5, 6, 3, 1, 2, 4], [5, 6, 1, 3, 2, 4], [6, 5, 1, 3, 2, 4], [6, 1, 5, 3, 2, 4], [1, 6, 5, 3, 2, 4], [1, 5, 6, 3, 2, 4], [5, 1, 6, 3, 2, 4], [5, 1, 6, 2, 3, 4], [1, 5, 6, 2, 3, 4], [1, 6, 5, 2, 3, 4], [6, 1, 5, 2, 3, 4], [6, 5, 1, 2, 3, 4], [5, 6, 1, 2, 3, 4], [5, 6, 2, 1, 3, 4], [6, 5, 2, 1, 3, 4], [6, 2, 5, 1, 3, 4], [2, 6, 5, 1, 3, 4], [2, 5, 6, 1, 3, 4], [5, 2, 6, 1, 3, 4], [5, 2, 1, 6, 3, 4], [2, 5, 1, 6, 3, 4], [2, 1, 5, 6, 3, 4], [1, 2, 5, 6, 3, 4], [1, 5, 2, 6, 3, 4], [5, 1, 2, 6, 3, 4], [5, 1, 2, 3, 6, 4], [1, 5, 2, 3, 6, 4], [1, 2, 5, 3, 6, 4], [2, 1, 5, 3, 6, 4], [2, 5, 1, 3, 6, 4], [5, 2, 1, 3, 6, 4], [5, 2, 3, 1, 6, 4], [2, 5, 3, 1, 6, 4], [2, 3, 5, 1, 6, 4], [3, 2, 5, 1, 6, 4], [3, 5, 2, 1, 6, 4], [5, 3, 2, 1, 6, 4], [5, 3, 1, 2, 6, 4], [3, 5, 1, 2, 6, 4], [3, 1, 5, 2, 6, 4], [1, 3, 5, 2, 6, 4], [1, 5, 3, 2, 6, 4], [5, 1, 3, 2, 6, 4], [5, 1, 3, 2, 4, 6], [1, 5, 3, 2, 4, 6], [1, 3, 5, 2, 4, 6], [3, 1, 5, 2, 4, 6], [3, 5, 1, 2, 4, 6], [5, 3, 1, 2, 4, 6], [5, 3, 2, 1, 4, 6], [3, 5, 2, 1, 4, 6], [3, 2, 5, 1, 4, 6], [2, 3, 5, 1, 4, 6], [2, 5, 3, 1, 4, 6], [5, 2, 3, 1, 4, 6], [5, 2, 1, 3, 4, 6], [2, 5, 1, 3, 4, 6], [2, 1, 5, 3, 4, 6], [1, 2, 5, 3, 4, 6], [1, 5, 2, 3, 4, 6], [5, 1, 2, 3, 4, 6], [5, 1, 2, 4, 3, 6], [1, 5, 2, 4, 3, 6], [1, 2, 5, 4, 3, 6], [2, 1, 5, 4, 3, 6], [2, 5, 1, 4, 3, 6], [5, 2, 1, 4, 3, 6], [5, 2, 4, 1, 3, 6], [2, 5, 4, 1, 3, 6], [2, 4, 5, 1, 3, 6], [4, 2, 5, 1, 3, 6], [4, 5, 2, 1, 3, 6], [5, 4, 2, 1, 3, 6], [5, 4, 1, 2, 3, 6], [4, 5, 1, 2, 3, 6], [4, 1, 5, 2, 3, 6], [1, 4, 5, 2, 3, 6], [1, 5, 4, 2, 3, 6], [5, 1, 4, 2, 3, 6], [5, 1, 4, 3, 2, 6], [1, 5, 4, 3, 2, 6], [1, 4, 5, 3, 2, 6], [4, 1, 5, 3, 2, 6], [4, 5, 1, 3, 2, 6], [5, 4, 1, 3, 2, 6], [5, 4, 3, 1, 2, 6], [4, 5, 3, 1, 2, 6], [4, 3, 5, 1, 2, 6], [3, 4, 5, 1, 2, 6], [3, 5, 4, 1, 2, 6], [5, 3, 4, 1, 2, 6], [5, 3, 1, 4, 2, 6], [3, 5, 1, 4, 2, 6], [3, 1, 5, 4, 2, 6], [1, 3, 5, 4, 2, 6], [1, 3, 4, 5, 2, 6], [3, 1, 4, 5, 2, 6], [3, 4, 1, 5, 2, 6], [4, 3, 1, 5, 2, 6], [4, 1, 3, 5, 2, 6], [1, 4, 3, 5, 2, 6], [1, 4, 3, 2, 5, 6], [4, 1, 3, 2, 5, 6], [4, 3, 1, 2, 5, 6], [3, 4, 1, 2, 5, 6], [3, 1, 4, 2, 5, 6], [1, 3, 4, 2, 5, 6], [1, 3, 2, 4, 5, 6], [3, 1, 2, 4, 5, 6], [3, 2, 1, 4, 5, 6], [2, 3, 1, 4, 5, 6], [2, 1, 3, 4, 5, 6], [1, 2, 3, 4, 5, 6]]\n",
            "Total = 314\n",
            "Tiempo de ejecucion: 0.01099252700805664\n"
          ]
        }
      ]
    }
  ]
}