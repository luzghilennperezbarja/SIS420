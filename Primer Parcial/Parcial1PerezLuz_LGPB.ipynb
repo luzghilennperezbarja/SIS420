{
  "nbformat": 4,
  "nbformat_minor": 0,
  "metadata": {
    "colab": {
      "provenance": []
    },
    "kernelspec": {
      "name": "python3",
      "display_name": "Python 3"
    },
    "language_info": {
      "name": "python"
    }
  },
  "cells": [
    {
      "cell_type": "code",
      "source": [
        "# utilizado para manejos de directorios y rutas\n",
        "import os\n",
        "\n",
        "# Computacion vectorial y cientifica para python\n",
        "import numpy as np\n",
        "\n",
        "# Librerias para graficación (trazado de gráficos)\n",
        "from matplotlib import pyplot\n",
        "from mpl_toolkits.mplot3d import Axes3D  # Necesario para graficar superficies 3D\n",
        "\n",
        "# llama a matplotlib a embeber graficas dentro de los cuadernillos\n",
        "%matplotlib inline"
      ],
      "metadata": {
        "id": "x1aPluS91kz5"
      },
      "execution_count": 1,
      "outputs": []
    },
    {
      "cell_type": "code",
      "source": [
        "import pandas as pd\n",
        "from sklearn.preprocessing import LabelEncoder\n",
        "from datetime import datetime"
      ],
      "metadata": {
        "id": "dOFXMhX612RI"
      },
      "execution_count": 2,
      "outputs": []
    },
    {
      "cell_type": "code",
      "source": [
        "#Conectar con google drive\n",
        "from google.colab import drive\n",
        "drive.mount('/content/drive')"
      ],
      "metadata": {
        "colab": {
          "base_uri": "https://localhost:8080/"
        },
        "id": "Qyfzk47vOBpA",
        "outputId": "62289259-05cb-4acb-f785-0d657a21b529"
      },
      "execution_count": 3,
      "outputs": [
        {
          "output_type": "stream",
          "name": "stdout",
          "text": [
            "Drive already mounted at /content/drive; to attempt to forcibly remount, call drive.mount(\"/content/drive\", force_remount=True).\n"
          ]
        }
      ]
    },
    {
      "cell_type": "code",
      "source": [
        "#Carga de dataset\n",
        "data = pd.read_csv('/content/drive/MyDrive/USFX/SIS420-IA/datasets/parkinsons_updrs.data.csv')"
      ],
      "metadata": {
        "id": "3wiZzXFh15ZB"
      },
      "execution_count": 4,
      "outputs": []
    },
    {
      "cell_type": "code",
      "source": [
        "print(data)"
      ],
      "metadata": {
        "colab": {
          "base_uri": "https://localhost:8080/"
        },
        "id": "CkjrWXAP2IwS",
        "outputId": "7d5fc6b7-2e8a-4b57-bfc6-3cea59c2a21a"
      },
      "execution_count": 5,
      "outputs": [
        {
          "output_type": "stream",
          "name": "stdout",
          "text": [
            "      index  subject#  age  sex  test_time  motor_UPDRS  total_UPDRS  \\\n",
            "0         0         1   72    0     5.6431       28.199       34.398   \n",
            "1         1         1   72    0    12.6660       28.447       34.894   \n",
            "2         2         1   72    0    19.6810       28.695       35.389   \n",
            "3         3         1   72    0    25.6470       28.905       35.810   \n",
            "4         4         1   72    0    33.6420       29.187       36.375   \n",
            "...     ...       ...  ...  ...        ...          ...          ...   \n",
            "5870   5870        42   61    0   142.7900       22.485       33.485   \n",
            "5871   5871        42   61    0   149.8400       21.988       32.988   \n",
            "5872   5872        42   61    0   156.8200       21.495       32.495   \n",
            "5873   5873        42   61    0   163.7300       21.007       32.007   \n",
            "5874   5874        42   61    0   170.7300       20.513       31.513   \n",
            "\n",
            "      Jitter(%)  Jitter(Abs)  Jitter:RAP  ...  Shimmer(dB)  Shimmer:APQ3  \\\n",
            "0       0.00662     0.000034     0.00401  ...        0.230       0.01438   \n",
            "1       0.00300     0.000017     0.00132  ...        0.179       0.00994   \n",
            "2       0.00481     0.000025     0.00205  ...        0.181       0.00734   \n",
            "3       0.00528     0.000027     0.00191  ...        0.327       0.01106   \n",
            "4       0.00335     0.000020     0.00093  ...        0.176       0.00679   \n",
            "...         ...          ...         ...  ...          ...           ...   \n",
            "5870    0.00406     0.000031     0.00167  ...        0.160       0.00973   \n",
            "5871    0.00297     0.000025     0.00119  ...        0.215       0.01052   \n",
            "5872    0.00349     0.000025     0.00152  ...        0.244       0.01371   \n",
            "5873    0.00281     0.000020     0.00128  ...        0.131       0.00693   \n",
            "5874    0.00282     0.000021     0.00135  ...        0.171       0.00946   \n",
            "\n",
            "      Shimmer:APQ5  Shimmer:APQ11  Shimmer:DDA       NHR     HNR     RPDE  \\\n",
            "0          0.01309        0.01662      0.04314  0.014290  21.640  0.41888   \n",
            "1          0.01072        0.01689      0.02982  0.011112  27.183  0.43493   \n",
            "2          0.00844        0.01458      0.02202  0.020220  23.047  0.46222   \n",
            "3          0.01265        0.01963      0.03317  0.027837  24.445  0.48730   \n",
            "4          0.00929        0.01819      0.02036  0.011625  26.126  0.47188   \n",
            "...            ...            ...          ...       ...     ...      ...   \n",
            "5870       0.01133        0.01549      0.02920  0.025137  22.369  0.64215   \n",
            "5871       0.01277        0.01904      0.03157  0.011927  22.886  0.52598   \n",
            "5872       0.01456        0.01877      0.04112  0.017701  25.065  0.47792   \n",
            "5873       0.00870        0.01307      0.02078  0.007984  24.422  0.56865   \n",
            "5874       0.01154        0.01470      0.02839  0.008172  23.259  0.58608   \n",
            "\n",
            "          DFA      PPE  \n",
            "0     0.54842  0.16006  \n",
            "1     0.56477  0.10810  \n",
            "2     0.54405  0.21014  \n",
            "3     0.57794  0.33277  \n",
            "4     0.56122  0.19361  \n",
            "...       ...      ...  \n",
            "5870  0.55314  0.21367  \n",
            "5871  0.56518  0.12621  \n",
            "5872  0.57888  0.14157  \n",
            "5873  0.56327  0.14204  \n",
            "5874  0.57077  0.15336  \n",
            "\n",
            "[5875 rows x 23 columns]\n"
          ]
        }
      ]
    },
    {
      "cell_type": "code",
      "source": [
        "data.info()"
      ],
      "metadata": {
        "colab": {
          "base_uri": "https://localhost:8080/"
        },
        "id": "cyZ_Diws2PTx",
        "outputId": "936691eb-5f73-4733-deae-bedd0437ebcb"
      },
      "execution_count": 6,
      "outputs": [
        {
          "output_type": "stream",
          "name": "stdout",
          "text": [
            "<class 'pandas.core.frame.DataFrame'>\n",
            "RangeIndex: 5875 entries, 0 to 5874\n",
            "Data columns (total 23 columns):\n",
            " #   Column         Non-Null Count  Dtype  \n",
            "---  ------         --------------  -----  \n",
            " 0   index          5875 non-null   int64  \n",
            " 1   subject#       5875 non-null   int64  \n",
            " 2   age            5875 non-null   int64  \n",
            " 3   sex            5875 non-null   int64  \n",
            " 4   test_time      5875 non-null   float64\n",
            " 5   motor_UPDRS    5875 non-null   float64\n",
            " 6   total_UPDRS    5875 non-null   float64\n",
            " 7   Jitter(%)      5875 non-null   float64\n",
            " 8   Jitter(Abs)    5875 non-null   float64\n",
            " 9   Jitter:RAP     5875 non-null   float64\n",
            " 10  Jitter:PPQ5    5875 non-null   float64\n",
            " 11  Jitter:DDP     5875 non-null   float64\n",
            " 12  Shimmer        5875 non-null   float64\n",
            " 13  Shimmer(dB)    5875 non-null   float64\n",
            " 14  Shimmer:APQ3   5875 non-null   float64\n",
            " 15  Shimmer:APQ5   5875 non-null   float64\n",
            " 16  Shimmer:APQ11  5875 non-null   float64\n",
            " 17  Shimmer:DDA    5875 non-null   float64\n",
            " 18  NHR            5875 non-null   float64\n",
            " 19  HNR            5875 non-null   float64\n",
            " 20  RPDE           5875 non-null   float64\n",
            " 21  DFA            5875 non-null   float64\n",
            " 22  PPE            5875 non-null   float64\n",
            "dtypes: float64(19), int64(4)\n",
            "memory usage: 1.0 MB\n"
          ]
        }
      ]
    },
    {
      "cell_type": "code",
      "source": [
        "columnas_eliminar = ['index', 'Jitter(Abs)', 'Jitter:RAP','Jitter:PPQ5','Jitter:DDP', 'Shimmer(dB)', 'Shimmer:APQ3', 'Shimmer:APQ5','Shimmer:APQ11','Shimmer:DDA' ]\n",
        "data = data.drop(columnas_eliminar, axis=1)"
      ],
      "metadata": {
        "id": "HnqiMA9-S3-R"
      },
      "execution_count": 7,
      "outputs": []
    },
    {
      "cell_type": "code",
      "source": [
        "data.info()"
      ],
      "metadata": {
        "colab": {
          "base_uri": "https://localhost:8080/"
        },
        "id": "1m0kvu8gTslA",
        "outputId": "c74d52f5-c603-4f49-9642-a9704fecc997"
      },
      "execution_count": 8,
      "outputs": [
        {
          "output_type": "stream",
          "name": "stdout",
          "text": [
            "<class 'pandas.core.frame.DataFrame'>\n",
            "RangeIndex: 5875 entries, 0 to 5874\n",
            "Data columns (total 13 columns):\n",
            " #   Column       Non-Null Count  Dtype  \n",
            "---  ------       --------------  -----  \n",
            " 0   subject#     5875 non-null   int64  \n",
            " 1   age          5875 non-null   int64  \n",
            " 2   sex          5875 non-null   int64  \n",
            " 3   test_time    5875 non-null   float64\n",
            " 4   motor_UPDRS  5875 non-null   float64\n",
            " 5   total_UPDRS  5875 non-null   float64\n",
            " 6   Jitter(%)    5875 non-null   float64\n",
            " 7   Shimmer      5875 non-null   float64\n",
            " 8   NHR          5875 non-null   float64\n",
            " 9   HNR          5875 non-null   float64\n",
            " 10  RPDE         5875 non-null   float64\n",
            " 11  DFA          5875 non-null   float64\n",
            " 12  PPE          5875 non-null   float64\n",
            "dtypes: float64(10), int64(3)\n",
            "memory usage: 596.8 KB\n"
          ]
        }
      ]
    },
    {
      "cell_type": "code",
      "source": [
        "# Lectura de Datos\n",
        "columnas_seleccionadas = list(range(0, 5)) + list(range(6, 12))\n",
        "X = data.iloc[:, columnas_seleccionadas]\n",
        "y = data.iloc[:, 5]\n",
        "m = y.size"
      ],
      "metadata": {
        "id": "7ouaX_Se3EV8"
      },
      "execution_count": 9,
      "outputs": []
    },
    {
      "cell_type": "code",
      "source": [
        "print(X)\n",
        "print('*'*25)\n",
        "print(y)"
      ],
      "metadata": {
        "colab": {
          "base_uri": "https://localhost:8080/"
        },
        "id": "sE1kwSZw3mVh",
        "outputId": "89732bc3-c253-40ff-a06b-6fd6cfeef4ef"
      },
      "execution_count": 10,
      "outputs": [
        {
          "output_type": "stream",
          "name": "stdout",
          "text": [
            "      subject#  age  sex  test_time  motor_UPDRS  Jitter(%)  Shimmer  \\\n",
            "0            1   72    0     5.6431       28.199    0.00662  0.02565   \n",
            "1            1   72    0    12.6660       28.447    0.00300  0.02024   \n",
            "2            1   72    0    19.6810       28.695    0.00481  0.01675   \n",
            "3            1   72    0    25.6470       28.905    0.00528  0.02309   \n",
            "4            1   72    0    33.6420       29.187    0.00335  0.01703   \n",
            "...        ...  ...  ...        ...          ...        ...      ...   \n",
            "5870        42   61    0   142.7900       22.485    0.00406  0.01896   \n",
            "5871        42   61    0   149.8400       21.988    0.00297  0.02315   \n",
            "5872        42   61    0   156.8200       21.495    0.00349  0.02499   \n",
            "5873        42   61    0   163.7300       21.007    0.00281  0.01484   \n",
            "5874        42   61    0   170.7300       20.513    0.00282  0.01907   \n",
            "\n",
            "           NHR     HNR     RPDE      DFA  \n",
            "0     0.014290  21.640  0.41888  0.54842  \n",
            "1     0.011112  27.183  0.43493  0.56477  \n",
            "2     0.020220  23.047  0.46222  0.54405  \n",
            "3     0.027837  24.445  0.48730  0.57794  \n",
            "4     0.011625  26.126  0.47188  0.56122  \n",
            "...        ...     ...      ...      ...  \n",
            "5870  0.025137  22.369  0.64215  0.55314  \n",
            "5871  0.011927  22.886  0.52598  0.56518  \n",
            "5872  0.017701  25.065  0.47792  0.57888  \n",
            "5873  0.007984  24.422  0.56865  0.56327  \n",
            "5874  0.008172  23.259  0.58608  0.57077  \n",
            "\n",
            "[5875 rows x 11 columns]\n",
            "*************************\n",
            "0       34.398\n",
            "1       34.894\n",
            "2       35.389\n",
            "3       35.810\n",
            "4       36.375\n",
            "         ...  \n",
            "5870    33.485\n",
            "5871    32.988\n",
            "5872    32.495\n",
            "5873    32.007\n",
            "5874    31.513\n",
            "Name: total_UPDRS, Length: 5875, dtype: float64\n"
          ]
        }
      ]
    },
    {
      "cell_type": "code",
      "source": [
        "#Podemos ver los valores de toda la fila\n",
        "fila_deseada = 2\n",
        "\n",
        "if fila_deseada < len(data):\n",
        "  fila_completa = data.iloc[fila_deseada].to_numpy()\n",
        "  print(fila_completa)\n",
        "else:\n",
        "  print(\"La fila no existe\")"
      ],
      "metadata": {
        "colab": {
          "base_uri": "https://localhost:8080/"
        },
        "id": "rgq9NaCFVkLx",
        "outputId": "9358913b-bc30-43ba-bdc4-956af0fac269"
      },
      "execution_count": 11,
      "outputs": [
        {
          "output_type": "stream",
          "name": "stdout",
          "text": [
            "[1.0000e+00 7.2000e+01 0.0000e+00 1.9681e+01 2.8695e+01 3.5389e+01\n",
            " 4.8100e-03 1.6750e-02 2.0220e-02 2.3047e+01 4.6222e-01 5.4405e-01\n",
            " 2.1014e-01]\n"
          ]
        }
      ]
    },
    {
      "cell_type": "code",
      "source": [
        "def  featureNormalize(X):\n",
        "    X_norm = X.copy()\n",
        "    mu = np.zeros(X.shape[1])\n",
        "    sigma = np.zeros(X.shape[1])\n",
        "\n",
        "    mu = np.mean(X, axis = 0)\n",
        "    sigma = np.std(X, axis = 0)\n",
        "    X_norm = (X - mu) / sigma\n",
        "\n",
        "    return X_norm, mu, sigma"
      ],
      "metadata": {
        "id": "05ej4fCY36zp"
      },
      "execution_count": 12,
      "outputs": []
    },
    {
      "cell_type": "code",
      "source": [
        "# llama featureNormalize con los datos cargados\n",
        "X_norm, mu, sigma = featureNormalize(X)\n",
        "\n",
        "print(X)\n",
        "print('Media calculada:', mu)\n",
        "print('Desviación estandar calculada:', sigma)\n",
        "print(X_norm)"
      ],
      "metadata": {
        "colab": {
          "base_uri": "https://localhost:8080/"
        },
        "id": "YlT98nq139za",
        "outputId": "9ffbab4b-2685-4ce2-b7a6-d3b130c68469"
      },
      "execution_count": 13,
      "outputs": [
        {
          "output_type": "stream",
          "name": "stdout",
          "text": [
            "      subject#  age  sex  test_time  motor_UPDRS  Jitter(%)  Shimmer  \\\n",
            "0            1   72    0     5.6431       28.199    0.00662  0.02565   \n",
            "1            1   72    0    12.6660       28.447    0.00300  0.02024   \n",
            "2            1   72    0    19.6810       28.695    0.00481  0.01675   \n",
            "3            1   72    0    25.6470       28.905    0.00528  0.02309   \n",
            "4            1   72    0    33.6420       29.187    0.00335  0.01703   \n",
            "...        ...  ...  ...        ...          ...        ...      ...   \n",
            "5870        42   61    0   142.7900       22.485    0.00406  0.01896   \n",
            "5871        42   61    0   149.8400       21.988    0.00297  0.02315   \n",
            "5872        42   61    0   156.8200       21.495    0.00349  0.02499   \n",
            "5873        42   61    0   163.7300       21.007    0.00281  0.01484   \n",
            "5874        42   61    0   170.7300       20.513    0.00282  0.01907   \n",
            "\n",
            "           NHR     HNR     RPDE      DFA  \n",
            "0     0.014290  21.640  0.41888  0.54842  \n",
            "1     0.011112  27.183  0.43493  0.56477  \n",
            "2     0.020220  23.047  0.46222  0.54405  \n",
            "3     0.027837  24.445  0.48730  0.57794  \n",
            "4     0.011625  26.126  0.47188  0.56122  \n",
            "...        ...     ...      ...      ...  \n",
            "5870  0.025137  22.369  0.64215  0.55314  \n",
            "5871  0.011927  22.886  0.52598  0.56518  \n",
            "5872  0.017701  25.065  0.47792  0.57888  \n",
            "5873  0.007984  24.422  0.56865  0.56327  \n",
            "5874  0.008172  23.259  0.58608  0.57077  \n",
            "\n",
            "[5875 rows x 11 columns]\n",
            "Media calculada: subject#       21.494128\n",
            "age            64.804936\n",
            "sex             0.317787\n",
            "test_time      92.863722\n",
            "motor_UPDRS    21.296229\n",
            "Jitter(%)       0.006154\n",
            "Shimmer         0.034035\n",
            "NHR             0.032120\n",
            "HNR            21.679495\n",
            "RPDE            0.541473\n",
            "DFA             0.653240\n",
            "dtype: float64\n",
            "Desviación estandar calculada: subject#       12.371226\n",
            "age             8.820773\n",
            "sex             0.465616\n",
            "test_time      53.441053\n",
            "motor_UPDRS     8.128590\n",
            "Jitter(%)       0.005624\n",
            "Shimmer         0.025833\n",
            "NHR             0.059687\n",
            "HNR             4.290731\n",
            "RPDE            0.100977\n",
            "DFA             0.070896\n",
            "dtype: float64\n",
            "      subject#       age       sex  test_time  motor_UPDRS  Jitter(%)  \\\n",
            "0    -1.656596  0.815695 -0.682509  -1.632090     0.849197   0.082905   \n",
            "1    -1.656596  0.815695 -0.682509  -1.500676     0.879706  -0.560793   \n",
            "2    -1.656596  0.815695 -0.682509  -1.369410     0.910216  -0.238944   \n",
            "3    -1.656596  0.815695 -0.682509  -1.257773     0.936051  -0.155370   \n",
            "4    -1.656596  0.815695 -0.682509  -1.108169     0.970743  -0.498557   \n",
            "...        ...       ...       ...        ...          ...        ...   \n",
            "5870  1.657546 -0.431361 -0.682509   0.934231     0.146246  -0.372307   \n",
            "5871  1.657546 -0.431361 -0.682509   1.066152     0.085104  -0.566128   \n",
            "5872  1.657546 -0.431361 -0.682509   1.196763     0.024453  -0.473663   \n",
            "5873  1.657546 -0.431361 -0.682509   1.326064    -0.035582  -0.594579   \n",
            "5874  1.657546 -0.431361 -0.682509   1.457050    -0.096355  -0.592801   \n",
            "\n",
            "       Shimmer       NHR       HNR      RPDE       DFA  \n",
            "0    -0.324594 -0.298721 -0.009205 -1.214066 -1.478500  \n",
            "1    -0.534016 -0.351965  1.282650 -1.055119 -1.247880  \n",
            "2    -0.669115 -0.199370  0.318711 -0.784860 -1.540139  \n",
            "3    -0.423692 -0.071754  0.644530 -0.536487 -1.062115  \n",
            "4    -0.658276 -0.343370  1.036305 -0.689195 -1.297953  \n",
            "...        ...       ...       ...       ...       ...  \n",
            "5870 -0.583565 -0.116990  0.160696  0.997028 -1.411923  \n",
            "5871 -0.421369 -0.338311  0.281189 -0.153430 -1.242097  \n",
            "5872 -0.350143 -0.241573  0.789028 -0.629379 -1.048856  \n",
            "5873 -0.743051 -0.404372  0.639170  0.269141 -1.269038  \n",
            "5874 -0.579307 -0.401222  0.368120  0.441754 -1.163249  \n",
            "\n",
            "[5875 rows x 11 columns]\n"
          ]
        }
      ]
    },
    {
      "cell_type": "code",
      "source": [
        "# Añade el termino de interseccion a X\n",
        "# (Columna de unos para X0)\n",
        "X = np.concatenate([np.ones((m, 1)), X_norm], axis=1)"
      ],
      "metadata": {
        "id": "DR0YVnV-4Rhy"
      },
      "execution_count": 14,
      "outputs": []
    },
    {
      "cell_type": "code",
      "source": [
        "print(X)"
      ],
      "metadata": {
        "colab": {
          "base_uri": "https://localhost:8080/"
        },
        "id": "sEvxXIem4WaK",
        "outputId": "c763dc24-11d6-4806-f751-d7dfb58e51de"
      },
      "execution_count": 15,
      "outputs": [
        {
          "output_type": "stream",
          "name": "stdout",
          "text": [
            "[[ 1.         -1.65659628  0.81569539 ... -0.00920476 -1.21406557\n",
            "  -1.47849968]\n",
            " [ 1.         -1.65659628  0.81569539 ...  1.28264969 -1.05511879\n",
            "  -1.24788006]\n",
            " [ 1.         -1.65659628  0.81569539 ...  0.31871139 -0.78485974\n",
            "  -1.5401393 ]\n",
            " ...\n",
            " [ 1.          1.65754564 -0.43136086 ...  0.78902751 -0.62937908\n",
            "  -1.04885603]\n",
            " [ 1.          1.65754564 -0.43136086 ...  0.6391696   0.26914065\n",
            "  -1.26903782]\n",
            " [ 1.          1.65754564 -0.43136086 ...  0.36812022  0.44175389\n",
            "  -1.163249  ]]\n"
          ]
        }
      ]
    },
    {
      "cell_type": "code",
      "source": [
        "def computeCostMulti(X, y, theta):\n",
        "    # Inicializa algunos valores utiles\n",
        "    m = y.shape[0] # numero de ejemplos de entrenamiento\n",
        "\n",
        "    J = 0\n",
        "\n",
        "    h = np.dot(X, theta)\n",
        "\n",
        "    J = (1/(2 * m)) * np.sum(np.square(np.dot(X, theta) - y))\n",
        "\n",
        "    return J"
      ],
      "metadata": {
        "id": "VIkD8KRn4Zgj"
      },
      "execution_count": 16,
      "outputs": []
    },
    {
      "cell_type": "code",
      "source": [
        "def gradientDescentMulti(X, y, theta, alpha, num_iters):\n",
        "\n",
        "    # Inicializa algunos valores\n",
        "    m = y.shape[0] # numero de ejemplos de entrenamiento\n",
        "\n",
        "    # realiza una copia de theta, el cual será acutalizada por el descenso por el gradiente\n",
        "    theta = theta.copy()\n",
        "\n",
        "    J_history = []\n",
        "\n",
        "    for i in range(num_iters):\n",
        "        theta = theta - (alpha / m) * (np.dot(X, theta) - y).dot(X)\n",
        "        J_history.append(computeCostMulti(X, y, theta))\n",
        "\n",
        "    return theta, J_history"
      ],
      "metadata": {
        "id": "YHubmInq4cPY"
      },
      "execution_count": 17,
      "outputs": []
    },
    {
      "cell_type": "code",
      "source": [
        "# Elegir algun valor para alpha (probar varias alternativas)\n",
        "alpha = 0.001\n",
        "num_iters = 5000\n",
        "\n",
        "# inicializa theta y ejecuta el descenso por el gradiente\n",
        "theta = np.zeros(12)\n",
        "theta, J_history = gradientDescentMulti(X, y, theta, alpha, num_iters)\n",
        "\n",
        "# Grafica la convergencia del costo\n",
        "pyplot.plot(np.arange(len(J_history)), J_history, lw=2)\n",
        "pyplot.xlabel('Numero de iteraciones')\n",
        "pyplot.ylabel('Costo J')\n",
        "\n",
        "# Muestra los resultados del descenso por el gradiente\n",
        "print('theta calculado por el descenso por el gradiente: {:s}'.format(str(theta)))\n",
        "\n",
        "# Estimar el precio para un auto Ford en distintas caracteristicas\n",
        "X_array = [1, 1, 72, 0,5.6431, 28.199, 0.00662, 0.02565, 0.01429, 21.640, 0.4188, 0.54842]\n",
        "X_array[1:12] = (X_array[1:12] - mu) / sigma\n",
        "total_escala_parkinson = np.dot(X_array, theta)   # Se debe cambiar esto\n",
        "\n",
        "print('El total_escala_parkinson predecido es (usando el descenso por el gradiente): {:.4f}'.format(total_escala_parkinson))"
      ],
      "metadata": {
        "colab": {
          "base_uri": "https://localhost:8080/",
          "height": 529
        },
        "id": "KP0aqO2u4i-G",
        "outputId": "24a48371-f943-49f5-9cdc-ce1f5de338c5"
      },
      "execution_count": 18,
      "outputs": [
        {
          "output_type": "stream",
          "name": "stdout",
          "text": [
            "theta calculado por el descenso por el gradiente: [28.82390272  0.6967966   0.71013061 -0.92866744  0.17643756  9.48647203\n",
            "  0.09052298 -0.29304096 -0.22784374 -0.36057394  0.21037066 -0.44999792]\n",
            "El total_escala_parkinson predecido es (usando el descenso por el gradiente): 37.2343\n"
          ]
        },
        {
          "output_type": "display_data",
          "data": {
            "text/plain": [
              "<Figure size 640x480 with 1 Axes>"
            ],
            "image/png": "[encoded data removed]"
          },
          "metadata": {}
        }
      ]
    },
    {
      "cell_type": "code",
      "source": [
        "# Generar un nuevo dataset con la columna movida\n",
        "nuevo_dataset = data.copy()\n",
        "\n",
        "# Guardar el nuevo DataFrame en un archivo CSV\n",
        "nuevo_dataset.to_csv('parkinsons_updrsnuevo.csv', index=False)\n",
        "\n",
        "print(\"Archivo 'parkinsons_updrsnuevo.csv' creado exitosamente.\")"
      ],
      "metadata": {
        "colab": {
          "base_uri": "https://localhost:8080/"
        },
        "id": "181I-9xtcGZH",
        "outputId": "e47b38c0-737b-4829-e500-ab7ae4a9b3e8"
      },
      "execution_count": 19,
      "outputs": [
        {
          "output_type": "stream",
          "name": "stdout",
          "text": [
            "Archivo 'parkinsons_updrsnuevo.csv' creado exitosamente.\n"
          ]
        }
      ]
    },
    {
      "cell_type": "code",
      "source": [
        "#Carga de dataset\n",
        "data = pd.read_csv('parkinsons_updrsnuevo.csv')"
      ],
      "metadata": {
        "id": "jffZ0y4Fcf3G"
      },
      "execution_count": 20,
      "outputs": []
    },
    {
      "cell_type": "code",
      "source": [
        "print(data)\n"
      ],
      "metadata": {
        "colab": {
          "base_uri": "https://localhost:8080/"
        },
        "id": "TzuKgIFTcnOg",
        "outputId": "ad7ce59d-0642-44b3-8ae1-5f4b8958a228"
      },
      "execution_count": 21,
      "outputs": [
        {
          "output_type": "stream",
          "name": "stdout",
          "text": [
            "      subject#  age  sex  test_time  motor_UPDRS  total_UPDRS  Jitter(%)  \\\n",
            "0            1   72    0     5.6431       28.199       34.398    0.00662   \n",
            "1            1   72    0    12.6660       28.447       34.894    0.00300   \n",
            "2            1   72    0    19.6810       28.695       35.389    0.00481   \n",
            "3            1   72    0    25.6470       28.905       35.810    0.00528   \n",
            "4            1   72    0    33.6420       29.187       36.375    0.00335   \n",
            "...        ...  ...  ...        ...          ...          ...        ...   \n",
            "5870        42   61    0   142.7900       22.485       33.485    0.00406   \n",
            "5871        42   61    0   149.8400       21.988       32.988    0.00297   \n",
            "5872        42   61    0   156.8200       21.495       32.495    0.00349   \n",
            "5873        42   61    0   163.7300       21.007       32.007    0.00281   \n",
            "5874        42   61    0   170.7300       20.513       31.513    0.00282   \n",
            "\n",
            "      Shimmer       NHR     HNR     RPDE      DFA      PPE  \n",
            "0     0.02565  0.014290  21.640  0.41888  0.54842  0.16006  \n",
            "1     0.02024  0.011112  27.183  0.43493  0.56477  0.10810  \n",
            "2     0.01675  0.020220  23.047  0.46222  0.54405  0.21014  \n",
            "3     0.02309  0.027837  24.445  0.48730  0.57794  0.33277  \n",
            "4     0.01703  0.011625  26.126  0.47188  0.56122  0.19361  \n",
            "...       ...       ...     ...      ...      ...      ...  \n",
            "5870  0.01896  0.025137  22.369  0.64215  0.55314  0.21367  \n",
            "5871  0.02315  0.011927  22.886  0.52598  0.56518  0.12621  \n",
            "5872  0.02499  0.017701  25.065  0.47792  0.57888  0.14157  \n",
            "5873  0.01484  0.007984  24.422  0.56865  0.56327  0.14204  \n",
            "5874  0.01907  0.008172  23.259  0.58608  0.57077  0.15336  \n",
            "\n",
            "[5875 rows x 13 columns]\n"
          ]
        }
      ]
    },
    {
      "cell_type": "code",
      "source": [
        "# Lectura de Datos\n",
        "columnas_seleccionadas = list(range(0, 5)) + list(range(6, 12))\n",
        "X = data.iloc[:, columnas_seleccionadas]\n",
        "y = data.iloc[:, 5]\n",
        "m = y.size"
      ],
      "metadata": {
        "id": "eFqQw7QGcqpo"
      },
      "execution_count": 22,
      "outputs": []
    },
    {
      "cell_type": "code",
      "source": [
        "print(X)\n",
        "print('*'*25)\n",
        "print(y)"
      ],
      "metadata": {
        "colab": {
          "base_uri": "https://localhost:8080/"
        },
        "id": "XH45OeXqdAtP",
        "outputId": "baaff707-1ee9-41ee-8544-fc1471efadc1"
      },
      "execution_count": 23,
      "outputs": [
        {
          "output_type": "stream",
          "name": "stdout",
          "text": [
            "      subject#  age  sex  test_time  motor_UPDRS  Jitter(%)  Shimmer  \\\n",
            "0            1   72    0     5.6431       28.199    0.00662  0.02565   \n",
            "1            1   72    0    12.6660       28.447    0.00300  0.02024   \n",
            "2            1   72    0    19.6810       28.695    0.00481  0.01675   \n",
            "3            1   72    0    25.6470       28.905    0.00528  0.02309   \n",
            "4            1   72    0    33.6420       29.187    0.00335  0.01703   \n",
            "...        ...  ...  ...        ...          ...        ...      ...   \n",
            "5870        42   61    0   142.7900       22.485    0.00406  0.01896   \n",
            "5871        42   61    0   149.8400       21.988    0.00297  0.02315   \n",
            "5872        42   61    0   156.8200       21.495    0.00349  0.02499   \n",
            "5873        42   61    0   163.7300       21.007    0.00281  0.01484   \n",
            "5874        42   61    0   170.7300       20.513    0.00282  0.01907   \n",
            "\n",
            "           NHR     HNR     RPDE      DFA  \n",
            "0     0.014290  21.640  0.41888  0.54842  \n",
            "1     0.011112  27.183  0.43493  0.56477  \n",
            "2     0.020220  23.047  0.46222  0.54405  \n",
            "3     0.027837  24.445  0.48730  0.57794  \n",
            "4     0.011625  26.126  0.47188  0.56122  \n",
            "...        ...     ...      ...      ...  \n",
            "5870  0.025137  22.369  0.64215  0.55314  \n",
            "5871  0.011927  22.886  0.52598  0.56518  \n",
            "5872  0.017701  25.065  0.47792  0.57888  \n",
            "5873  0.007984  24.422  0.56865  0.56327  \n",
            "5874  0.008172  23.259  0.58608  0.57077  \n",
            "\n",
            "[5875 rows x 11 columns]\n",
            "*************************\n",
            "0       34.398\n",
            "1       34.894\n",
            "2       35.389\n",
            "3       35.810\n",
            "4       36.375\n",
            "         ...  \n",
            "5870    33.485\n",
            "5871    32.988\n",
            "5872    32.495\n",
            "5873    32.007\n",
            "5874    31.513\n",
            "Name: total_UPDRS, Length: 5875, dtype: float64\n"
          ]
        }
      ]
    },
    {
      "cell_type": "code",
      "source": [
        "X = np.concatenate([np.ones((m, 1)), X], axis=1)"
      ],
      "metadata": {
        "id": "qRu-6AisdFXJ"
      },
      "execution_count": 24,
      "outputs": []
    },
    {
      "cell_type": "code",
      "source": [
        "# importante que para usar m>n, evitar datos redundantes, no se normaliza\n",
        "def normalEqn(X, y):\n",
        "\n",
        "    theta = np.zeros(X.shape[1])\n",
        "\n",
        "    theta = np.dot(np.dot(np.linalg.inv(np.dot(X.T,X)),X.T),y)\n",
        "\n",
        "    return theta"
      ],
      "metadata": {
        "id": "sCi0bNpGdMR4"
      },
      "execution_count": 25,
      "outputs": []
    },
    {
      "cell_type": "code",
      "source": [
        "# Calcula los parametros con la ecuación de la normal\n",
        "theta = normalEqn(X, y);\n",
        "\n",
        "# Muestra los resultados optenidos a partir de la aplicación de la ecuación de la normal\n",
        "print('Theta calculado a partir de la ecuación de la normal: {:s}'.format(str(theta)));\n",
        "\n",
        "# Estimar el precio para una casa de superficie de 1650 sq-ft y tres dormitorios\n",
        "\n",
        "X_array = [1, 1, 72, 0,5.6431, 28.199, 0.00662, 0.02565, 0.01429, 21.640, 0.4188, 0.54842]\n",
        "total_escala_parkinson = np.dot(X_array, theta)\n",
        "\n",
        "print('total_escala_parkinson predecido): ${:.0f}'.format(total_escala_parkinson))"
      ],
      "metadata": {
        "colab": {
          "base_uri": "https://localhost:8080/"
        },
        "id": "OKPXIyG3dOm3",
        "outputId": "ea28eec4-1f11-498d-9b60-35a3bbd10039"
      },
      "execution_count": 26,
      "outputs": [
        {
          "output_type": "stream",
          "name": "stdout",
          "text": [
            "Theta calculado a partir de la ecuación de la normal: [ 2.37936569e+00  4.04657947e-02  6.70044700e-02 -1.79602274e+00\n",
            "  2.54384674e-03  1.19840704e+00 -5.26131001e+00 -1.46102233e+01\n",
            " -2.18097678e-01 -7.53888046e-02  2.06966198e+00 -4.14714483e+00]\n",
            "total_escala_parkinson predecido): $38\n"
          ]
        }
      ]
    }
  ]
}